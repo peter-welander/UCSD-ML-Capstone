{
 "cells": [
  {
   "cell_type": "markdown",
   "id": "30ccb2bd-94fb-4516-9101-b1eb62f3be09",
   "metadata": {},
   "source": [
    "# Step 10: Study Advanced units.\n",
    "\n",
    "In this notebook we look at how some of the approaches from the advanced units can help. In particular we explore the **Advanced Deep Learning** section. "
   ]
  },
  {
   "cell_type": "markdown",
   "id": "389f6c3d-9458-444d-80f3-b860f69c0595",
   "metadata": {},
   "source": [
    "## Setup\n",
    "\n",
    "Let's start by loading in our dataset."
   ]
  },
  {
   "cell_type": "code",
   "execution_count": 1,
   "id": "2fec1d4b-1232-4d14-87ca-3c11ba061de4",
   "metadata": {
    "tags": []
   },
   "outputs": [],
   "source": [
    "import numpy as np\n",
    "import matplotlib.pyplot as plt \n",
    "import tensorflow as tf\n",
    "import tensorflow_hub as hub\n",
    "\n",
    "from tensorflow import keras\n",
    "from tensorflow.keras import layers\n",
    "from tensorboard.plugins.hparams import api as hp"
   ]
  },
  {
   "cell_type": "code",
   "execution_count": 2,
   "id": "d6d4e1d2-ae2c-4519-b43f-5046528dde87",
   "metadata": {
    "tags": []
   },
   "outputs": [
    {
     "data": {
      "text/plain": [
       "WindowsPath('E:/school/UCSD-ML-Capstone/images/Flowers5')"
      ]
     },
     "execution_count": 2,
     "metadata": {},
     "output_type": "execute_result"
    }
   ],
   "source": [
    "import pathlib\n",
    "import os.path\n",
    "\n",
    "data_dir =  pathlib.Path(os.path.abspath(\"images/Flowers5/\"))\n",
    "data_dir"
   ]
  },
  {
   "cell_type": "code",
   "execution_count": 3,
   "id": "908dde27-88b6-459e-b0c5-c9ad8b425805",
   "metadata": {
    "tags": []
   },
   "outputs": [],
   "source": [
    "batch_size = 32\n",
    "epochs=25\n",
    "img_height = 192\n",
    "img_width = 192"
   ]
  },
  {
   "cell_type": "code",
   "execution_count": 4,
   "id": "2f8a8856-8d54-416d-ab41-e15df133184c",
   "metadata": {
    "tags": []
   },
   "outputs": [
    {
     "name": "stdout",
     "output_type": "stream",
     "text": [
      "Found 1857 files belonging to 5 classes.\n",
      "Using 1486 files for training.\n",
      "Using 371 files for validation.\n"
     ]
    }
   ],
   "source": [
    "train_ds, val_ds = tf.keras.utils.image_dataset_from_directory(data_dir, validation_split=0.2, subset=\"both\", seed=123,\n",
    "                                                               image_size=(img_height, img_width), batch_size=batch_size)"
   ]
  },
  {
   "cell_type": "code",
   "execution_count": 5,
   "id": "ef0b79bf-3625-47e4-90ce-4625882e7fea",
   "metadata": {
    "tags": []
   },
   "outputs": [
    {
     "name": "stdout",
     "output_type": "stream",
     "text": [
      "['Calceolaria', 'Daffodil', 'Freesia', 'Hibiscus', 'Iris']\n"
     ]
    }
   ],
   "source": [
    "class_names = train_ds.class_names\n",
    "num_classes = len(class_names)\n",
    "num_classes\n",
    "print(class_names)"
   ]
  },
  {
   "cell_type": "code",
   "execution_count": 6,
   "id": "7e2dcb94-f429-4d39-97d0-a71325b2db26",
   "metadata": {
    "tags": []
   },
   "outputs": [],
   "source": [
    "model_url = 'https://tfhub.dev/google/bit/s-r50x1/1'\n",
    "base_model = hub.KerasLayer(model_url)"
   ]
  },
  {
   "cell_type": "markdown",
   "id": "f9fb7d45-1e5a-4f87-af1a-a973b09cfa15",
   "metadata": {},
   "source": [
    "## Transfer Learning\n",
    "\n",
    "I found transfer learning to be very useful in improving my model. To revisit that let's see how big of a difference it can make."
   ]
  },
  {
   "cell_type": "code",
   "execution_count": 14,
   "id": "853ec8b1-3d97-44b5-b331-a63fbf36afdc",
   "metadata": {
    "tags": []
   },
   "outputs": [],
   "source": [
    "model_without_transfer = tf.keras.Sequential([\n",
    "    layers.Rescaling(1./255),\n",
    "        layers.Conv2D(16, 3, padding='same', activation='relu'),\n",
    "        layers.MaxPooling2D(),\n",
    "        layers.Conv2D(32, 3, padding='same', activation='relu'),\n",
    "        layers.MaxPooling2D(),\n",
    "        layers.Conv2D(64, 3, padding='same', activation='relu'),\n",
    "        layers.MaxPooling2D(),\n",
    "        layers.Dropout(0.2),\n",
    "        layers.Flatten(),\n",
    "        layers.Dense(32, activation='relu'),\n",
    "        layers.Dense(num_classes),\n",
    "])\n",
    "\n",
    "model_without_transfer.compile(\n",
    "  optimizer='adam',\n",
    "  loss=tf.keras.losses.SparseCategoricalCrossentropy(from_logits=True),\n",
    "  metrics=['accuracy'])\n",
    "\n",
    "\n",
    "model_with_transfer = tf.keras.Sequential([\n",
    "    layers.Rescaling(1./255),\n",
    "    base_model,\n",
    "    layers.Dense(32, activation='relu'),\n",
    "    layers.Dropout(0.1),\n",
    "    layers.Dense(len(train_ds.class_names)),\n",
    "])\n",
    "model_with_transfer.compile(\n",
    "    optimizer='adam',\n",
    "    loss=tf.keras.losses.SparseCategoricalCrossentropy(from_logits=True),\n",
    "    metrics=['accuracy'],\n",
    ")"
   ]
  },
  {
   "cell_type": "code",
   "execution_count": 16,
   "id": "1ae93d94-923f-4f78-9a9c-89f28b54f438",
   "metadata": {},
   "outputs": [
    {
     "name": "stdout",
     "output_type": "stream",
     "text": [
      "Epoch 1/25\n",
      "47/47 [==============================] - 19s 389ms/step - loss: 1.4597 - accuracy: 0.4112 - val_loss: 1.1722 - val_accuracy: 0.5256\n",
      "Epoch 2/25\n",
      "47/47 [==============================] - 18s 387ms/step - loss: 1.0170 - accuracy: 0.6070 - val_loss: 0.9249 - val_accuracy: 0.6604\n",
      "Epoch 3/25\n",
      "47/47 [==============================] - 18s 387ms/step - loss: 0.8040 - accuracy: 0.7153 - val_loss: 0.8032 - val_accuracy: 0.6981\n",
      "Epoch 4/25\n",
      "47/47 [==============================] - 18s 390ms/step - loss: 0.6018 - accuracy: 0.7968 - val_loss: 0.7361 - val_accuracy: 0.7305\n",
      "Epoch 5/25\n",
      "47/47 [==============================] - 18s 391ms/step - loss: 0.4408 - accuracy: 0.8526 - val_loss: 0.5819 - val_accuracy: 0.7736\n",
      "Epoch 6/25\n",
      "47/47 [==============================] - 18s 391ms/step - loss: 0.2842 - accuracy: 0.9092 - val_loss: 0.5066 - val_accuracy: 0.8248\n",
      "Epoch 7/25\n",
      "47/47 [==============================] - 18s 391ms/step - loss: 0.1607 - accuracy: 0.9556 - val_loss: 0.5606 - val_accuracy: 0.8464\n",
      "Epoch 8/25\n",
      "47/47 [==============================] - 18s 391ms/step - loss: 0.1039 - accuracy: 0.9717 - val_loss: 0.5589 - val_accuracy: 0.8329\n",
      "Epoch 9/25\n",
      "47/47 [==============================] - 19s 393ms/step - loss: 0.0560 - accuracy: 0.9872 - val_loss: 0.4985 - val_accuracy: 0.8760\n",
      "Epoch 10/25\n",
      "47/47 [==============================] - 19s 397ms/step - loss: 0.0420 - accuracy: 0.9899 - val_loss: 0.5696 - val_accuracy: 0.8544\n",
      "Epoch 11/25\n",
      "47/47 [==============================] - 19s 395ms/step - loss: 0.0711 - accuracy: 0.9805 - val_loss: 0.8111 - val_accuracy: 0.8464\n",
      "Epoch 12/25\n",
      "47/47 [==============================] - 19s 395ms/step - loss: 0.0543 - accuracy: 0.9859 - val_loss: 0.6108 - val_accuracy: 0.8706\n",
      "Epoch 13/25\n",
      "47/47 [==============================] - 19s 396ms/step - loss: 0.0285 - accuracy: 0.9913 - val_loss: 0.6409 - val_accuracy: 0.8787\n",
      "Epoch 14/25\n",
      "47/47 [==============================] - 19s 396ms/step - loss: 0.0120 - accuracy: 0.9980 - val_loss: 0.6837 - val_accuracy: 0.8868\n",
      "Epoch 15/25\n",
      "47/47 [==============================] - 22s 466ms/step - loss: 0.0072 - accuracy: 0.9973 - val_loss: 0.6928 - val_accuracy: 0.8679\n",
      "Epoch 16/25\n",
      "47/47 [==============================] - 19s 396ms/step - loss: 0.0489 - accuracy: 0.9872 - val_loss: 1.2434 - val_accuracy: 0.7358\n",
      "Epoch 17/25\n",
      "47/47 [==============================] - 19s 394ms/step - loss: 0.1104 - accuracy: 0.9684 - val_loss: 0.7349 - val_accuracy: 0.8544\n",
      "Epoch 18/25\n",
      "47/47 [==============================] - 19s 395ms/step - loss: 0.0302 - accuracy: 0.9906 - val_loss: 0.8148 - val_accuracy: 0.8571\n",
      "Epoch 19/25\n",
      "47/47 [==============================] - 19s 397ms/step - loss: 0.0152 - accuracy: 0.9953 - val_loss: 0.9115 - val_accuracy: 0.8544\n",
      "Epoch 20/25\n",
      "47/47 [==============================] - 19s 396ms/step - loss: 0.0117 - accuracy: 0.9980 - val_loss: 0.7963 - val_accuracy: 0.8598\n",
      "Epoch 21/25\n",
      "47/47 [==============================] - 19s 396ms/step - loss: 0.0063 - accuracy: 0.9987 - val_loss: 0.8822 - val_accuracy: 0.8625\n",
      "Epoch 22/25\n",
      "47/47 [==============================] - 19s 397ms/step - loss: 0.0048 - accuracy: 0.9980 - val_loss: 0.8869 - val_accuracy: 0.8571\n",
      "Epoch 23/25\n",
      "47/47 [==============================] - 19s 398ms/step - loss: 0.0033 - accuracy: 0.9987 - val_loss: 0.8855 - val_accuracy: 0.8598\n",
      "Epoch 24/25\n",
      "47/47 [==============================] - 19s 398ms/step - loss: 0.0018 - accuracy: 1.0000 - val_loss: 0.8380 - val_accuracy: 0.8706\n",
      "Epoch 25/25\n",
      "47/47 [==============================] - 19s 399ms/step - loss: 7.0081e-04 - accuracy: 1.0000 - val_loss: 0.8584 - val_accuracy: 0.8706\n"
     ]
    }
   ],
   "source": [
    "history_without_transfer = model_without_transfer.fit(train_ds, validation_data=val_ds, epochs=25, verbose=1)"
   ]
  },
  {
   "cell_type": "code",
   "execution_count": 15,
   "id": "0095b219-8322-4a88-80fd-2a4ffad5899d",
   "metadata": {},
   "outputs": [
    {
     "name": "stdout",
     "output_type": "stream",
     "text": [
      "Epoch 1/25\n",
      "47/47 [==============================] - 133s 3s/step - loss: 0.7938 - accuracy: 0.7052 - val_loss: 0.3865 - val_accuracy: 0.8868\n",
      "Epoch 2/25\n",
      "47/47 [==============================] - 122s 3s/step - loss: 0.3641 - accuracy: 0.8809 - val_loss: 0.2926 - val_accuracy: 0.9030\n",
      "Epoch 3/25\n",
      "47/47 [==============================] - 110s 2s/step - loss: 0.2701 - accuracy: 0.9098 - val_loss: 0.2530 - val_accuracy: 0.9164\n",
      "Epoch 4/25\n",
      "47/47 [==============================] - 110s 2s/step - loss: 0.1985 - accuracy: 0.9361 - val_loss: 0.2240 - val_accuracy: 0.9272\n",
      "Epoch 5/25\n",
      "47/47 [==============================] - 110s 2s/step - loss: 0.1633 - accuracy: 0.9529 - val_loss: 0.1916 - val_accuracy: 0.9326\n",
      "Epoch 6/25\n",
      "47/47 [==============================] - 110s 2s/step - loss: 0.1237 - accuracy: 0.9650 - val_loss: 0.1660 - val_accuracy: 0.9461\n",
      "Epoch 7/25\n",
      "47/47 [==============================] - 110s 2s/step - loss: 0.0869 - accuracy: 0.9812 - val_loss: 0.1567 - val_accuracy: 0.9488\n",
      "Epoch 8/25\n",
      "47/47 [==============================] - 110s 2s/step - loss: 0.0820 - accuracy: 0.9838 - val_loss: 0.1506 - val_accuracy: 0.9380\n",
      "Epoch 9/25\n",
      "47/47 [==============================] - 110s 2s/step - loss: 0.0765 - accuracy: 0.9812 - val_loss: 0.1413 - val_accuracy: 0.9542\n",
      "Epoch 10/25\n",
      "47/47 [==============================] - 110s 2s/step - loss: 0.0544 - accuracy: 0.9926 - val_loss: 0.1361 - val_accuracy: 0.9542\n",
      "Epoch 11/25\n",
      "47/47 [==============================] - 110s 2s/step - loss: 0.0525 - accuracy: 0.9899 - val_loss: 0.1273 - val_accuracy: 0.9515\n",
      "Epoch 12/25\n",
      "47/47 [==============================] - 110s 2s/step - loss: 0.0522 - accuracy: 0.9852 - val_loss: 0.1399 - val_accuracy: 0.9515\n",
      "Epoch 13/25\n",
      "47/47 [==============================] - 110s 2s/step - loss: 0.0429 - accuracy: 0.9913 - val_loss: 0.1347 - val_accuracy: 0.9596\n",
      "Epoch 14/25\n",
      "47/47 [==============================] - 110s 2s/step - loss: 0.0404 - accuracy: 0.9919 - val_loss: 0.1192 - val_accuracy: 0.9569\n",
      "Epoch 15/25\n",
      "47/47 [==============================] - 110s 2s/step - loss: 0.0336 - accuracy: 0.9946 - val_loss: 0.1236 - val_accuracy: 0.9596\n",
      "Epoch 16/25\n",
      "47/47 [==============================] - 111s 2s/step - loss: 0.0311 - accuracy: 0.9946 - val_loss: 0.1112 - val_accuracy: 0.9623\n",
      "Epoch 17/25\n",
      "47/47 [==============================] - 111s 2s/step - loss: 0.0287 - accuracy: 0.9953 - val_loss: 0.1156 - val_accuracy: 0.9542\n",
      "Epoch 18/25\n",
      "47/47 [==============================] - 111s 2s/step - loss: 0.0308 - accuracy: 0.9933 - val_loss: 0.1144 - val_accuracy: 0.9650\n",
      "Epoch 19/25\n",
      "47/47 [==============================] - 111s 2s/step - loss: 0.0249 - accuracy: 0.9960 - val_loss: 0.1133 - val_accuracy: 0.9623\n",
      "Epoch 20/25\n",
      "47/47 [==============================] - 111s 2s/step - loss: 0.0256 - accuracy: 0.9939 - val_loss: 0.1122 - val_accuracy: 0.9596\n",
      "Epoch 21/25\n",
      "47/47 [==============================] - 111s 2s/step - loss: 0.0199 - accuracy: 0.9960 - val_loss: 0.1203 - val_accuracy: 0.9596\n",
      "Epoch 22/25\n",
      "47/47 [==============================] - 111s 2s/step - loss: 0.0154 - accuracy: 0.9960 - val_loss: 0.1169 - val_accuracy: 0.9569\n",
      "Epoch 23/25\n",
      "47/47 [==============================] - 111s 2s/step - loss: 0.0188 - accuracy: 0.9973 - val_loss: 0.1181 - val_accuracy: 0.9650\n",
      "Epoch 24/25\n",
      "47/47 [==============================] - 111s 2s/step - loss: 0.0226 - accuracy: 0.9946 - val_loss: 0.1281 - val_accuracy: 0.9623\n",
      "Epoch 25/25\n",
      "47/47 [==============================] - 111s 2s/step - loss: 0.0170 - accuracy: 0.9966 - val_loss: 0.1277 - val_accuracy: 0.9677\n"
     ]
    }
   ],
   "source": [
    "history_with_transfer = model_with_transfer.fit(train_ds, validation_data=val_ds, epochs=25, verbose=1)"
   ]
  },
  {
   "cell_type": "code",
   "execution_count": 19,
   "id": "ef84f82b-bd67-4f20-bbca-1b45c5d46c31",
   "metadata": {
    "tags": []
   },
   "outputs": [
    {
     "data": {
      "image/png": "[encoded data removed]",
      "text/plain": [
       "<Figure size 640x480 with 1 Axes>"
      ]
     },
     "metadata": {},
     "output_type": "display_data"
    }
   ],
   "source": [
    "plt.plot(history_without_transfer.history['accuracy'], label = 'without transfer')\n",
    "plt.plot(history_with_transfer.history['accuracy'], label = 'with transfer')\n",
    "plt.xlabel('epoch')\n",
    "plt.legend()\n",
    "plt.title('accuracy')\n",
    "plt.show()"
   ]
  },
  {
   "cell_type": "code",
   "execution_count": 20,
   "id": "6574d8b3-8c7a-4622-9157-f8e9b2b65ddf",
   "metadata": {
    "tags": []
   },
   "outputs": [
    {
     "data": {
      "image/png": "[encoded data removed]",
      "text/plain": [
       "<Figure size 640x480 with 1 Axes>"
      ]
     },
     "metadata": {},
     "output_type": "display_data"
    }
   ],
   "source": [
    "plt.plot(history_without_transfer.history['val_accuracy'], label = 'without transfer')\n",
    "plt.plot(history_with_transfer.history['val_accuracy'], label = 'with transfer')\n",
    "plt.xlabel('epoch')\n",
    "plt.legend()\n",
    "plt.title('validation accuracy')\n",
    "plt.show()"
   ]
  },
  {
   "cell_type": "markdown",
   "id": "bd88ca15-1893-408c-8a9a-5c52ba719ca1",
   "metadata": {},
   "source": [
    "### Results\n",
    "\n",
    "Transfer learning made it a lot easier to learn, and the model was far less biased."
   ]
  },
  {
   "cell_type": "markdown",
   "id": "f61bacac-1630-4149-bcf7-97477c85493d",
   "metadata": {
    "tags": []
   },
   "source": [
    "## Hyper-tuning"
   ]
  },
  {
   "cell_type": "code",
   "execution_count": null,
   "id": "6db0469d-3f51-4453-9209-1eb3790d0499",
   "metadata": {},
   "outputs": [],
   "source": []
  }
 ],
 "metadata": {
  "kernelspec": {
   "display_name": "Python 3 (ipykernel)",
   "language": "python",
   "name": "python3"
  },
  "language_info": {
   "codemirror_mode": {
    "name": "ipython",
    "version": 3
   },
   "file_extension": ".py",
   "mimetype": "text/x-python",
   "name": "python",
   "nbconvert_exporter": "python",
   "pygments_lexer": "ipython3",
   "version": "3.10.10"
  }
 },
 "nbformat": 4,
 "nbformat_minor": 5
}
