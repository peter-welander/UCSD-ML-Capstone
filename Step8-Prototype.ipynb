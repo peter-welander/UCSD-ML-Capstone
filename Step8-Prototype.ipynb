{
 "cells": [
  {
   "cell_type": "markdown",
   "id": "b259687d-1612-455a-b1c0-ed0249320512",
   "metadata": {},
   "source": [
    "# Step 8: Prototyping.\n",
    "\n",
    "In the previous section we selected our base model, but did not finely tune it. We achieved a an accuracy of 99.1%, validation accuracy of 91.6%, and our F1 score was 0.915. In this section let's see if we can tune hyper parameters to improve on this result."
   ]
  },
  {
   "cell_type": "code",
   "execution_count": 2,
   "id": "53d1e422-0bc7-43eb-b6e4-593211c496e1",
   "metadata": {},
   "outputs": [],
   "source": [
    "%load_ext tensorboard"
   ]
  },
  {
   "cell_type": "code",
   "execution_count": 10,
   "id": "f8936b58-4460-44e4-a076-ba1c8b7092d1",
   "metadata": {
    "tags": []
   },
   "outputs": [],
   "source": [
    "import numpy as np\n",
    "import matplotlib.pyplot as plt \n",
    "import tensorflow as tf\n",
    "import tensorflow_hub as hub\n",
    "\n",
    "from tensorflow import keras\n",
    "from tensorflow.keras import layers\n",
    "from tensorboard.plugins.hparams import api as hp"
   ]
  },
  {
   "cell_type": "markdown",
   "id": "77cd3e81-6081-4c19-9998-7d52a82a46d1",
   "metadata": {
    "tags": []
   },
   "source": [
    "## 8.1: Loading the data"
   ]
  },
  {
   "cell_type": "code",
   "execution_count": 11,
   "id": "7f34c5c5-5755-4d57-a12b-bae616cbb47b",
   "metadata": {
    "tags": []
   },
   "outputs": [
    {
     "data": {
      "text/plain": [
       "WindowsPath('E:/school/UCSD-ML-Capstone/images/Flowers5')"
      ]
     },
     "execution_count": 11,
     "metadata": {},
     "output_type": "execute_result"
    }
   ],
   "source": [
    "import pathlib\n",
    "import os.path\n",
    "\n",
    "data_dir =  pathlib.Path(os.path.abspath(\"images/Flowers5/\"))\n",
    "data_dir"
   ]
  },
  {
   "cell_type": "code",
   "execution_count": 12,
   "id": "9760e7e1-911f-442a-bd2a-ec14ded6d52e",
   "metadata": {
    "tags": []
   },
   "outputs": [],
   "source": [
    "batch_size = 32\n",
    "epochs=25\n",
    "img_height = 192\n",
    "img_width = 192"
   ]
  },
  {
   "cell_type": "code",
   "execution_count": 13,
   "id": "0ea342d0-39d6-413d-9d81-1ac68fcc0b46",
   "metadata": {
    "tags": []
   },
   "outputs": [
    {
     "name": "stdout",
     "output_type": "stream",
     "text": [
      "Found 1857 files belonging to 5 classes.\n",
      "Using 1486 files for training.\n",
      "Using 371 files for validation.\n"
     ]
    }
   ],
   "source": [
    "train_ds, val_ds = tf.keras.utils.image_dataset_from_directory(data_dir, validation_split=0.2, subset=\"both\", seed=123,\n",
    "                                                               image_size=(img_height, img_width), batch_size=batch_size)"
   ]
  },
  {
   "cell_type": "code",
   "execution_count": 14,
   "id": "c05ab7f8-a6a2-47b7-a688-1f3ee3a4759b",
   "metadata": {
    "tags": []
   },
   "outputs": [
    {
     "name": "stdout",
     "output_type": "stream",
     "text": [
      "['Calceolaria', 'Daffodil', 'Freesia', 'Hibiscus', 'Iris']\n"
     ]
    }
   ],
   "source": [
    "class_names = train_ds.class_names\n",
    "num_classes = len(class_names)\n",
    "num_classes\n",
    "print(class_names)"
   ]
  },
  {
   "cell_type": "code",
   "execution_count": 15,
   "id": "c0079e02-739f-4c4c-83fb-aeb371b23e5c",
   "metadata": {
    "tags": []
   },
   "outputs": [],
   "source": [
    "model_url = 'https://tfhub.dev/google/bit/s-r101x1/1'\n",
    "base_model = hub.KerasLayer(model_url)"
   ]
  },
  {
   "cell_type": "markdown",
   "id": "acadd9fb-1886-4544-851c-20041e25814a",
   "metadata": {},
   "source": [
    "## 8.2: Hyper parameter tuning.\n",
    "\n",
    "Here we test different hyper parameters and log their F1 score. This was based on this [codelab](https://www.tensorflow.org/tensorboard/hyperparameter_tuning_with_hparams)."
   ]
  },
  {
   "cell_type": "code",
   "execution_count": 43,
   "id": "f5b32f51-39d1-45cb-8922-8179898249c4",
   "metadata": {
    "tags": []
   },
   "outputs": [],
   "source": [
    "HP_NUM_UNITS = hp.HParam('num_units', hp.Discrete([16, 32]))\n",
    "HP_DROPOUT = hp.HParam('dropout', hp.RealInterval(0.2, 0.6))\n",
    "HP_OPTIMIZER = hp.HParam('optimizer', hp.Discrete(['adam', 'sgd']))\n",
    "\n",
    "METRIC_F1_SCORE = 'f1_score'\n",
    "\n",
    "with tf.summary.create_file_writer('logs/hparam_tuning').as_default():\n",
    "    hp.hparams_config(\n",
    "        hparams=[HP_NUM_UNITS, HP_DROPOUT, HP_OPTIMIZER],\n",
    "        metrics=[hp.Metric(METRIC_F1_SCORE, display_name='F1 Score')],\n",
    "    )"
   ]
  },
  {
   "cell_type": "code",
   "execution_count": 34,
   "id": "a1cf1dab-5fd2-4632-8745-cd93f17364fb",
   "metadata": {
    "tags": []
   },
   "outputs": [],
   "source": [
    "from sklearn.metrics import f1_score as sk_f1\n",
    "\n",
    "# Define our own function since we are working with batch datasets.\n",
    "def f1_score(model):\n",
    "    y_pred = []  # store predicted labels\n",
    "    y_true = []  # store true labels\n",
    "\n",
    "    # We iterate over the dataset to get the true label and input at the same time.\n",
    "    # Otherwise we will unintentionally shuffle the dataset.\n",
    "    for image_batch, label_batch in val_ds:\n",
    "        y_true.append(label_batch)\n",
    "        preds = model.predict(image_batch, verbose=0)\n",
    "        y_pred.append(np.argmax(preds, axis = - 1))\n",
    "\n",
    "    # convert the true and predicted labels into tensors\n",
    "    correct_labels = tf.concat([item for item in y_true], axis = 0)\n",
    "    predicted_labels = tf.concat([item for item in y_pred], axis = 0)\n",
    "    \n",
    "    return sk_f1(correct_labels, predicted_labels, average=None)"
   ]
  },
  {
   "cell_type": "code",
   "execution_count": 35,
   "id": "6a362568-9010-425c-8db7-1a0f9d534f83",
   "metadata": {
    "tags": []
   },
   "outputs": [],
   "source": [
    "def train_test_model(hparams):\n",
    "    model = tf.keras.Sequential([\n",
    "        layers.Rescaling(1./255),\n",
    "        base_model,\n",
    "        layers.Flatten(),\n",
    "        layers.Dense(hparams[HP_NUM_UNITS], activation='relu'),\n",
    "        layers.Dropout(hparams[HP_DROPOUT]),\n",
    "        layers.Dense(num_classes),\n",
    "    ])\n",
    "    model.compile(\n",
    "        optimizer=hparams[HP_OPTIMIZER],\n",
    "        loss=tf.keras.losses.SparseCategoricalCrossentropy(from_logits=True),\n",
    "        metrics=['accuracy'],\n",
    "    )\n",
    "\n",
    "    model.fit(train_ds, validation_data=val_ds, epochs=epochs, verbose=1)\n",
    "    f1 = f1_score(model)\n",
    "    print(\"f1:\", f1)\n",
    "    return np.mean(f1)"
   ]
  },
  {
   "cell_type": "code",
   "execution_count": 36,
   "id": "3c5f3ea0-a8ed-47ab-9688-23f252fdb216",
   "metadata": {
    "tags": []
   },
   "outputs": [],
   "source": [
    "def run(run_dir, hparams):\n",
    "    with tf.summary.create_file_writer(run_dir).as_default():\n",
    "        hp.hparams(hparams)  # record the values used in this trial\n",
    "        f1 = train_test_model(hparams)\n",
    "        tf.summary.scalar(METRIC_F1_SCORE, f1, step=1)"
   ]
  },
  {
   "cell_type": "code",
   "execution_count": 41,
   "id": "372f4a6b-7d96-4475-a658-02dd50cdd8de",
   "metadata": {
    "tags": []
   },
   "outputs": [],
   "source": [
    "session_num = 0"
   ]
  },
  {
   "cell_type": "code",
   "execution_count": null,
   "id": "ba91630d-76a3-4865-8b18-a726a6dec4cf",
   "metadata": {
    "tags": []
   },
   "outputs": [
    {
     "name": "stdout",
     "output_type": "stream",
     "text": [
      "--- Starting trial: run-0\n",
      "{'num_units': 16, 'dropout': 0.2, 'optimizer': 'adam'}\n",
      "Epoch 1/25\n",
      "47/47 [==============================] - 22s 318ms/step - loss: 1.1892 - accuracy: 0.5182 - val_loss: 0.7501 - val_accuracy: 0.8086\n",
      "Epoch 2/25\n",
      "47/47 [==============================] - 12s 252ms/step - loss: 0.7065 - accuracy: 0.7342 - val_loss: 0.4811 - val_accuracy: 0.8922\n",
      "Epoch 3/25\n",
      "47/47 [==============================] - 12s 258ms/step - loss: 0.5343 - accuracy: 0.7907 - val_loss: 0.3969 - val_accuracy: 0.8868\n",
      "Epoch 4/25\n",
      "47/47 [==============================] - 12s 256ms/step - loss: 0.4553 - accuracy: 0.8190 - val_loss: 0.3714 - val_accuracy: 0.8922\n",
      "Epoch 5/25\n",
      "47/47 [==============================] - 12s 257ms/step - loss: 0.3877 - accuracy: 0.8513 - val_loss: 0.2890 - val_accuracy: 0.9030\n",
      "Epoch 6/25\n",
      "47/47 [==============================] - 12s 257ms/step - loss: 0.3489 - accuracy: 0.8594 - val_loss: 0.2954 - val_accuracy: 0.9003\n",
      "Epoch 7/25\n",
      "47/47 [==============================] - 12s 256ms/step - loss: 0.3273 - accuracy: 0.8748 - val_loss: 0.2800 - val_accuracy: 0.8976\n",
      "Epoch 8/25\n",
      "47/47 [==============================] - 12s 253ms/step - loss: 0.2883 - accuracy: 0.8903 - val_loss: 0.2293 - val_accuracy: 0.9272\n",
      "Epoch 9/25\n",
      "47/47 [==============================] - 12s 252ms/step - loss: 0.2682 - accuracy: 0.8950 - val_loss: 0.2409 - val_accuracy: 0.9326\n",
      "Epoch 10/25\n",
      "47/47 [==============================] - 12s 253ms/step - loss: 0.2381 - accuracy: 0.9179 - val_loss: 0.2214 - val_accuracy: 0.9218\n",
      "Epoch 11/25\n",
      "47/47 [==============================] - 12s 253ms/step - loss: 0.2355 - accuracy: 0.9125 - val_loss: 0.2272 - val_accuracy: 0.9299\n",
      "Epoch 12/25\n",
      "47/47 [==============================] - 12s 254ms/step - loss: 0.1943 - accuracy: 0.9273 - val_loss: 0.2092 - val_accuracy: 0.9434\n",
      "Epoch 13/25\n",
      "47/47 [==============================] - 12s 253ms/step - loss: 0.1897 - accuracy: 0.9401 - val_loss: 0.2174 - val_accuracy: 0.9380\n",
      "Epoch 14/25\n",
      "47/47 [==============================] - 12s 255ms/step - loss: 0.1872 - accuracy: 0.9394 - val_loss: 0.2132 - val_accuracy: 0.9353\n",
      "Epoch 15/25\n",
      "47/47 [==============================] - 12s 258ms/step - loss: 0.1575 - accuracy: 0.9435 - val_loss: 0.2067 - val_accuracy: 0.9353\n",
      "Epoch 16/25\n",
      "47/47 [==============================] - 12s 253ms/step - loss: 0.1558 - accuracy: 0.9489 - val_loss: 0.1798 - val_accuracy: 0.9380\n",
      "Epoch 17/25\n",
      "47/47 [==============================] - 12s 251ms/step - loss: 0.1353 - accuracy: 0.9569 - val_loss: 0.1861 - val_accuracy: 0.9434\n",
      "Epoch 18/25\n",
      "47/47 [==============================] - 12s 251ms/step - loss: 0.1443 - accuracy: 0.9489 - val_loss: 0.2210 - val_accuracy: 0.9299\n",
      "Epoch 19/25\n",
      "47/47 [==============================] - 12s 251ms/step - loss: 0.1333 - accuracy: 0.9529 - val_loss: 0.1863 - val_accuracy: 0.9380\n",
      "Epoch 20/25\n",
      "47/47 [==============================] - 12s 251ms/step - loss: 0.1441 - accuracy: 0.9522 - val_loss: 0.1575 - val_accuracy: 0.9461\n",
      "Epoch 21/25\n",
      "47/47 [==============================] - 12s 251ms/step - loss: 0.1148 - accuracy: 0.9616 - val_loss: 0.1802 - val_accuracy: 0.9407\n",
      "Epoch 22/25\n",
      "47/47 [==============================] - 12s 251ms/step - loss: 0.1019 - accuracy: 0.9643 - val_loss: 0.1620 - val_accuracy: 0.9434\n",
      "Epoch 23/25\n",
      "47/47 [==============================] - 12s 251ms/step - loss: 0.1098 - accuracy: 0.9630 - val_loss: 0.1768 - val_accuracy: 0.9407\n",
      "Epoch 24/25\n",
      "47/47 [==============================] - 12s 251ms/step - loss: 0.1111 - accuracy: 0.9563 - val_loss: 0.1880 - val_accuracy: 0.9407\n",
      "Epoch 25/25\n",
      "47/47 [==============================] - 12s 252ms/step - loss: 0.0999 - accuracy: 0.9657 - val_loss: 0.1579 - val_accuracy: 0.9488\n",
      "f1: [0.98684211 0.91891892 0.93150685 0.94478528 0.96240602]\n",
      "--- Starting trial: run-1\n",
      "{'num_units': 16, 'dropout': 0.2, 'optimizer': 'sgd'}\n",
      "Epoch 1/25\n",
      "47/47 [==============================] - 22s 319ms/step - loss: 1.2372 - accuracy: 0.4785 - val_loss: 0.8594 - val_accuracy: 0.6388\n",
      "Epoch 2/25\n",
      "47/47 [==============================] - 12s 247ms/step - loss: 0.7862 - accuracy: 0.6703 - val_loss: 0.7686 - val_accuracy: 0.7412\n",
      "Epoch 3/25\n",
      "47/47 [==============================] - 12s 247ms/step - loss: 0.6438 - accuracy: 0.7416 - val_loss: 0.5530 - val_accuracy: 0.8464\n",
      "Epoch 4/25\n",
      "47/47 [==============================] - 12s 247ms/step - loss: 0.5323 - accuracy: 0.8089 - val_loss: 0.4412 - val_accuracy: 0.8625\n",
      "Epoch 5/25\n",
      "47/47 [==============================] - 12s 246ms/step - loss: 0.4752 - accuracy: 0.8237 - val_loss: 0.4165 - val_accuracy: 0.8787\n",
      "Epoch 6/25\n",
      "47/47 [==============================] - 12s 247ms/step - loss: 0.4102 - accuracy: 0.8594 - val_loss: 0.3896 - val_accuracy: 0.8868\n",
      "Epoch 7/25\n",
      "47/47 [==============================] - 12s 246ms/step - loss: 0.3781 - accuracy: 0.8748 - val_loss: 0.3434 - val_accuracy: 0.8949\n",
      "Epoch 8/25\n",
      "47/47 [==============================] - 12s 247ms/step - loss: 0.3363 - accuracy: 0.8943 - val_loss: 0.3430 - val_accuracy: 0.8922\n",
      "Epoch 9/25\n",
      "47/47 [==============================] - 12s 247ms/step - loss: 0.3122 - accuracy: 0.8964 - val_loss: 0.3172 - val_accuracy: 0.9003\n",
      "Epoch 10/25\n",
      "47/47 [==============================] - 12s 251ms/step - loss: 0.2956 - accuracy: 0.8943 - val_loss: 0.2889 - val_accuracy: 0.9137\n",
      "Epoch 11/25\n",
      "47/47 [==============================] - 12s 252ms/step - loss: 0.2797 - accuracy: 0.9031 - val_loss: 0.2751 - val_accuracy: 0.8949\n",
      "Epoch 12/25\n",
      "47/47 [==============================] - 12s 250ms/step - loss: 0.2577 - accuracy: 0.9186 - val_loss: 0.3080 - val_accuracy: 0.8976\n",
      "Epoch 13/25\n",
      "47/47 [==============================] - 12s 250ms/step - loss: 0.2495 - accuracy: 0.9199 - val_loss: 0.3059 - val_accuracy: 0.9030\n",
      "Epoch 14/25\n",
      "47/47 [==============================] - 12s 258ms/step - loss: 0.2577 - accuracy: 0.9192 - val_loss: 0.2614 - val_accuracy: 0.9164\n",
      "Epoch 15/25\n",
      "47/47 [==============================] - 12s 253ms/step - loss: 0.2200 - accuracy: 0.9314 - val_loss: 0.2557 - val_accuracy: 0.9111\n",
      "Epoch 16/25\n",
      "47/47 [==============================] - 12s 253ms/step - loss: 0.2144 - accuracy: 0.9300 - val_loss: 0.2433 - val_accuracy: 0.9084\n",
      "Epoch 17/25\n",
      "47/47 [==============================] - 12s 258ms/step - loss: 0.2062 - accuracy: 0.9374 - val_loss: 0.2335 - val_accuracy: 0.9084\n",
      "Epoch 18/25\n",
      "47/47 [==============================] - 12s 256ms/step - loss: 0.1711 - accuracy: 0.9468 - val_loss: 0.2285 - val_accuracy: 0.9164\n",
      "Epoch 19/25\n",
      "47/47 [==============================] - 12s 252ms/step - loss: 0.1978 - accuracy: 0.9287 - val_loss: 0.2201 - val_accuracy: 0.9137\n",
      "Epoch 20/25\n",
      "47/47 [==============================] - 12s 257ms/step - loss: 0.1804 - accuracy: 0.9475 - val_loss: 0.2738 - val_accuracy: 0.9057\n",
      "Epoch 21/25\n",
      "47/47 [==============================] - 12s 254ms/step - loss: 0.1813 - accuracy: 0.9441 - val_loss: 0.2343 - val_accuracy: 0.9245\n",
      "Epoch 22/25\n",
      "47/47 [==============================] - 12s 254ms/step - loss: 0.1709 - accuracy: 0.9435 - val_loss: 0.2028 - val_accuracy: 0.9191\n",
      "Epoch 23/25\n",
      "47/47 [==============================] - 12s 249ms/step - loss: 0.1669 - accuracy: 0.9536 - val_loss: 0.2258 - val_accuracy: 0.9218\n",
      "Epoch 24/25\n",
      "47/47 [==============================] - 12s 247ms/step - loss: 0.1622 - accuracy: 0.9441 - val_loss: 0.1926 - val_accuracy: 0.9164\n",
      "Epoch 25/25\n",
      "47/47 [==============================] - 12s 247ms/step - loss: 0.1462 - accuracy: 0.9515 - val_loss: 0.2047 - val_accuracy: 0.9218\n",
      "f1: [0.97402597 0.90066225 0.88571429 0.93081761 0.91304348]\n",
      "--- Starting trial: run-2\n",
      "{'num_units': 16, 'dropout': 0.4, 'optimizer': 'adam'}\n",
      "Epoch 1/25\n",
      "47/47 [==============================] - 22s 313ms/step - loss: 1.4052 - accuracy: 0.4051 - val_loss: 1.0922 - val_accuracy: 0.6685\n",
      "Epoch 2/25\n",
      "47/47 [==============================] - 12s 251ms/step - loss: 1.0585 - accuracy: 0.5720 - val_loss: 0.8860 - val_accuracy: 0.7358\n",
      "Epoch 3/25\n",
      "47/47 [==============================] - 12s 252ms/step - loss: 0.8735 - accuracy: 0.6433 - val_loss: 0.6930 - val_accuracy: 0.7951\n",
      "Epoch 4/25\n",
      "47/47 [==============================] - 12s 255ms/step - loss: 0.7763 - accuracy: 0.7079 - val_loss: 0.5957 - val_accuracy: 0.8814\n",
      "Epoch 5/25\n",
      "47/47 [==============================] - 12s 255ms/step - loss: 0.7126 - accuracy: 0.7436 - val_loss: 0.5187 - val_accuracy: 0.8949\n",
      "Epoch 6/25\n",
      "47/47 [==============================] - 12s 252ms/step - loss: 0.6715 - accuracy: 0.7423 - val_loss: 0.4872 - val_accuracy: 0.8949\n",
      "Epoch 7/25\n",
      "47/47 [==============================] - 12s 253ms/step - loss: 0.6584 - accuracy: 0.7517 - val_loss: 0.4654 - val_accuracy: 0.9030\n",
      "Epoch 8/25\n",
      "47/47 [==============================] - 12s 253ms/step - loss: 0.6244 - accuracy: 0.7604 - val_loss: 0.4373 - val_accuracy: 0.8976\n",
      "Epoch 9/25\n",
      "47/47 [==============================] - 12s 257ms/step - loss: 0.6119 - accuracy: 0.7705 - val_loss: 0.3844 - val_accuracy: 0.9218\n",
      "Epoch 10/25\n",
      "47/47 [==============================] - 12s 259ms/step - loss: 0.5932 - accuracy: 0.7672 - val_loss: 0.4005 - val_accuracy: 0.9137\n",
      "Epoch 11/25\n",
      "47/47 [==============================] - 12s 259ms/step - loss: 0.5842 - accuracy: 0.7692 - val_loss: 0.3678 - val_accuracy: 0.9353\n",
      "Epoch 12/25\n",
      "47/47 [==============================] - 12s 261ms/step - loss: 0.5694 - accuracy: 0.7725 - val_loss: 0.3764 - val_accuracy: 0.9084\n",
      "Epoch 13/25\n",
      "47/47 [==============================] - 12s 256ms/step - loss: 0.5467 - accuracy: 0.7793 - val_loss: 0.3452 - val_accuracy: 0.9299\n",
      "Epoch 14/25\n",
      "47/47 [==============================] - 13s 260ms/step - loss: 0.5303 - accuracy: 0.7820 - val_loss: 0.3642 - val_accuracy: 0.9191\n",
      "Epoch 15/25\n",
      "47/47 [==============================] - 12s 254ms/step - loss: 0.5093 - accuracy: 0.7921 - val_loss: 0.3586 - val_accuracy: 0.9245\n",
      "Epoch 16/25\n",
      "47/47 [==============================] - 12s 259ms/step - loss: 0.5264 - accuracy: 0.7921 - val_loss: 0.3222 - val_accuracy: 0.9164\n",
      "Epoch 17/25\n",
      "47/47 [==============================] - 12s 256ms/step - loss: 0.5074 - accuracy: 0.7968 - val_loss: 0.3244 - val_accuracy: 0.9299\n",
      "Epoch 18/25\n",
      "47/47 [==============================] - 12s 256ms/step - loss: 0.5134 - accuracy: 0.7907 - val_loss: 0.3465 - val_accuracy: 0.9299\n",
      "Epoch 19/25\n",
      "47/47 [==============================] - 12s 258ms/step - loss: 0.5187 - accuracy: 0.7826 - val_loss: 0.2997 - val_accuracy: 0.9407\n",
      "Epoch 20/25\n",
      "47/47 [==============================] - 12s 256ms/step - loss: 0.4962 - accuracy: 0.7941 - val_loss: 0.2982 - val_accuracy: 0.9326\n",
      "Epoch 21/25\n",
      "47/47 [==============================] - 12s 256ms/step - loss: 0.4855 - accuracy: 0.7927 - val_loss: 0.2707 - val_accuracy: 0.9407\n",
      "Epoch 22/25\n",
      "47/47 [==============================] - 12s 255ms/step - loss: 0.4834 - accuracy: 0.7921 - val_loss: 0.2790 - val_accuracy: 0.9407\n",
      "Epoch 23/25\n",
      "47/47 [==============================] - 12s 255ms/step - loss: 0.4780 - accuracy: 0.7934 - val_loss: 0.3281 - val_accuracy: 0.9326\n",
      "Epoch 24/25\n",
      "47/47 [==============================] - 12s 253ms/step - loss: 0.4968 - accuracy: 0.7840 - val_loss: 0.3193 - val_accuracy: 0.9245\n",
      "Epoch 25/25\n",
      "47/47 [==============================] - 12s 254ms/step - loss: 0.4666 - accuracy: 0.8055 - val_loss: 0.2692 - val_accuracy: 0.9380\n",
      "f1: [0.98039216 0.91503268 0.9037037  0.95652174 0.92857143]\n",
      "--- Starting trial: run-3\n",
      "{'num_units': 16, 'dropout': 0.4, 'optimizer': 'sgd'}\n",
      "Epoch 1/25\n",
      "47/47 [==============================] - 51s 338ms/step - loss: 1.3060 - accuracy: 0.4489 - val_loss: 0.9449 - val_accuracy: 0.6658\n",
      "Epoch 2/25\n",
      "47/47 [==============================] - 13s 265ms/step - loss: 0.9778 - accuracy: 0.5834 - val_loss: 0.7020 - val_accuracy: 0.8059\n",
      "Epoch 3/25\n",
      "47/47 [==============================] - 13s 268ms/step - loss: 0.8348 - accuracy: 0.6514 - val_loss: 0.6392 - val_accuracy: 0.8464\n",
      "Epoch 4/25\n",
      "47/47 [==============================] - 13s 263ms/step - loss: 0.7774 - accuracy: 0.6723 - val_loss: 0.5968 - val_accuracy: 0.8248\n",
      "Epoch 5/25\n",
      "47/47 [==============================] - 13s 265ms/step - loss: 0.7273 - accuracy: 0.7019 - val_loss: 0.4945 - val_accuracy: 0.8679\n",
      "Epoch 6/25\n",
      "47/47 [==============================] - 13s 271ms/step - loss: 0.6326 - accuracy: 0.7301 - val_loss: 0.4641 - val_accuracy: 0.8544\n",
      "Epoch 7/25\n",
      "47/47 [==============================] - 13s 273ms/step - loss: 0.6127 - accuracy: 0.7564 - val_loss: 0.4672 - val_accuracy: 0.8302\n",
      "Epoch 8/25\n",
      "47/47 [==============================] - 13s 279ms/step - loss: 0.5578 - accuracy: 0.7806 - val_loss: 0.3952 - val_accuracy: 0.8814\n",
      "Epoch 9/25\n",
      "47/47 [==============================] - 13s 275ms/step - loss: 0.5481 - accuracy: 0.7921 - val_loss: 0.4158 - val_accuracy: 0.8814\n",
      "Epoch 10/25\n",
      "47/47 [==============================] - 14s 280ms/step - loss: 0.5025 - accuracy: 0.8102 - val_loss: 0.3575 - val_accuracy: 0.8949\n",
      "Epoch 11/25\n",
      "47/47 [==============================] - 13s 266ms/step - loss: 0.5056 - accuracy: 0.8055 - val_loss: 0.4355 - val_accuracy: 0.8410\n",
      "Epoch 12/25\n",
      "47/47 [==============================] - 13s 269ms/step - loss: 0.4557 - accuracy: 0.8176 - val_loss: 0.3530 - val_accuracy: 0.8841\n",
      "Epoch 13/25\n",
      "47/47 [==============================] - 13s 275ms/step - loss: 0.4382 - accuracy: 0.8284 - val_loss: 0.3536 - val_accuracy: 0.8760\n",
      "Epoch 14/25\n",
      "47/47 [==============================] - 14s 280ms/step - loss: 0.4046 - accuracy: 0.8486 - val_loss: 0.3263 - val_accuracy: 0.8949\n",
      "Epoch 15/25\n",
      "47/47 [==============================] - 13s 269ms/step - loss: 0.4024 - accuracy: 0.8499 - val_loss: 0.2955 - val_accuracy: 0.9057\n",
      "Epoch 16/25\n",
      "47/47 [==============================] - 13s 272ms/step - loss: 0.3917 - accuracy: 0.8398 - val_loss: 0.2901 - val_accuracy: 0.9057\n",
      "Epoch 17/25\n",
      "47/47 [==============================] - 13s 272ms/step - loss: 0.3745 - accuracy: 0.8533 - val_loss: 0.2890 - val_accuracy: 0.9164\n",
      "Epoch 18/25\n",
      "47/47 [==============================] - 13s 266ms/step - loss: 0.3583 - accuracy: 0.8600 - val_loss: 0.2792 - val_accuracy: 0.9191\n",
      "Epoch 19/25\n",
      "47/47 [==============================] - 13s 273ms/step - loss: 0.3471 - accuracy: 0.8708 - val_loss: 0.2768 - val_accuracy: 0.9057\n",
      "Epoch 20/25\n",
      "47/47 [==============================] - 13s 264ms/step - loss: 0.3429 - accuracy: 0.8721 - val_loss: 0.2835 - val_accuracy: 0.9084\n",
      "Epoch 21/25\n",
      "47/47 [==============================] - 13s 268ms/step - loss: 0.3373 - accuracy: 0.8654 - val_loss: 0.2720 - val_accuracy: 0.9164\n",
      "Epoch 22/25\n",
      "47/47 [==============================] - 13s 271ms/step - loss: 0.3229 - accuracy: 0.8668 - val_loss: 0.2604 - val_accuracy: 0.9164\n",
      "Epoch 23/25\n",
      "47/47 [==============================] - 13s 268ms/step - loss: 0.3062 - accuracy: 0.8802 - val_loss: 0.2593 - val_accuracy: 0.9272\n",
      "Epoch 24/25\n",
      "47/47 [==============================] - 13s 272ms/step - loss: 0.2948 - accuracy: 0.8910 - val_loss: 0.3119 - val_accuracy: 0.9003\n",
      "Epoch 25/25\n",
      "47/47 [==============================] - 13s 272ms/step - loss: 0.3069 - accuracy: 0.8856 - val_loss: 0.2746 - val_accuracy: 0.9137\n",
      "f1: [0.97368421 0.90540541 0.8516129  0.94409938 0.88888889]\n",
      "--- Starting trial: run-4\n",
      "{'num_units': 16, 'dropout': 0.6, 'optimizer': 'adam'}\n",
      "Epoch 1/25\n",
      "47/47 [==============================] - 24s 352ms/step - loss: 1.4566 - accuracy: 0.3627 - val_loss: 1.1774 - val_accuracy: 0.6415\n",
      "Epoch 2/25\n",
      "47/47 [==============================] - 13s 268ms/step - loss: 1.2456 - accuracy: 0.4293 - val_loss: 1.0276 - val_accuracy: 0.7412\n",
      "Epoch 3/25\n",
      "47/47 [==============================] - 13s 261ms/step - loss: 1.1779 - accuracy: 0.4630 - val_loss: 0.8906 - val_accuracy: 0.7574\n",
      "Epoch 4/25\n",
      "47/47 [==============================] - 13s 266ms/step - loss: 1.1154 - accuracy: 0.4879 - val_loss: 0.8532 - val_accuracy: 0.7871\n",
      "Epoch 5/25\n",
      "47/47 [==============================] - 12s 258ms/step - loss: 1.0630 - accuracy: 0.5013 - val_loss: 0.7320 - val_accuracy: 0.7925\n",
      "Epoch 6/25\n",
      "47/47 [==============================] - 13s 274ms/step - loss: 1.0625 - accuracy: 0.5108 - val_loss: 0.7061 - val_accuracy: 0.8086\n",
      "Epoch 7/25\n",
      "47/47 [==============================] - 13s 268ms/step - loss: 1.0432 - accuracy: 0.4960 - val_loss: 0.7292 - val_accuracy: 0.8194\n",
      "Epoch 8/25\n",
      "47/47 [==============================] - 13s 268ms/step - loss: 1.0226 - accuracy: 0.4973 - val_loss: 0.6528 - val_accuracy: 0.8437\n",
      "Epoch 9/25\n",
      "47/47 [==============================] - 13s 270ms/step - loss: 1.0026 - accuracy: 0.5135 - val_loss: 0.6289 - val_accuracy: 0.8383\n",
      "Epoch 10/25\n",
      "47/47 [==============================] - 13s 267ms/step - loss: 0.9984 - accuracy: 0.5094 - val_loss: 0.6206 - val_accuracy: 0.8625\n",
      "Epoch 11/25\n",
      "47/47 [==============================] - 13s 266ms/step - loss: 0.9697 - accuracy: 0.5384 - val_loss: 0.5650 - val_accuracy: 0.8356\n",
      "Epoch 12/25\n",
      "47/47 [==============================] - 13s 260ms/step - loss: 0.9252 - accuracy: 0.5330 - val_loss: 0.5547 - val_accuracy: 0.8679\n",
      "Epoch 13/25\n",
      "47/47 [==============================] - 12s 256ms/step - loss: 0.9503 - accuracy: 0.5343 - val_loss: 0.5515 - val_accuracy: 0.8706\n",
      "Epoch 14/25\n",
      "47/47 [==============================] - 13s 264ms/step - loss: 0.9231 - accuracy: 0.5471 - val_loss: 0.5599 - val_accuracy: 0.8652\n",
      "Epoch 15/25\n",
      "47/47 [==============================] - 13s 262ms/step - loss: 0.9469 - accuracy: 0.5458 - val_loss: 0.5886 - val_accuracy: 0.8976\n",
      "Epoch 16/25\n",
      "19/47 [===========>..................] - ETA: 6s - loss: 0.9186 - accuracy: 0.5773"
     ]
    }
   ],
   "source": [
    "for num_units in HP_NUM_UNITS.domain.values:\n",
    "    for dropout_rate in np.linspace(\n",
    "        HP_DROPOUT.domain.min_value,\n",
    "        HP_DROPOUT.domain.max_value,\n",
    "        num=3,\n",
    "    ):\n",
    "        for optimizer in HP_OPTIMIZER.domain.values:\n",
    "            hparams = {\n",
    "                HP_NUM_UNITS: num_units,\n",
    "                HP_DROPOUT: dropout_rate,\n",
    "                HP_OPTIMIZER: optimizer,\n",
    "            }\n",
    "            run_name = \"run-%d\" % session_num\n",
    "            print('--- Starting trial: %s' % run_name)\n",
    "            print({h.name: hparams[h] for h in hparams})\n",
    "            run('logs/hparam_tuning/' + run_name, hparams)\n",
    "            session_num += 1"
   ]
  },
  {
   "cell_type": "markdown",
   "id": "90134692-a730-42af-b4ab-f8cb8439c9eb",
   "metadata": {
    "tags": []
   },
   "source": [
    "## 8.3 Results"
   ]
  },
  {
   "cell_type": "code",
   "execution_count": 40,
   "id": "92573193-7fc2-470e-aa0d-c9d5f9367bc4",
   "metadata": {},
   "outputs": [
    {
     "data": {
      "text/html": [
       "\n",
       "      <iframe id=\"tensorboard-frame-27bf03de65e90a9c\" width=\"100%\" height=\"800\" frameborder=\"0\">\n",
       "      </iframe>\n",
       "      <script>\n",
       "        (function() {\n",
       "          const frame = document.getElementById(\"tensorboard-frame-27bf03de65e90a9c\");\n",
       "          const url = new URL(\"/\", window.location);\n",
       "          const port = 6006;\n",
       "          if (port) {\n",
       "            url.port = port;\n",
       "          }\n",
       "          frame.src = url;\n",
       "        })();\n",
       "      </script>\n",
       "    "
      ],
      "text/plain": [
       "<IPython.core.display.HTML object>"
      ]
     },
     "metadata": {},
     "output_type": "display_data"
    }
   ],
   "source": [
    "%tensorboard --logdir logs/hparam_tuning --host localhost"
   ]
  },
  {
   "cell_type": "markdown",
   "id": "086f890c-0806-4d46-8160-22a8bcd49d02",
   "metadata": {
    "tags": []
   },
   "source": [
    "We can use the Tensorboard to see how the parameters affected our outcome. Below is a screenshot so it can be easily viewed in GitHub.\n",
    "\n",
    "![Tensorboard](step8-tensorboard.png)\n",
    "\n",
    "It looks like the best hyper parameters were: \n",
    " * num_units = 16\n",
    " * dropout = 0.2\n",
    " * optimizer = adam\n",
    " \n",
    " We got an F1 score of 95, which is pretty good."
   ]
  },
  {
   "cell_type": "code",
   "execution_count": null,
   "id": "5cb8ab1c-fad5-4d2a-b25b-efcd6a670308",
   "metadata": {},
   "outputs": [],
   "source": []
  }
 ],
 "metadata": {
  "kernelspec": {
   "display_name": "Python 3 (ipykernel)",
   "language": "python",
   "name": "python3"
  },
  "language_info": {
   "codemirror_mode": {
    "name": "ipython",
    "version": 3
   },
   "file_extension": ".py",
   "mimetype": "text/x-python",
   "name": "python",
   "nbconvert_exporter": "python",
   "pygments_lexer": "ipython3",
   "version": "3.10.10"
  }
 },
 "nbformat": 4,
 "nbformat_minor": 5
}
