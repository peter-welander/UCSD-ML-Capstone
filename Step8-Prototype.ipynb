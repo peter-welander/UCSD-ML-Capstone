{
 "cells": [
  {
   "cell_type": "markdown",
   "id": "b259687d-1612-455a-b1c0-ed0249320512",
   "metadata": {},
   "source": [
    "# Step 8: Prototyping.\n",
    "\n",
    "In the previous section we selected our base model, but did not finely tune it. We achieved a an accuracy of 99.1%, validation accuracy of 91.6%, and our F1 score was 0.915. In this section let's see if we can tune hyper parameters to improve on this result."
   ]
  },
  {
   "cell_type": "code",
   "execution_count": 1,
   "id": "53d1e422-0bc7-43eb-b6e4-593211c496e1",
   "metadata": {},
   "outputs": [],
   "source": [
    "%load_ext tensorboard"
   ]
  },
  {
   "cell_type": "code",
   "execution_count": 2,
   "id": "f8936b58-4460-44e4-a076-ba1c8b7092d1",
   "metadata": {
    "tags": []
   },
   "outputs": [],
   "source": [
    "import numpy as np\n",
    "import matplotlib.pyplot as plt \n",
    "import tensorflow as tf\n",
    "import tensorflow_hub as hub\n",
    "\n",
    "from tensorflow import keras\n",
    "from tensorflow.keras import layers\n",
    "from tensorboard.plugins.hparams import api as hp"
   ]
  },
  {
   "cell_type": "markdown",
   "id": "77cd3e81-6081-4c19-9998-7d52a82a46d1",
   "metadata": {
    "tags": []
   },
   "source": [
    "## 8.1: Loading the data"
   ]
  },
  {
   "cell_type": "code",
   "execution_count": 3,
   "id": "7f34c5c5-5755-4d57-a12b-bae616cbb47b",
   "metadata": {
    "tags": []
   },
   "outputs": [
    {
     "data": {
      "text/plain": [
       "WindowsPath('E:/school/UCSD-ML-Capstone/images/Flowers5')"
      ]
     },
     "execution_count": 3,
     "metadata": {},
     "output_type": "execute_result"
    }
   ],
   "source": [
    "import pathlib\n",
    "import os.path\n",
    "\n",
    "data_dir =  pathlib.Path(os.path.abspath(\"images/Flowers5/\"))\n",
    "data_dir"
   ]
  },
  {
   "cell_type": "code",
   "execution_count": 4,
   "id": "9760e7e1-911f-442a-bd2a-ec14ded6d52e",
   "metadata": {
    "tags": []
   },
   "outputs": [],
   "source": [
    "batch_size = 32\n",
    "epochs=25\n",
    "img_height = 192\n",
    "img_width = 192"
   ]
  },
  {
   "cell_type": "code",
   "execution_count": 5,
   "id": "0ea342d0-39d6-413d-9d81-1ac68fcc0b46",
   "metadata": {
    "tags": []
   },
   "outputs": [
    {
     "name": "stdout",
     "output_type": "stream",
     "text": [
      "Found 1857 files belonging to 5 classes.\n",
      "Using 1486 files for training.\n",
      "Using 371 files for validation.\n"
     ]
    }
   ],
   "source": [
    "train_ds, val_ds = tf.keras.utils.image_dataset_from_directory(data_dir, validation_split=0.2, subset=\"both\", seed=123,\n",
    "                                                               image_size=(img_height, img_width), batch_size=batch_size)"
   ]
  },
  {
   "cell_type": "code",
   "execution_count": 6,
   "id": "c05ab7f8-a6a2-47b7-a688-1f3ee3a4759b",
   "metadata": {
    "tags": []
   },
   "outputs": [
    {
     "name": "stdout",
     "output_type": "stream",
     "text": [
      "['Calceolaria', 'Daffodil', 'Freesia', 'Hibiscus', 'Iris']\n"
     ]
    }
   ],
   "source": [
    "class_names = train_ds.class_names\n",
    "num_classes = len(class_names)\n",
    "num_classes\n",
    "print(class_names)"
   ]
  },
  {
   "cell_type": "code",
   "execution_count": 7,
   "id": "c0079e02-739f-4c4c-83fb-aeb371b23e5c",
   "metadata": {
    "tags": []
   },
   "outputs": [],
   "source": [
    "model_url = 'https://tfhub.dev/google/bit/s-r50x1/1'\n",
    "base_model = hub.KerasLayer(model_url)"
   ]
  },
  {
   "cell_type": "markdown",
   "id": "acadd9fb-1886-4544-851c-20041e25814a",
   "metadata": {},
   "source": [
    "## 8.2: Hyper parameter tuning.\n",
    "\n",
    "Here we test different hyper parameters and log their F1 score. This was based on this [codelab](https://www.tensorflow.org/tensorboard/hyperparameter_tuning_with_hparams)."
   ]
  },
  {
   "cell_type": "code",
   "execution_count": 16,
   "id": "f5b32f51-39d1-45cb-8922-8179898249c4",
   "metadata": {
    "tags": []
   },
   "outputs": [],
   "source": [
    "HP_NUM_UNITS = hp.HParam('num_units', hp.Discrete([16, 32]))\n",
    "HP_DROPOUT = hp.HParam('dropout', hp.RealInterval(0.1, 0.4))\n",
    "HP_OPTIMIZER = hp.HParam('optimizer', hp.Discrete(['adam', 'sgd']))\n",
    "\n",
    "METRIC_F1_SCORE = 'f1_score'\n",
    "\n",
    "with tf.summary.create_file_writer('logs/hparam_tuning').as_default():\n",
    "    hp.hparams_config(\n",
    "        hparams=[HP_NUM_UNITS, HP_DROPOUT, HP_OPTIMIZER],\n",
    "        metrics=[hp.Metric(METRIC_F1_SCORE, display_name='F1 Score')],\n",
    "    )"
   ]
  },
  {
   "cell_type": "code",
   "execution_count": 9,
   "id": "a1cf1dab-5fd2-4632-8745-cd93f17364fb",
   "metadata": {
    "tags": []
   },
   "outputs": [],
   "source": [
    "from sklearn.metrics import f1_score as sk_f1\n",
    "\n",
    "# Define our own function since we are working with batch datasets.\n",
    "def f1_score(model):\n",
    "    y_pred = []  # store predicted labels\n",
    "    y_true = []  # store true labels\n",
    "\n",
    "    # We iterate over the dataset to get the true label and input at the same time.\n",
    "    # Otherwise we will unintentionally shuffle the dataset.\n",
    "    for image_batch, label_batch in val_ds:\n",
    "        y_true.append(label_batch)\n",
    "        preds = model.predict(image_batch, verbose=0)\n",
    "        y_pred.append(np.argmax(preds, axis = - 1))\n",
    "\n",
    "    # convert the true and predicted labels into tensors\n",
    "    correct_labels = tf.concat([item for item in y_true], axis = 0)\n",
    "    predicted_labels = tf.concat([item for item in y_pred], axis = 0)\n",
    "    \n",
    "    return sk_f1(correct_labels, predicted_labels, average=None)"
   ]
  },
  {
   "cell_type": "code",
   "execution_count": 18,
   "id": "6a362568-9010-425c-8db7-1a0f9d534f83",
   "metadata": {
    "tags": []
   },
   "outputs": [],
   "source": [
    "def train_test_model(hparams):\n",
    "    model = tf.keras.Sequential([\n",
    "        layers.Rescaling(1./255),\n",
    "        base_model,\n",
    "        layers.Dense(hparams[HP_NUM_UNITS], activation='relu'),\n",
    "        layers.Dropout(hparams[HP_DROPOUT]),\n",
    "        layers.Dense(num_classes),\n",
    "    ])\n",
    "    model.compile(\n",
    "        optimizer=hparams[HP_OPTIMIZER],\n",
    "        loss=tf.keras.losses.SparseCategoricalCrossentropy(from_logits=True),\n",
    "        metrics=['accuracy'],\n",
    "    )\n",
    "\n",
    "    model.fit(train_ds, validation_data=val_ds, epochs=epochs, verbose=1)\n",
    "    f1 = f1_score(model)\n",
    "    print(\"f1:\", f1)\n",
    "    return np.mean(f1)"
   ]
  },
  {
   "cell_type": "code",
   "execution_count": 19,
   "id": "3c5f3ea0-a8ed-47ab-9688-23f252fdb216",
   "metadata": {
    "tags": []
   },
   "outputs": [],
   "source": [
    "def run(run_dir, hparams):\n",
    "    with tf.summary.create_file_writer(run_dir).as_default():\n",
    "        hp.hparams(hparams)  # record the values used in this trial\n",
    "        f1 = train_test_model(hparams)\n",
    "        tf.summary.scalar(METRIC_F1_SCORE, f1, step=1)"
   ]
  },
  {
   "cell_type": "code",
   "execution_count": 20,
   "id": "372f4a6b-7d96-4475-a658-02dd50cdd8de",
   "metadata": {
    "tags": []
   },
   "outputs": [],
   "source": [
    "session_num = 0"
   ]
  },
  {
   "cell_type": "code",
   "execution_count": null,
   "id": "ba91630d-76a3-4865-8b18-a726a6dec4cf",
   "metadata": {
    "tags": []
   },
   "outputs": [],
   "source": [
    "for num_units in HP_NUM_UNITS.domain.values:\n",
    "    for dropout_rate in np.linspace(\n",
    "        HP_DROPOUT.domain.min_value,\n",
    "        HP_DROPOUT.domain.max_value,\n",
    "        num=4,\n",
    "    ):\n",
    "        for optimizer in HP_OPTIMIZER.domain.values:\n",
    "            hparams = {\n",
    "                HP_NUM_UNITS: num_units,\n",
    "                HP_DROPOUT: dropout_rate,\n",
    "                HP_OPTIMIZER: optimizer,\n",
    "            }\n",
    "            run_name = \"run-%d\" % session_num\n",
    "            print('--- Starting trial: %s' % run_name)\n",
    "            print({h.name: hparams[h] for h in hparams})\n",
    "            run('logs/hparam_tuning/' + run_name, hparams)\n",
    "            session_num += 1"
   ]
  },
  {
   "cell_type": "code",
   "execution_count": 28,
   "id": "a1003ea7-b9fd-4426-98a4-2dac06f3b2f0",
   "metadata": {
    "tags": []
   },
   "outputs": [],
   "source": [
    "# Adam seemed better. Let's do some more trials with adam setting these parameters and re-running the above code block.\n",
    "HP_DROPOUT = hp.HParam('dropout', hp.RealInterval(0.46, 0.64))\n",
    "HP_OPTIMIZER = hp.HParam('optimizer', hp.Discrete(['adam']))"
   ]
  },
  {
   "cell_type": "markdown",
   "id": "e2e2d3fe-a761-416a-8c7c-abf02ab94fc3",
   "metadata": {},
   "source": [
    ".... Output removed since it was very long! "
   ]
  },
  {
   "cell_type": "markdown",
   "id": "90134692-a730-42af-b4ab-f8cb8439c9eb",
   "metadata": {
    "tags": []
   },
   "source": [
    "## 8.3 Results"
   ]
  },
  {
   "cell_type": "code",
   "execution_count": null,
   "id": "92573193-7fc2-470e-aa0d-c9d5f9367bc4",
   "metadata": {},
   "outputs": [],
   "source": [
    "%tensorboard --logdir logs/hparam_tuning --host localhost"
   ]
  },
  {
   "cell_type": "markdown",
   "id": "086f890c-0806-4d46-8160-22a8bcd49d02",
   "metadata": {
    "tags": []
   },
   "source": [
    "We can use the Tensorboard to see how the parameters affected our outcome. Below is a screenshot so it can be easily viewed in GitHub.\n",
    "\n",
    "![Tensorboard](step8-optimizers.png)\n",
    "\n",
    "From the board we can tell that 'adam' was better than 'sgd' in general. The dropout rate seems to have a big impact too, likely by reducing bias in our model. Let's see if we can narrow down on the dropout rate for the 'adam' optimizer. To do so I updated the code above and re-ran it to get some more results. The results are logged to file so the previous runs won't be forgotten.\n",
    "\n",
    "![Tensorboard 2](step8-adam.png)\n",
    "\n",
    "It looks like the best hyper parameters were: \n",
    " * num_units = 32\n",
    " * dropout = 0.4\n",
    " * optimizer = adam\n",
    " \n",
    " We got an F1 score of 95, which is pretty good.\n",
    " \n",
    " "
   ]
  },
  {
   "cell_type": "markdown",
   "id": "43389e9c-3ed3-4dd4-9de7-a0598f2502b0",
   "metadata": {
    "tags": []
   },
   "source": [
    "## 8.4: Final model\n",
    "\n",
    "Let's build the model with the best score from our hyper parameter test and graph its performance."
   ]
  },
  {
   "cell_type": "code",
   "execution_count": 11,
   "id": "207dbe03-677f-4938-8211-a1ad6b36606c",
   "metadata": {
    "tags": []
   },
   "outputs": [
    {
     "name": "stdout",
     "output_type": "stream",
     "text": [
      "Epoch 1/25\n",
      "47/47 [==============================] - 13s 200ms/step - loss: 1.1782 - accuracy: 0.5108 - val_loss: 0.6595 - val_accuracy: 0.7709\n",
      "Epoch 2/25\n",
      "47/47 [==============================] - 9s 188ms/step - loss: 0.6957 - accuracy: 0.7295 - val_loss: 0.4315 - val_accuracy: 0.8949\n",
      "Epoch 3/25\n",
      "47/47 [==============================] - 7s 154ms/step - loss: 0.5594 - accuracy: 0.7941 - val_loss: 0.3405 - val_accuracy: 0.9030\n",
      "Epoch 4/25\n",
      "47/47 [==============================] - 7s 156ms/step - loss: 0.4165 - accuracy: 0.8499 - val_loss: 0.2658 - val_accuracy: 0.9245\n",
      "Epoch 5/25\n",
      "47/47 [==============================] - 7s 156ms/step - loss: 0.3837 - accuracy: 0.8614 - val_loss: 0.2309 - val_accuracy: 0.9488\n",
      "Epoch 6/25\n",
      "47/47 [==============================] - 7s 156ms/step - loss: 0.3668 - accuracy: 0.8715 - val_loss: 0.2142 - val_accuracy: 0.9326\n",
      "Epoch 7/25\n",
      "47/47 [==============================] - 8s 160ms/step - loss: 0.3177 - accuracy: 0.8937 - val_loss: 0.2259 - val_accuracy: 0.9272\n",
      "Epoch 8/25\n",
      "47/47 [==============================] - 8s 162ms/step - loss: 0.2671 - accuracy: 0.9038 - val_loss: 0.1954 - val_accuracy: 0.9380\n",
      "Epoch 9/25\n",
      "47/47 [==============================] - 7s 154ms/step - loss: 0.2391 - accuracy: 0.9213 - val_loss: 0.1776 - val_accuracy: 0.9380\n",
      "Epoch 10/25\n",
      "47/47 [==============================] - 7s 158ms/step - loss: 0.2192 - accuracy: 0.9266 - val_loss: 0.1753 - val_accuracy: 0.9434\n",
      "Epoch 11/25\n",
      "47/47 [==============================] - 8s 161ms/step - loss: 0.2134 - accuracy: 0.9327 - val_loss: 0.2068 - val_accuracy: 0.9299\n",
      "Epoch 12/25\n",
      "47/47 [==============================] - 8s 158ms/step - loss: 0.2213 - accuracy: 0.9112 - val_loss: 0.1635 - val_accuracy: 0.9434\n",
      "Epoch 13/25\n",
      "47/47 [==============================] - 8s 159ms/step - loss: 0.1892 - accuracy: 0.9307 - val_loss: 0.1517 - val_accuracy: 0.9488\n",
      "Epoch 14/25\n",
      "47/47 [==============================] - 7s 157ms/step - loss: 0.1872 - accuracy: 0.9367 - val_loss: 0.1729 - val_accuracy: 0.9461\n",
      "Epoch 15/25\n",
      "47/47 [==============================] - 7s 156ms/step - loss: 0.1887 - accuracy: 0.9307 - val_loss: 0.1702 - val_accuracy: 0.9461\n",
      "Epoch 16/25\n",
      "47/47 [==============================] - 7s 158ms/step - loss: 0.1537 - accuracy: 0.9421 - val_loss: 0.1397 - val_accuracy: 0.9515\n",
      "Epoch 17/25\n",
      "47/47 [==============================] - 8s 158ms/step - loss: 0.1740 - accuracy: 0.9394 - val_loss: 0.1428 - val_accuracy: 0.9515\n",
      "Epoch 18/25\n",
      "47/47 [==============================] - 7s 155ms/step - loss: 0.1563 - accuracy: 0.9388 - val_loss: 0.1287 - val_accuracy: 0.9515\n",
      "Epoch 19/25\n",
      "47/47 [==============================] - 9s 185ms/step - loss: 0.1269 - accuracy: 0.9515 - val_loss: 0.1363 - val_accuracy: 0.9461\n",
      "Epoch 20/25\n",
      "47/47 [==============================] - 7s 157ms/step - loss: 0.1214 - accuracy: 0.9549 - val_loss: 0.1263 - val_accuracy: 0.9542\n",
      "Epoch 21/25\n",
      "47/47 [==============================] - 7s 156ms/step - loss: 0.1240 - accuracy: 0.9549 - val_loss: 0.1372 - val_accuracy: 0.9542\n",
      "Epoch 22/25\n",
      "47/47 [==============================] - 7s 156ms/step - loss: 0.1574 - accuracy: 0.9293 - val_loss: 0.1308 - val_accuracy: 0.9542\n",
      "Epoch 23/25\n",
      "47/47 [==============================] - 8s 162ms/step - loss: 0.1194 - accuracy: 0.9542 - val_loss: 0.1385 - val_accuracy: 0.9542\n",
      "Epoch 24/25\n",
      "47/47 [==============================] - 8s 179ms/step - loss: 0.1183 - accuracy: 0.9576 - val_loss: 0.1424 - val_accuracy: 0.9461\n",
      "Epoch 25/25\n",
      "47/47 [==============================] - 8s 158ms/step - loss: 0.1019 - accuracy: 0.9596 - val_loss: 0.1518 - val_accuracy: 0.9569\n"
     ]
    }
   ],
   "source": [
    "model = tf.keras.Sequential([\n",
    "    layers.Rescaling(1./255),\n",
    "    base_model,\n",
    "    layers.Dense(32, activation='relu'),\n",
    "    layers.Dropout(0.4),\n",
    "    layers.Dense(num_classes),\n",
    "])\n",
    "model.compile(\n",
    "    optimizer='adam',\n",
    "    loss=tf.keras.losses.SparseCategoricalCrossentropy(from_logits=True),\n",
    "    metrics=['accuracy'],\n",
    ")\n",
    "\n",
    "history = model.fit(train_ds, validation_data=val_ds, epochs=epochs, verbose=1)"
   ]
  },
  {
   "cell_type": "code",
   "execution_count": 12,
   "id": "9b0862ed-db30-4bc1-9ce6-06a82ad982d3",
   "metadata": {
    "tags": []
   },
   "outputs": [
    {
     "name": "stdout",
     "output_type": "stream",
     "text": [
      "f1_score: 0.9566469836203044\n"
     ]
    }
   ],
   "source": [
    "f1 = f1_score(model)\n",
    "print(\"f1_score:\", np.mean(f1))"
   ]
  },
  {
   "cell_type": "code",
   "execution_count": 13,
   "id": "71e49c63-5eae-4239-8fa3-b3c67d8ac0fd",
   "metadata": {
    "tags": []
   },
   "outputs": [
    {
     "data": {
      "image/png": "[encoded data removed]",
      "text/plain": [
       "<Figure size 640x480 with 1 Axes>"
      ]
     },
     "metadata": {},
     "output_type": "display_data"
    }
   ],
   "source": [
    "plt.plot(history.history['accuracy'], label = 'accuracy')\n",
    "plt.plot(history.history['val_accuracy'], label = 'validation accuracy')\n",
    "plt.xlabel('epoch')\n",
    "plt.legend()\n",
    "plt.show()"
   ]
  },
  {
   "cell_type": "code",
   "execution_count": 14,
   "id": "05c25b62-fadd-47d4-a338-bf8fb87257a2",
   "metadata": {},
   "outputs": [
    {
     "name": "stdout",
     "output_type": "stream",
     "text": [
      "INFO:tensorflow:Assets written to: saved_model/prototype\\assets\n"
     ]
    },
    {
     "name": "stderr",
     "output_type": "stream",
     "text": [
      "INFO:tensorflow:Assets written to: saved_model/prototype\\assets\n"
     ]
    }
   ],
   "source": [
    "model.save('saved_model/prototype')"
   ]
  },
  {
   "cell_type": "code",
   "execution_count": 10,
   "id": "00e56648-dfee-4dd3-b9e6-36be2f4c8fe0",
   "metadata": {},
   "outputs": [],
   "source": [
    "import pickle\n",
    "\n",
    "# Save class names too!\n",
    "with open('saved_model/prototype_labels.pickle', \"wb\") as f:\n",
    "    f.write(pickle.dumps(class_names))"
   ]
  },
  {
   "cell_type": "code",
   "execution_count": null,
   "id": "267cf30f-0040-41f5-90e6-f29e36a4f916",
   "metadata": {},
   "outputs": [],
   "source": []
  }
 ],
 "metadata": {
  "kernelspec": {
   "display_name": "Python 3 (ipykernel)",
   "language": "python",
   "name": "python3"
  },
  "language_info": {
   "codemirror_mode": {
    "name": "ipython",
    "version": 3
   },
   "file_extension": ".py",
   "mimetype": "text/x-python",
   "name": "python",
   "nbconvert_exporter": "python",
   "pygments_lexer": "ipython3",
   "version": "3.10.10"
  }
 },
 "nbformat": 4,
 "nbformat_minor": 5
}
