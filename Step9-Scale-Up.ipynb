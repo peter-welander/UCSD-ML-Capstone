{
 "cells": [
  {
   "cell_type": "markdown",
   "id": "7dcbe55b-ec8a-4e46-b64c-fdcf4a1e3964",
   "metadata": {
    "tags": []
   },
   "source": [
    "# Step 9: Scaling Up.\n",
    "\n",
    "In the previous section we experimented on a dataset that only had 5 flowers. Now let's try to see how our model performs on bigger datasets.\n",
    "\n",
    "\n",
    "## Prediction\n",
    "I predict we will run into the following difficulties:\n",
    " * Needing to re-tune model hyper-parameters to work with more classes. We may even need to swap out the base model for a bigger net.\n",
    " * Time to train model will go up. Maybe we need a way to checkpoint our work to disk and run multiple times, or maybe even move to a cloud solution.\n",
    " \n",
    " Let's see how it goes :) \n"
   ]
  },
  {
   "cell_type": "code",
   "execution_count": 10,
   "id": "c1853fcb-34c1-42a1-90bc-7a060671dc7d",
   "metadata": {
    "tags": []
   },
   "outputs": [],
   "source": [
    "import pathlib\n",
    "import os.path\n",
    "\n",
    "import numpy as np\n",
    "import matplotlib.pyplot as plt \n",
    "import tensorflow as tf\n",
    "import tensorflow_hub as hub\n",
    "\n",
    "from tensorflow import keras\n",
    "from tensorflow.keras import layers\n",
    "from tensorboard.plugins.hparams import api as hp"
   ]
  },
  {
   "cell_type": "code",
   "execution_count": 11,
   "id": "47d4b370-f8de-4c82-9dea-23f3b920c08b",
   "metadata": {
    "tags": []
   },
   "outputs": [
    {
     "name": "stdout",
     "output_type": "stream",
     "text": [
      "The tensorboard extension is already loaded. To reload it, use:\n",
      "  %reload_ext tensorboard\n"
     ]
    }
   ],
   "source": [
    "%load_ext tensorboard"
   ]
  },
  {
   "cell_type": "code",
   "execution_count": 12,
   "id": "22d213f0-9a7e-495d-aca8-9ecf4103db4c",
   "metadata": {
    "tags": []
   },
   "outputs": [],
   "source": [
    "model_url = 'https://tfhub.dev/google/bit/s-r101x1/1'\n",
    "base_model = hub.KerasLayer(model_url)"
   ]
  },
  {
   "cell_type": "code",
   "execution_count": 13,
   "id": "89b46cee-cf04-48e2-b91a-d2a6007aa577",
   "metadata": {
    "tags": []
   },
   "outputs": [],
   "source": [
    "batch_size = 32\n",
    "epochs=25\n",
    "img_height = 100\n",
    "img_width = 100"
   ]
  },
  {
   "cell_type": "code",
   "execution_count": 14,
   "id": "c6a1dd01-6536-44d2-8e5e-3b75b9a340bd",
   "metadata": {
    "tags": []
   },
   "outputs": [],
   "source": [
    "# Let's define a function for reading our data, since we do it more than once.\n",
    "def read_data(flower_set):\n",
    "    data_dir =  pathlib.Path(os.path.abspath(\"images/\" + flower_set + '/'))\n",
    "    return tf.keras.utils.image_dataset_from_directory(data_dir, validation_split=0.2, subset=\"both\", seed=123,\n",
    "                                                               image_size=(img_height, img_width), batch_size=batch_size)"
   ]
  },
  {
   "cell_type": "code",
   "execution_count": 15,
   "id": "3f34d72f-4f6a-4f15-bfd7-0e3f77cb078f",
   "metadata": {
    "tags": []
   },
   "outputs": [],
   "source": [
    "from sklearn.metrics import f1_score as sk_f1\n",
    "\n",
    "# Define our own function since we are working with batch datasets.\n",
    "def f1_score(model, val_ds):\n",
    "    y_pred = []  # store predicted labels\n",
    "    y_true = []  # store true labels\n",
    "\n",
    "    # We iterate over the dataset to get the true label and input at the same time.\n",
    "    # Otherwise we will unintentionally shuffle the dataset.\n",
    "    for image_batch, label_batch in val_ds:\n",
    "        y_true.append(label_batch)\n",
    "        preds = model.predict(image_batch, verbose=0)\n",
    "        y_pred.append(np.argmax(preds, axis = - 1))\n",
    "\n",
    "    # convert the true and predicted labels into tensors\n",
    "    correct_labels = tf.concat([item for item in y_true], axis = 0)\n",
    "    predicted_labels = tf.concat([item for item in y_pred], axis = 0)\n",
    "    \n",
    "    return sk_f1(correct_labels, predicted_labels, average=None)"
   ]
  },
  {
   "cell_type": "markdown",
   "id": "a9029d87-8d82-4185-83e7-7df6bd4a8c62",
   "metadata": {},
   "source": [
    "## 9.1: Datasets\n",
    "\n",
    "So far we have been testing our dataset on only 5 flowers. Now let's try scaling it up.\n",
    "\n",
    "Sets:\n",
    "\n",
    "| name | size | reason\n",
    "|------|------|------\n",
    "|Flowers5| 1,857 | **Prototype set** can iterate quickly on it.\n",
    "|Flowers15 | 5,902 | **Test scaling** this medium sized set will tell us how increasing the scale impacts our model.\n",
    "|Flowers41 | 15,329 | **Target**. Meets the minimum requirement of 15,000 files.\n",
    "|Flowers299 | 115,944 | **Stretch**. Very large set, could be interesting to build a model on this if time allows."
   ]
  },
  {
   "cell_type": "code",
   "execution_count": 23,
   "id": "ae64fd03-42a8-4e00-8c0e-b65992031200",
   "metadata": {
    "tags": []
   },
   "outputs": [
    {
     "name": "stdout",
     "output_type": "stream",
     "text": [
      "Found 1857 files belonging to 5 classes.\n",
      "Using 1486 files for training.\n",
      "Using 371 files for validation.\n",
      "['Calceolaria', 'Daffodil', 'Freesia', 'Hibiscus', 'Iris']\n"
     ]
    }
   ],
   "source": [
    "train5_ds, val5_ds = read_data('Flowers5')\n",
    "print(train5_ds.class_names)"
   ]
  },
  {
   "cell_type": "code",
   "execution_count": 21,
   "id": "fbe74998-aae5-4964-84e2-bef9f06b39a2",
   "metadata": {
    "tags": []
   },
   "outputs": [
    {
     "name": "stdout",
     "output_type": "stream",
     "text": [
      "Found 5902 files belonging to 15 classes.\n",
      "Using 4722 files for training.\n",
      "Using 1180 files for validation.\n",
      "['Abutilon', \"Baby'sBreath\", 'Calceolaria', 'Celosia', 'Daffodil', 'Epimedium', 'Erica', 'FrangipaniFlower', 'Freesia', 'FrenchMarigold', 'Hibiscus', 'Hyacinth', 'IpomoeaLobata', 'Iris', 'JohnnyJumpUp']\n"
     ]
    }
   ],
   "source": [
    "train15_ds, val15_ds = read_data('Flowers15')\n",
    "print(train15_ds.class_names)"
   ]
  },
  {
   "cell_type": "code",
   "execution_count": 25,
   "id": "27cd9207-094d-4865-b80a-1ea2a931128e",
   "metadata": {
    "tags": []
   },
   "outputs": [
    {
     "name": "stdout",
     "output_type": "stream",
     "text": [
      "Found 15329 files belonging to 41 classes.\n",
      "Using 12264 files for training.\n",
      "Using 3065 files for validation.\n",
      "['Abutilon', 'Acacia', 'Alyssum', \"Baby'sBreath\", 'Bellflower', 'BleedingHeart', 'Borage', 'Buttercup', 'Calceolaria', 'Celosia', 'Chrysanthemum', 'Clover', 'Crocus', 'Daffodil', 'Daisy', 'Dandelion', 'Diascia', 'Dill', 'Epimedium', 'Erica', 'FrangipaniFlower', 'Freesia', 'FrenchMarigold', 'Fuchsia', 'Gardenia', 'Gladiolas', 'Hibiscus', 'Honeysuckle', 'Hyacinth', 'IpomoeaLobata', 'Iris', 'JacobsLadder', 'Jasmine', 'JohnnyJumpUp', 'Lily', 'Lotus', 'Magnolia', 'Marigold', 'Orchid', 'Roses', 'TobaccoPlant']\n"
     ]
    }
   ],
   "source": [
    "train41_ds, val41_ds = read_data('Flowers41')\n",
    "print(train41_ds.class_names)"
   ]
  },
  {
   "cell_type": "code",
   "execution_count": 26,
   "id": "1b866f83-d208-4a93-973b-dae09cea7a92",
   "metadata": {
    "tags": []
   },
   "outputs": [
    {
     "name": "stdout",
     "output_type": "stream",
     "text": [
      "Found 115944 files belonging to 299 classes.\n",
      "Using 92756 files for training.\n",
      "Using 23188 files for validation.\n",
      "['Abutilon', 'Acacia', 'Aconite', 'AfricanDaisy', 'Agapanthus', 'Ageratum', 'Alchemilla', 'Allium', 'Alstroemeria', 'Alyssum', 'Amaranthus', 'Amaryllis', 'Anemone', 'AniseHyssop', 'ArmeriaMaritima', 'Aster', 'Azalea', \"Baby'sBreath\", \"Bachelor'sButton\", 'BalloonFlower', 'Ballota', 'BeeBalm', 'Begonia', 'Bellflower', 'Bergamot', 'Bergenia', 'Billbergia', 'Black-eyedSusan', 'BlanketFlower', 'BlazingStar', 'BleedingHeart', 'Bletilla', 'Blue-eyedGrass', 'Bluebonnets', 'BluestarFlower', 'Borage', 'Bottlebrush', 'Bouvardia', 'Brachyscome', 'Brassica', 'Broom', 'Buttercup', 'ButterflyBush', 'Calceolaria', 'Calendula', 'CaliforniaPoppy', 'CallaLily', 'Camellia', 'Candytuft', 'CannaLily', 'CapeLeadwort', 'CapePrimrose', 'CardinalFlower', 'Carnation', 'Catharanthus', 'Catmint', 'Celosia', 'CerastiumTomentosum', 'Chicory', 'Chionodoxa', 'Chrysanthemum', 'Clarkia', 'Clematis', 'Clover', 'Columbine', 'Coneflower', 'CoralBells', 'CoralVine', 'Coreopsis', 'Cornflower', 'Corydalis', 'Cosmos', 'Cotoneaster', 'Crocosmia', 'Crocus', 'CrownImperial', 'CuckooFlower', 'Cyclamen', 'Daffodil', 'Dahlia', 'Daisy', 'Dandelion', 'Daphne', 'Daylily', 'Decumaria', 'Delphinium', 'DesertRose', 'Deutzia', 'Dianella', 'Dianthusbarbatus', 'Diascia', 'Dietes', 'Dill', 'Disa', 'DutchIris', 'Echinops', 'Echium', 'Elder', 'EnglishBluebell', 'Epimedium', 'Eremurus', 'Erica', 'Erigeron', 'Euphorbia', 'Eustoma', 'EveningPrimrose', 'FallCrocus', 'Feverfew', 'Firethorn', 'FlamingKaty', 'FlannelFlower', 'FlaxFlower', 'FloweringDogwood', 'ForgetMeNot', 'Forsythia', 'FourOclock', 'Foxglove', 'FrangipaniFlower', 'Freesia', 'FrenchMarigold', 'Fuchsia', 'Gaillardia', 'Gardenia', 'Gazania', 'Geranium', 'GerberaFlower', 'Gladiolas', 'Goldenrod', 'GrapeHyacinth', 'Guzmania', 'Hawthorn', 'Heather', 'Hebe', 'Helenium', 'Helichrysum', 'Heliotrope', 'Hellebore', 'Hibiscus', 'Holly', 'Hollyhock', 'Honeysuckle', 'Hosta', 'Hyacinth', 'Hydrangea', 'Hyssop', 'IcePlant', 'IcelandPoppy', 'Impatiens', 'IpomoeaLobata', 'Iris', 'Ixia', 'Ixora', 'JacobsLadder', 'Jasmine', 'JohnnyJumpUp', 'KaffirLily', 'Kalmia', 'KangarooPaw', 'Knautia', 'Kniphofia', 'LadysSlipper', 'Laelia', 'Lantana', 'Larkspur', 'Lavatera', 'Lavender', 'LemonVerbena', 'Lewesia', 'Lilac', 'Lily', 'LilyoftheValley', 'Linaria', 'Lotus', 'LoveintheMist', 'Lunaria', 'Lupin', 'Magnolia', 'MalteseCross', 'Mandevilla', 'MargueriteDaisy', 'Marigold', 'Matthiola', 'Mayflower', 'Meconopsis', 'Mimosa', 'MonksHood', 'MoonflowerVine', 'Moraea', 'MorningGlory', 'MossRose', 'Narcissus', 'Nasturtium', 'Nemesia', 'Nemophila', 'Neoregelia', 'Nerine', 'NewZealandTeaTree', 'Nierembergia', 'Nolana', 'Oleander', 'Olearia', 'Orchid', 'OrientalLily', 'OrientalPoppy', 'OrnamentalCherry', 'Ornithogalum', 'Osteospermum', 'Oxalis', 'OxeyeDaisy', 'OysterPlant', 'PaintedDaisy', 'Pansy', 'Parodia', 'PassionFlower', 'PeaceLily', 'Pelargonium', 'Penstemon', 'Peony', 'Periwinkle', 'PersianButtercup', 'Petunia', 'Phlox', 'Photinia', 'Physostegia', 'PincushionFlower', 'Pinks', 'Poinsettia', 'Polyanthus', 'Poppy', 'Potentilla', 'PowderPuff', 'QuakerLadies', 'QueenoftheMeadow', 'QueensCup', 'Quince', 'RainLily', 'RockRose', 'Rondeletia', 'RoseofSharon', 'Roses', 'Sage', 'SaintJohnsWort', 'Scaevola', 'ScentedGeranium', 'Scilla', 'Sedum', 'ShastaDaisy', 'Silene', 'Snapdragon', 'Snowdrop', 'Snowflake', 'Soapwort', 'Speedwell', 'Starflower', 'Statice', 'Sunflower', 'SweetPea', 'TeaRose', 'TigerFlower', 'Tithonia', 'TobaccoPlant', 'Trachelium', 'Trillium', 'Triteleia', 'Tritoniacrocata', 'Trollius', 'TrumpetVine', 'Tuberose', 'Tulip', 'UrnPlant', 'Ursinia', 'UvaUrsi', 'Valerian', 'Verbena', 'Viburnum', 'Viola', 'VirginiaCreeper', 'Wallflower', 'Wandflower', 'Waterlilies', 'Watsonia', 'WaxPlant', 'Wedelia', 'Weigela', 'WhirlingButterflies', 'WinterJasmine', 'Winterberry', 'WishboneFlower', 'WoollyViolet', 'Xanthocerassorbifolium', 'Xerophyllum', 'Xylobium', 'Xylosma', 'Yarrow', 'Yellow-eyedGrass', 'YellowArchangel', 'YellowBell', 'Zenobia', 'Zinnia']\n"
     ]
    }
   ],
   "source": [
    "train299_ds, val299_ds = read_data('Flowers299')\n",
    "print(train299_ds.class_names)"
   ]
  },
  {
   "cell_type": "markdown",
   "id": "675d6675-6d16-48ff-a404-c5531968df0b",
   "metadata": {},
   "source": [
    "## 9.2: Scaling up to 15 flowers.\n",
    "\n",
    "### 9.2.1: Run the top model for 5 flowers.\n",
    "In the previous section we built a prototype on 5 flowers that achieved an accuracy of 95% with an F1 score of 0.95. Let's start by seeing how well that model works on the 15 set."
   ]
  },
  {
   "cell_type": "code",
   "execution_count": null,
   "id": "83fafc88-c42a-4e92-941e-45d68d327d2f",
   "metadata": {
    "tags": []
   },
   "outputs": [],
   "source": [
    "model_15 = tf.keras.Sequential([\n",
    "    layers.Rescaling(1./255), base_model, layers.Flatten(), layers.Dense(16, activation='relu'), layers.Dropout(0.25),\n",
    "    layers.Dense(len(train15_ds.class_names)),\n",
    "])\n",
    "model_15.compile(\n",
    "    optimizer='adam',\n",
    "    loss=tf.keras.losses.SparseCategoricalCrossentropy(from_logits=True),\n",
    "    metrics=['accuracy'],\n",
    ")\n",
    "\n",
    "history = model_15.fit(train15_ds, validation_data=val15_ds, epochs=epochs, verbose=1)"
   ]
  },
  {
   "cell_type": "code",
   "execution_count": 54,
   "id": "1b4d3120-8a7c-41e9-8f5a-db66a9f66640",
   "metadata": {
    "tags": []
   },
   "outputs": [
    {
     "data": {
      "image/png": "[encoded data removed]",
      "text/plain": [
       "<Figure size 640x480 with 1 Axes>"
      ]
     },
     "metadata": {},
     "output_type": "display_data"
    }
   ],
   "source": [
    "plt.plot(history.history['accuracy'], label = 'accuracy')\n",
    "plt.plot(history.history['val_accuracy'], label = 'validation accuracy')\n",
    "plt.legend()\n",
    "plt.xlabel('epoch')\n",
    "plt.show()"
   ]
  },
  {
   "cell_type": "code",
   "execution_count": 39,
   "id": "f0128787-a9ad-4c96-a796-a2e6c57cafd2",
   "metadata": {
    "tags": []
   },
   "outputs": [
    {
     "name": "stdout",
     "output_type": "stream",
     "text": [
      "F1 score: 0.7520246286921581\n"
     ]
    }
   ],
   "source": [
    "f1 = f1_score(model_15, val15_ds)\n",
    "print(\"F1 score:\", np.mean(f1))"
   ]
  },
  {
   "cell_type": "markdown",
   "id": "e0194518-e41b-47c5-a983-7855640d9f1b",
   "metadata": {},
   "source": [
    "\n",
    "**Results**: Our model seems to be underfitted, and does not perform nearly as well on this dataset. We likely need to re-tune it. I suspect we need a denser layer."
   ]
  },
  {
   "cell_type": "markdown",
   "id": "b15d3cf0-6fe9-4e47-b970-709365e7686a",
   "metadata": {},
   "source": [
    "### 9.2.2: Re-tuning our model.\n",
    "\n",
    "Let's see if changing the density and dropout will improve our model."
   ]
  },
  {
   "cell_type": "code",
   "execution_count": 16,
   "id": "1bb5d4bf-00da-4097-800b-67c65ee5105f",
   "metadata": {
    "tags": []
   },
   "outputs": [],
   "source": [
    "HP_NUM_UNITS = hp.HParam('num_units', hp.Discrete([16, 32, 48, 64, 80, 96, 112, 128]))\n",
    "HP_DROPOUT = hp.HParam('dropout', hp.RealInterval(0.1, 0.3))\n",
    "\n",
    "METRIC_F1_SCORE = 'f1_score'\n",
    "DIR='logs/hparam_tuning'\n",
    "\n",
    "with tf.summary.create_file_writer(DIR).as_default():\n",
    "    hp.hparams_config(\n",
    "        hparams=[HP_NUM_UNITS, HP_DROPOUT],\n",
    "        metrics=[hp.Metric(METRIC_F1_SCORE, display_name='F1 Score')],\n",
    "    )"
   ]
  },
  {
   "cell_type": "code",
   "execution_count": 18,
   "id": "876ff172-3649-41a3-9847-38ba30211cc4",
   "metadata": {
    "tags": []
   },
   "outputs": [],
   "source": [
    "def train_test_model(hparams, num_classes, train_ds, val_ds):\n",
    "    model = tf.keras.Sequential([\n",
    "        layers.Rescaling(1./255),\n",
    "        base_model,\n",
    "        layers.Flatten(),\n",
    "        layers.Dense(hparams[HP_NUM_UNITS], activation='relu'),\n",
    "        layers.Dropout(hparams[HP_DROPOUT]),\n",
    "        layers.Dense(num_classes),\n",
    "    ])\n",
    "    loss_fn = tf.keras.losses.SparseCategoricalCrossentropy(from_logits=True)\n",
    "    model.compile(optimizer='adam', loss=loss_fn, metrics=['accuracy'])\n",
    "\n",
    "    model.fit(train_ds, validation_data=val_ds, epochs=epochs, verbose=1)\n",
    "    \n",
    "    f1 = f1_score(model, val_ds)\n",
    "    print(\"f1:\", f1)\n",
    "    return np.mean(f1)"
   ]
  },
  {
   "cell_type": "code",
   "execution_count": 19,
   "id": "44b3dc03-078f-4d63-bdfc-0ac2be9af87b",
   "metadata": {
    "tags": []
   },
   "outputs": [],
   "source": [
    "def run(run_dir, hparams, train_ds, val_ds):\n",
    "    with tf.summary.create_file_writer(run_dir).as_default():\n",
    "        hp.hparams(hparams)  # record the values used in this trial\n",
    "        f1 = train_test_model(hparams, len(train_ds.class_names), train_ds, val_ds)\n",
    "        tf.summary.scalar(METRIC_F1_SCORE, f1, step=1)"
   ]
  },
  {
   "cell_type": "code",
   "execution_count": null,
   "id": "2a30717e-f1d8-4118-8c9d-62322851ee4b",
   "metadata": {
    "tags": []
   },
   "outputs": [],
   "source": [
    "session_num = 22\n",
    "for num_units in HP_NUM_UNITS.domain.values:\n",
    "    for dropout_rate in np.linspace(HP_DROPOUT.domain.min_value, HP_DROPOUT.domain.max_value, num=3):\n",
    "        hparams = {HP_NUM_UNITS: num_units, HP_DROPOUT: dropout_rate}\n",
    "        run_name = \"run-flowers15-%d\" % session_num\n",
    "        print('--- Starting trial: %s' % run_name)\n",
    "        print({h.name: hparams[h] for h in hparams})\n",
    "        run(DIR + '/' + run_name, hparams, train15_ds, val15_ds)\n",
    "        session_num += 1"
   ]
  },
  {
   "cell_type": "code",
   "execution_count": null,
   "id": "e8c49c9d-7235-40e3-acc1-ce98c6ddbdc1",
   "metadata": {
    "tags": []
   },
   "outputs": [],
   "source": [
    "%tensorboard --logdir logs/hparam_tuning --host localhost"
   ]
  },
  {
   "cell_type": "markdown",
   "id": "5a41cf32-db18-47ef-8dd7-5ce37be9570d",
   "metadata": {},
   "source": [
    "![Tensorboard](step9-15flowers-2.png) ![Tensorboard](step9-15flowers-1.png)\n",
    "\n",
    "Making out model wider did improve it, but we only got an F1 score of 0.91. Not as good as the 0.95 we got before."
   ]
  },
  {
   "cell_type": "code",
   "execution_count": null,
   "id": "a69b66d6-6cb7-4baa-b5d0-af4ba570f402",
   "metadata": {},
   "outputs": [],
   "source": []
  }
 ],
 "metadata": {
  "kernelspec": {
   "display_name": "Python 3 (ipykernel)",
   "language": "python",
   "name": "python3"
  },
  "language_info": {
   "codemirror_mode": {
    "name": "ipython",
    "version": 3
   },
   "file_extension": ".py",
   "mimetype": "text/x-python",
   "name": "python",
   "nbconvert_exporter": "python",
   "pygments_lexer": "ipython3",
   "version": "3.10.10"
  }
 },
 "nbformat": 4,
 "nbformat_minor": 5
}
