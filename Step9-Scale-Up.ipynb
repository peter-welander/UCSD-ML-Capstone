{
 "cells": [
  {
   "cell_type": "markdown",
   "id": "7dcbe55b-ec8a-4e46-b64c-fdcf4a1e3964",
   "metadata": {
    "tags": []
   },
   "source": [
    "# Step 9: Scaling Up.\n",
    "\n",
    "In the previous section we experimented on a dataset that only had 5 flowers. \\\n",
    "We were able to build a model that reached a 97% accuracy and a 0.96 F1 score.\n",
    "\n",
    "Now let's try to see how our model performs on bigger datasets, with the goal of hitting 95% accuracy on a bigger set containing 41 types of flowers.\n",
    "\n",
    "\n",
    "## Prediction\n",
    "I predict we will run into the following difficulties:\n",
    " * Needing to re-tune model hyper-parameters to work with more classes. We may even need to swap out the base model for a bigger net.\n",
    " * Time to train model will go up. Maybe we need a way to checkpoint our work to disk and run multiple times, or maybe even move to a cloud solution.\n",
    " \n",
    " Let's see how it goes :) \n"
   ]
  },
  {
   "cell_type": "code",
   "execution_count": 2,
   "id": "c1853fcb-34c1-42a1-90bc-7a060671dc7d",
   "metadata": {
    "tags": []
   },
   "outputs": [],
   "source": [
    "import pathlib\n",
    "import os.path\n",
    "\n",
    "import numpy as np\n",
    "import matplotlib.pyplot as plt \n",
    "import tensorflow as tf\n",
    "import tensorflow_hub as hub\n",
    "\n",
    "from tensorflow import keras\n",
    "from tensorflow.keras import layers\n",
    "from tensorboard.plugins.hparams import api as hp"
   ]
  },
  {
   "cell_type": "code",
   "execution_count": 3,
   "id": "47d4b370-f8de-4c82-9dea-23f3b920c08b",
   "metadata": {
    "tags": []
   },
   "outputs": [],
   "source": [
    "%load_ext tensorboard"
   ]
  },
  {
   "cell_type": "code",
   "execution_count": 4,
   "id": "22d213f0-9a7e-495d-aca8-9ecf4103db4c",
   "metadata": {
    "tags": []
   },
   "outputs": [],
   "source": [
    "model_url = 'https://tfhub.dev/google/bit/s-r50x1/1'\n",
    "base_model = hub.KerasLayer(model_url)"
   ]
  },
  {
   "cell_type": "code",
   "execution_count": 5,
   "id": "89b46cee-cf04-48e2-b91a-d2a6007aa577",
   "metadata": {
    "tags": []
   },
   "outputs": [],
   "source": [
    "batch_size = 32\n",
    "epochs=25\n",
    "img_height = 192\n",
    "img_width = 192"
   ]
  },
  {
   "cell_type": "code",
   "execution_count": 6,
   "id": "c6a1dd01-6536-44d2-8e5e-3b75b9a340bd",
   "metadata": {
    "tags": []
   },
   "outputs": [],
   "source": [
    "# Let's define a function for reading our data, since we do it more than once.\n",
    "def read_data(flower_set):\n",
    "    data_dir =  pathlib.Path(os.path.abspath(\"images/\" + flower_set + '/'))\n",
    "    return tf.keras.utils.image_dataset_from_directory(data_dir, validation_split=0.2, subset=\"both\", seed=123,\n",
    "                                                               image_size=(img_height, img_width), batch_size=batch_size)"
   ]
  },
  {
   "cell_type": "code",
   "execution_count": 7,
   "id": "3f34d72f-4f6a-4f15-bfd7-0e3f77cb078f",
   "metadata": {
    "tags": []
   },
   "outputs": [],
   "source": [
    "from sklearn.metrics import f1_score as sk_f1\n",
    "\n",
    "# Define our own function since we are working with batch datasets.\n",
    "def f1_score(model, val_ds):\n",
    "    y_pred = []  # store predicted labels\n",
    "    y_true = []  # store true labels\n",
    "\n",
    "    # We iterate over the dataset to get the true label and input at the same time.\n",
    "    # Otherwise we will unintentionally shuffle the dataset.\n",
    "    for image_batch, label_batch in val_ds:\n",
    "        y_true.append(label_batch)\n",
    "        preds = model.predict(image_batch, verbose=0)\n",
    "        y_pred.append(np.argmax(preds, axis = - 1))\n",
    "\n",
    "    # convert the true and predicted labels into tensors\n",
    "    correct_labels = tf.concat([item for item in y_true], axis = 0)\n",
    "    predicted_labels = tf.concat([item for item in y_pred], axis = 0)\n",
    "    \n",
    "    return sk_f1(correct_labels, predicted_labels, average=None)"
   ]
  },
  {
   "cell_type": "markdown",
   "id": "a9029d87-8d82-4185-83e7-7df6bd4a8c62",
   "metadata": {},
   "source": [
    "## 9.1: Datasets\n",
    "\n",
    "So far we have been testing our dataset on only 5 flowers. Now let's try scaling it up.\n",
    "\n",
    "Sets:\n",
    "\n",
    "| name | size | reason\n",
    "|------|------|------\n",
    "|Flowers5| 1,857 | **Prototype set** can iterate quickly on it.\n",
    "|Flowers15 | 5,902 | **Test scaling** this medium sized set will tell us how increasing the scale impacts our model.\n",
    "|Flowers41 | 15,329 | **Target**. Meets the minimum requirement of 15,000 files.\n",
    "|Flowers299 | 115,944 | **Stretch**. Very large set, could be interesting to build a model on this if time allows."
   ]
  },
  {
   "cell_type": "code",
   "execution_count": 23,
   "id": "ae64fd03-42a8-4e00-8c0e-b65992031200",
   "metadata": {
    "tags": []
   },
   "outputs": [
    {
     "name": "stdout",
     "output_type": "stream",
     "text": [
      "Found 1857 files belonging to 5 classes.\n",
      "Using 1486 files for training.\n",
      "Using 371 files for validation.\n",
      "['Calceolaria', 'Daffodil', 'Freesia', 'Hibiscus', 'Iris']\n"
     ]
    }
   ],
   "source": [
    "train5_ds, val5_ds = read_data('Flowers5')\n",
    "print(train5_ds.class_names)"
   ]
  },
  {
   "cell_type": "code",
   "execution_count": 7,
   "id": "fbe74998-aae5-4964-84e2-bef9f06b39a2",
   "metadata": {
    "tags": []
   },
   "outputs": [
    {
     "name": "stdout",
     "output_type": "stream",
     "text": [
      "Found 5902 files belonging to 15 classes.\n",
      "Using 4722 files for training.\n",
      "Using 1180 files for validation.\n",
      "['Abutilon', \"Baby'sBreath\", 'Calceolaria', 'Celosia', 'Daffodil', 'Epimedium', 'Erica', 'FrangipaniFlower', 'Freesia', 'FrenchMarigold', 'Hibiscus', 'Hyacinth', 'IpomoeaLobata', 'Iris', 'JohnnyJumpUp']\n"
     ]
    }
   ],
   "source": [
    "train15_ds, val15_ds = read_data('Flowers15')\n",
    "print(train15_ds.class_names)"
   ]
  },
  {
   "cell_type": "code",
   "execution_count": 8,
   "id": "27cd9207-094d-4865-b80a-1ea2a931128e",
   "metadata": {
    "tags": []
   },
   "outputs": [
    {
     "name": "stdout",
     "output_type": "stream",
     "text": [
      "Found 15329 files belonging to 41 classes.\n",
      "Using 12264 files for training.\n",
      "Using 3065 files for validation.\n",
      "['Abutilon', 'Acacia', 'Alyssum', \"Baby'sBreath\", 'Bellflower', 'BleedingHeart', 'Borage', 'Buttercup', 'Calceolaria', 'Celosia', 'Chrysanthemum', 'Clover', 'Crocus', 'Daffodil', 'Daisy', 'Dandelion', 'Diascia', 'Dill', 'Epimedium', 'Erica', 'FrangipaniFlower', 'Freesia', 'FrenchMarigold', 'Fuchsia', 'Gardenia', 'Gladiolas', 'Hibiscus', 'Honeysuckle', 'Hyacinth', 'IpomoeaLobata', 'Iris', 'JacobsLadder', 'Jasmine', 'JohnnyJumpUp', 'Lily', 'Lotus', 'Magnolia', 'Marigold', 'Orchid', 'Roses', 'TobaccoPlant']\n"
     ]
    }
   ],
   "source": [
    "train41_ds, val41_ds = read_data('Flowers41')\n",
    "print(train41_ds.class_names)"
   ]
  },
  {
   "cell_type": "code",
   "execution_count": 9,
   "id": "1b866f83-d208-4a93-973b-dae09cea7a92",
   "metadata": {
    "tags": []
   },
   "outputs": [
    {
     "name": "stdout",
     "output_type": "stream",
     "text": [
      "Found 115944 files belonging to 299 classes.\n",
      "Using 92756 files for training.\n",
      "Using 23188 files for validation.\n",
      "['Abutilon', 'Acacia', 'Aconite', 'AfricanDaisy', 'Agapanthus', 'Ageratum', 'Alchemilla', 'Allium', 'Alstroemeria', 'Alyssum', 'Amaranthus', 'Amaryllis', 'Anemone', 'AniseHyssop', 'ArmeriaMaritima', 'Aster', 'Azalea', \"Baby'sBreath\", \"Bachelor'sButton\", 'BalloonFlower', 'Ballota', 'BeeBalm', 'Begonia', 'Bellflower', 'Bergamot', 'Bergenia', 'Billbergia', 'Black-eyedSusan', 'BlanketFlower', 'BlazingStar', 'BleedingHeart', 'Bletilla', 'Blue-eyedGrass', 'Bluebonnets', 'BluestarFlower', 'Borage', 'Bottlebrush', 'Bouvardia', 'Brachyscome', 'Brassica', 'Broom', 'Buttercup', 'ButterflyBush', 'Calceolaria', 'Calendula', 'CaliforniaPoppy', 'CallaLily', 'Camellia', 'Candytuft', 'CannaLily', 'CapeLeadwort', 'CapePrimrose', 'CardinalFlower', 'Carnation', 'Catharanthus', 'Catmint', 'Celosia', 'CerastiumTomentosum', 'Chicory', 'Chionodoxa', 'Chrysanthemum', 'Clarkia', 'Clematis', 'Clover', 'Columbine', 'Coneflower', 'CoralBells', 'CoralVine', 'Coreopsis', 'Cornflower', 'Corydalis', 'Cosmos', 'Cotoneaster', 'Crocosmia', 'Crocus', 'CrownImperial', 'CuckooFlower', 'Cyclamen', 'Daffodil', 'Dahlia', 'Daisy', 'Dandelion', 'Daphne', 'Daylily', 'Decumaria', 'Delphinium', 'DesertRose', 'Deutzia', 'Dianella', 'Dianthusbarbatus', 'Diascia', 'Dietes', 'Dill', 'Disa', 'DutchIris', 'Echinops', 'Echium', 'Elder', 'EnglishBluebell', 'Epimedium', 'Eremurus', 'Erica', 'Erigeron', 'Euphorbia', 'Eustoma', 'EveningPrimrose', 'FallCrocus', 'Feverfew', 'Firethorn', 'FlamingKaty', 'FlannelFlower', 'FlaxFlower', 'FloweringDogwood', 'ForgetMeNot', 'Forsythia', 'FourOclock', 'Foxglove', 'FrangipaniFlower', 'Freesia', 'FrenchMarigold', 'Fuchsia', 'Gaillardia', 'Gardenia', 'Gazania', 'Geranium', 'GerberaFlower', 'Gladiolas', 'Goldenrod', 'GrapeHyacinth', 'Guzmania', 'Hawthorn', 'Heather', 'Hebe', 'Helenium', 'Helichrysum', 'Heliotrope', 'Hellebore', 'Hibiscus', 'Holly', 'Hollyhock', 'Honeysuckle', 'Hosta', 'Hyacinth', 'Hydrangea', 'Hyssop', 'IcePlant', 'IcelandPoppy', 'Impatiens', 'IpomoeaLobata', 'Iris', 'Ixia', 'Ixora', 'JacobsLadder', 'Jasmine', 'JohnnyJumpUp', 'KaffirLily', 'Kalmia', 'KangarooPaw', 'Knautia', 'Kniphofia', 'LadysSlipper', 'Laelia', 'Lantana', 'Larkspur', 'Lavatera', 'Lavender', 'LemonVerbena', 'Lewesia', 'Lilac', 'Lily', 'LilyoftheValley', 'Linaria', 'Lotus', 'LoveintheMist', 'Lunaria', 'Lupin', 'Magnolia', 'MalteseCross', 'Mandevilla', 'MargueriteDaisy', 'Marigold', 'Matthiola', 'Mayflower', 'Meconopsis', 'Mimosa', 'MonksHood', 'MoonflowerVine', 'Moraea', 'MorningGlory', 'MossRose', 'Narcissus', 'Nasturtium', 'Nemesia', 'Nemophila', 'Neoregelia', 'Nerine', 'NewZealandTeaTree', 'Nierembergia', 'Nolana', 'Oleander', 'Olearia', 'Orchid', 'OrientalLily', 'OrientalPoppy', 'OrnamentalCherry', 'Ornithogalum', 'Osteospermum', 'Oxalis', 'OxeyeDaisy', 'OysterPlant', 'PaintedDaisy', 'Pansy', 'Parodia', 'PassionFlower', 'PeaceLily', 'Pelargonium', 'Penstemon', 'Peony', 'Periwinkle', 'PersianButtercup', 'Petunia', 'Phlox', 'Photinia', 'Physostegia', 'PincushionFlower', 'Pinks', 'Poinsettia', 'Polyanthus', 'Poppy', 'Potentilla', 'PowderPuff', 'QuakerLadies', 'QueenoftheMeadow', 'QueensCup', 'Quince', 'RainLily', 'RockRose', 'Rondeletia', 'RoseofSharon', 'Roses', 'Sage', 'SaintJohnsWort', 'Scaevola', 'ScentedGeranium', 'Scilla', 'Sedum', 'ShastaDaisy', 'Silene', 'Snapdragon', 'Snowdrop', 'Snowflake', 'Soapwort', 'Speedwell', 'Starflower', 'Statice', 'Sunflower', 'SweetPea', 'TeaRose', 'TigerFlower', 'Tithonia', 'TobaccoPlant', 'Trachelium', 'Trillium', 'Triteleia', 'Tritoniacrocata', 'Trollius', 'TrumpetVine', 'Tuberose', 'Tulip', 'UrnPlant', 'Ursinia', 'UvaUrsi', 'Valerian', 'Verbena', 'Viburnum', 'Viola', 'VirginiaCreeper', 'Wallflower', 'Wandflower', 'Waterlilies', 'Watsonia', 'WaxPlant', 'Wedelia', 'Weigela', 'WhirlingButterflies', 'WinterJasmine', 'Winterberry', 'WishboneFlower', 'WoollyViolet', 'Xanthocerassorbifolium', 'Xerophyllum', 'Xylobium', 'Xylosma', 'Yarrow', 'Yellow-eyedGrass', 'YellowArchangel', 'YellowBell', 'Zenobia', 'Zinnia']\n"
     ]
    }
   ],
   "source": [
    "train299_ds, val299_ds = read_data('Flowers299')\n",
    "print(train299_ds.class_names)"
   ]
  },
  {
   "cell_type": "markdown",
   "id": "675d6675-6d16-48ff-a404-c5531968df0b",
   "metadata": {},
   "source": [
    "## 9.2: Scaling up to 15 flowers.\n",
    "\n",
    "### 9.2.1: Run the top model for 5 flowers.\n",
    "In the previous section we built a prototype on 5 flowers that achieved an accuracy of 97% with an F1 score of 0.96. Let's start by seeing how well that model works on the 15 set."
   ]
  },
  {
   "cell_type": "code",
   "execution_count": 8,
   "id": "83fafc88-c42a-4e92-941e-45d68d327d2f",
   "metadata": {
    "tags": []
   },
   "outputs": [],
   "source": [
    "model_15 = tf.keras.Sequential([\n",
    "    layers.Rescaling(1./255),\n",
    "    base_model,\n",
    "    layers.Dense(32, activation='relu'),\n",
    "    layers.Dropout(0.4),\n",
    "    layers.Dense(15),\n",
    "])\n",
    "model_15.compile(\n",
    "    optimizer='adam',\n",
    "    loss=tf.keras.losses.SparseCategoricalCrossentropy(from_logits=True),\n",
    "    metrics=['accuracy'],\n",
    ")"
   ]
  },
  {
   "cell_type": "code",
   "execution_count": null,
   "id": "d4d6eed7-fa22-4e67-bc21-7ad01ac0c17d",
   "metadata": {},
   "outputs": [],
   "source": [
    "history = model_15.fit(train15_ds, validation_data=val15_ds, epochs=epochs, verbose=1)"
   ]
  },
  {
   "cell_type": "code",
   "execution_count": 11,
   "id": "1b4d3120-8a7c-41e9-8f5a-db66a9f66640",
   "metadata": {
    "tags": []
   },
   "outputs": [
    {
     "data": {
      "image/png": "[encoded data removed]",
      "text/plain": [
       "<Figure size 640x480 with 1 Axes>"
      ]
     },
     "metadata": {},
     "output_type": "display_data"
    }
   ],
   "source": [
    "plt.plot(history.history['accuracy'], label = 'accuracy')\n",
    "plt.plot(history.history['val_accuracy'], label = 'validation accuracy')\n",
    "plt.legend()\n",
    "plt.xlabel('epoch')\n",
    "plt.show()"
   ]
  },
  {
   "cell_type": "code",
   "execution_count": 12,
   "id": "f0128787-a9ad-4c96-a796-a2e6c57cafd2",
   "metadata": {
    "tags": []
   },
   "outputs": [
    {
     "name": "stdout",
     "output_type": "stream",
     "text": [
      "F1 score: 0.9247144264422004\n"
     ]
    }
   ],
   "source": [
    "f1 = f1_score(model_15, val15_ds)\n",
    "print(\"F1 score:\", np.mean(f1))"
   ]
  },
  {
   "cell_type": "markdown",
   "id": "e0194518-e41b-47c5-a983-7855640d9f1b",
   "metadata": {},
   "source": [
    "\n",
    "**Results**: Our model seems to be underfitted, and does not perform as well on this dataset. We likely need to re-tune it. I suspect we need a denser layer."
   ]
  },
  {
   "cell_type": "markdown",
   "id": "b15d3cf0-6fe9-4e47-b970-709365e7686a",
   "metadata": {},
   "source": [
    "### 9.2.2: Re-tuning: Wider model.\n",
    "\n",
    "Let's see if changing the density and dropout will improve our model."
   ]
  },
  {
   "cell_type": "code",
   "execution_count": 8,
   "id": "1bb5d4bf-00da-4097-800b-67c65ee5105f",
   "metadata": {
    "tags": []
   },
   "outputs": [],
   "source": [
    "HP_NUM_UNITS = hp.HParam('num_units', hp.Discrete([32, 48, 64]))\n",
    "HP_DROPOUT = hp.HParam('dropout', hp.RealInterval(0.1, 0.3))\n",
    "\n",
    "METRIC_F1_SCORE = 'f1_score'\n",
    "DIR='logs/hparam_tuning'\n",
    "\n",
    "with tf.summary.create_file_writer(DIR).as_default():\n",
    "    hp.hparams_config(\n",
    "        hparams=[HP_NUM_UNITS, HP_DROPOUT],\n",
    "        metrics=[hp.Metric(METRIC_F1_SCORE, display_name='F1 Score')],\n",
    "    )"
   ]
  },
  {
   "cell_type": "code",
   "execution_count": 9,
   "id": "876ff172-3649-41a3-9847-38ba30211cc4",
   "metadata": {
    "tags": []
   },
   "outputs": [],
   "source": [
    "def train_test_model(hparams, num_classes, train_ds, val_ds):\n",
    "    model = tf.keras.Sequential([\n",
    "        layers.Rescaling(1./255),\n",
    "        base_model,\n",
    "        layers.Dense(hparams[HP_NUM_UNITS], activation='relu'),\n",
    "        layers.Dropout(hparams[HP_DROPOUT]),\n",
    "        layers.Dense(num_classes),\n",
    "    ])\n",
    "    loss_fn = tf.keras.losses.SparseCategoricalCrossentropy(from_logits=True)\n",
    "    model.compile(optimizer='adam', loss=loss_fn, metrics=['accuracy'])\n",
    "\n",
    "    model.fit(train_ds, validation_data=val_ds, epochs=epochs, verbose=1)\n",
    "\n",
    "    f1 = f1_score(model, val_ds)\n",
    "    print(\"f1:\", f1)\n",
    "    return np.mean(f1)"
   ]
  },
  {
   "cell_type": "code",
   "execution_count": 13,
   "id": "44b3dc03-078f-4d63-bdfc-0ac2be9af87b",
   "metadata": {
    "tags": []
   },
   "outputs": [],
   "source": [
    "def run(run_dir, hparams, train_ds, val_ds):\n",
    "    with tf.summary.create_file_writer(run_dir).as_default():\n",
    "        hp.hparams(hparams)  # record the values used in this trial\n",
    "        f1 = train_test_model(hparams, len(train_ds.class_names), train_ds, val_ds)\n",
    "        tf.summary.scalar(METRIC_F1_SCORE, f1, step=1)"
   ]
  },
  {
   "cell_type": "code",
   "execution_count": 21,
   "id": "2a0d0fa8-2097-482c-8a57-a690a20bf86b",
   "metadata": {
    "tags": []
   },
   "outputs": [],
   "source": [
    "session_num = 0"
   ]
  },
  {
   "cell_type": "code",
   "execution_count": null,
   "id": "2a30717e-f1d8-4118-8c9d-62322851ee4b",
   "metadata": {
    "tags": []
   },
   "outputs": [],
   "source": [
    "for num_units in HP_NUM_UNITS.domain.values:\n",
    "    for dropout_rate in np.linspace(HP_DROPOUT.domain.min_value, HP_DROPOUT.domain.max_value, num=5):\n",
    "        hparams = {HP_NUM_UNITS: num_units, HP_DROPOUT: dropout_rate}\n",
    "        run_name = \"run-flowers15-%d\" % session_num\n",
    "        print('--- Starting trial: %s' % run_name)\n",
    "        print({h.name: hparams[h] for h in hparams})\n",
    "        run(DIR + '/' + run_name, hparams, train15_ds, val15_ds)\n",
    "        session_num += 1"
   ]
  },
  {
   "cell_type": "code",
   "execution_count": null,
   "id": "e8c49c9d-7235-40e3-acc1-ce98c6ddbdc1",
   "metadata": {
    "tags": []
   },
   "outputs": [],
   "source": [
    "%tensorboard --logdir logs/hparam_tuning --host localhost"
   ]
  },
  {
   "cell_type": "markdown",
   "id": "5a41cf32-db18-47ef-8dd7-5ce37be9570d",
   "metadata": {},
   "source": [
    "![Tensorboard](step9-15.png)\n",
    "\n",
    "Re-tuning the layer to have a density of 64 and a dropout of 0.25 gives us an adequate result for this size. This suggests that we may need an even wider network for the 41 flowers."
   ]
  },
  {
   "cell_type": "markdown",
   "id": "104248de-1feb-4daf-9a6e-8bc1e5a82f67",
   "metadata": {},
   "source": [
    "## 9.3: 41 Flowers"
   ]
  },
  {
   "cell_type": "markdown",
   "id": "913f6a39-ffb6-4756-8c34-c1aa114d9011",
   "metadata": {},
   "source": [
    "### 9.3.1: Testing the best model for Flowers15 on Flowers41\n",
    "\n",
    "Now let's take the best model for 15 flowers and see how it does on the 41 flower set. Our goal here is to get close to a 0.95 F1 score."
   ]
  },
  {
   "cell_type": "code",
   "execution_count": 11,
   "id": "d87dac4e-d7ff-4a5f-b8c0-5c42ad74721f",
   "metadata": {
    "tags": []
   },
   "outputs": [],
   "source": [
    "model_41 = tf.keras.Sequential([\n",
    "    layers.Rescaling(1./255),\n",
    "    base_model,\n",
    "    layers.Dense(64, activation='relu'),\n",
    "    layers.Dropout(0.25),\n",
    "    layers.Dense(41),\n",
    "])\n",
    "model_41.compile(\n",
    "    optimizer='adam',\n",
    "    loss=tf.keras.losses.SparseCategoricalCrossentropy(from_logits=True),\n",
    "    metrics=['accuracy'],\n",
    ")"
   ]
  },
  {
   "cell_type": "code",
   "execution_count": 12,
   "id": "d78d5222-cf3b-482c-956a-49ec8d556f66",
   "metadata": {
    "tags": []
   },
   "outputs": [
    {
     "name": "stdout",
     "output_type": "stream",
     "text": [
      "Epoch 1/50\n",
      "384/384 [==============================] - 64s 156ms/step - loss: 2.4058 - accuracy: 0.3502 - val_loss: 1.4605 - val_accuracy: 0.6029\n",
      "Epoch 2/50\n",
      "384/384 [==============================] - 58s 152ms/step - loss: 1.5536 - accuracy: 0.5574 - val_loss: 1.1894 - val_accuracy: 0.6688\n",
      "Epoch 3/50\n",
      "384/384 [==============================] - 58s 152ms/step - loss: 1.3069 - accuracy: 0.6202 - val_loss: 1.0246 - val_accuracy: 0.7122\n",
      "Epoch 4/50\n",
      "384/384 [==============================] - 58s 152ms/step - loss: 1.1384 - accuracy: 0.6650 - val_loss: 0.9542 - val_accuracy: 0.7367\n",
      "Epoch 5/50\n",
      "384/384 [==============================] - 58s 152ms/step - loss: 1.0369 - accuracy: 0.6925 - val_loss: 0.8693 - val_accuracy: 0.7501\n",
      "Epoch 6/50\n",
      "384/384 [==============================] - 58s 152ms/step - loss: 0.9394 - accuracy: 0.7161 - val_loss: 0.8440 - val_accuracy: 0.7520\n",
      "Epoch 7/50\n",
      "384/384 [==============================] - 58s 152ms/step - loss: 0.8693 - accuracy: 0.7390 - val_loss: 0.8231 - val_accuracy: 0.7670\n",
      "Epoch 8/50\n",
      "384/384 [==============================] - 58s 152ms/step - loss: 0.8269 - accuracy: 0.7426 - val_loss: 0.7483 - val_accuracy: 0.7925\n",
      "Epoch 9/50\n",
      "384/384 [==============================] - 58s 152ms/step - loss: 0.7707 - accuracy: 0.7612 - val_loss: 0.7523 - val_accuracy: 0.7860\n",
      "Epoch 10/50\n",
      "384/384 [==============================] - 58s 152ms/step - loss: 0.7241 - accuracy: 0.7710 - val_loss: 0.7017 - val_accuracy: 0.8055\n",
      "Epoch 11/50\n",
      "384/384 [==============================] - 58s 152ms/step - loss: 0.6845 - accuracy: 0.7844 - val_loss: 0.6986 - val_accuracy: 0.8007\n",
      "Epoch 12/50\n",
      "384/384 [==============================] - 58s 152ms/step - loss: 0.6530 - accuracy: 0.7941 - val_loss: 0.6839 - val_accuracy: 0.8029\n",
      "Epoch 13/50\n",
      "384/384 [==============================] - 58s 152ms/step - loss: 0.6055 - accuracy: 0.8054 - val_loss: 0.6796 - val_accuracy: 0.8033\n",
      "Epoch 14/50\n",
      "384/384 [==============================] - 58s 152ms/step - loss: 0.5922 - accuracy: 0.8119 - val_loss: 0.7192 - val_accuracy: 0.7967\n",
      "Epoch 15/50\n",
      "384/384 [==============================] - 58s 152ms/step - loss: 0.5578 - accuracy: 0.8232 - val_loss: 0.6531 - val_accuracy: 0.8153\n",
      "Epoch 16/50\n",
      "384/384 [==============================] - 59s 152ms/step - loss: 0.5144 - accuracy: 0.8345 - val_loss: 0.6696 - val_accuracy: 0.8104\n",
      "Epoch 17/50\n",
      "384/384 [==============================] - 58s 152ms/step - loss: 0.5181 - accuracy: 0.8329 - val_loss: 0.6995 - val_accuracy: 0.8069\n",
      "Epoch 18/50\n",
      "384/384 [==============================] - 58s 152ms/step - loss: 0.4973 - accuracy: 0.8355 - val_loss: 0.6609 - val_accuracy: 0.8127\n",
      "Epoch 19/50\n",
      "384/384 [==============================] - 58s 152ms/step - loss: 0.4602 - accuracy: 0.8492 - val_loss: 0.6543 - val_accuracy: 0.8251\n",
      "Epoch 20/50\n",
      "384/384 [==============================] - 58s 152ms/step - loss: 0.4627 - accuracy: 0.8486 - val_loss: 0.6428 - val_accuracy: 0.8271\n",
      "Epoch 21/50\n",
      "384/384 [==============================] - 58s 152ms/step - loss: 0.4422 - accuracy: 0.8524 - val_loss: 0.6458 - val_accuracy: 0.8346\n",
      "Epoch 22/50\n",
      "384/384 [==============================] - 58s 152ms/step - loss: 0.4318 - accuracy: 0.8547 - val_loss: 0.6526 - val_accuracy: 0.8297\n",
      "Epoch 23/50\n",
      "384/384 [==============================] - 58s 151ms/step - loss: 0.4069 - accuracy: 0.8644 - val_loss: 0.6711 - val_accuracy: 0.8264\n",
      "Epoch 24/50\n",
      "384/384 [==============================] - 58s 152ms/step - loss: 0.3850 - accuracy: 0.8714 - val_loss: 0.6626 - val_accuracy: 0.8294\n",
      "Epoch 25/50\n",
      "384/384 [==============================] - 58s 152ms/step - loss: 0.3861 - accuracy: 0.8699 - val_loss: 0.6404 - val_accuracy: 0.8349\n",
      "Epoch 26/50\n",
      "384/384 [==============================] - 58s 152ms/step - loss: 0.3646 - accuracy: 0.8767 - val_loss: 0.6631 - val_accuracy: 0.8398\n",
      "Epoch 27/50\n",
      "384/384 [==============================] - 58s 152ms/step - loss: 0.3636 - accuracy: 0.8798 - val_loss: 0.6593 - val_accuracy: 0.8372\n",
      "Epoch 28/50\n",
      "384/384 [==============================] - 58s 152ms/step - loss: 0.3584 - accuracy: 0.8777 - val_loss: 0.6638 - val_accuracy: 0.8346\n",
      "Epoch 29/50\n",
      "384/384 [==============================] - 58s 152ms/step - loss: 0.3323 - accuracy: 0.8883 - val_loss: 0.6623 - val_accuracy: 0.8424\n",
      "Epoch 30/50\n",
      "384/384 [==============================] - 58s 152ms/step - loss: 0.3549 - accuracy: 0.8753 - val_loss: 0.6519 - val_accuracy: 0.8392\n",
      "Epoch 31/50\n",
      "384/384 [==============================] - 58s 152ms/step - loss: 0.3258 - accuracy: 0.8935 - val_loss: 0.6623 - val_accuracy: 0.8352\n",
      "Epoch 32/50\n",
      "384/384 [==============================] - 58s 152ms/step - loss: 0.3247 - accuracy: 0.8849 - val_loss: 0.6483 - val_accuracy: 0.8424\n",
      "Epoch 33/50\n",
      "384/384 [==============================] - 58s 152ms/step - loss: 0.3244 - accuracy: 0.8900 - val_loss: 0.6460 - val_accuracy: 0.8398\n",
      "Epoch 34/50\n",
      "384/384 [==============================] - 58s 152ms/step - loss: 0.3105 - accuracy: 0.8918 - val_loss: 0.6745 - val_accuracy: 0.8506\n",
      "Epoch 35/50\n",
      "384/384 [==============================] - 58s 152ms/step - loss: 0.3092 - accuracy: 0.8924 - val_loss: 0.6882 - val_accuracy: 0.8457\n",
      "Epoch 36/50\n",
      "384/384 [==============================] - 58s 152ms/step - loss: 0.2922 - accuracy: 0.8986 - val_loss: 0.7335 - val_accuracy: 0.8323\n",
      "Epoch 37/50\n",
      "384/384 [==============================] - 58s 152ms/step - loss: 0.3011 - accuracy: 0.8977 - val_loss: 0.6872 - val_accuracy: 0.8408\n",
      "Epoch 38/50\n",
      "384/384 [==============================] - 58s 152ms/step - loss: 0.3015 - accuracy: 0.8978 - val_loss: 0.7170 - val_accuracy: 0.8378\n",
      "Epoch 39/50\n",
      "384/384 [==============================] - 58s 152ms/step - loss: 0.2911 - accuracy: 0.8973 - val_loss: 0.6998 - val_accuracy: 0.8476\n",
      "Epoch 40/50\n",
      "384/384 [==============================] - 58s 152ms/step - loss: 0.2823 - accuracy: 0.9022 - val_loss: 0.7327 - val_accuracy: 0.8352\n",
      "Epoch 41/50\n",
      "384/384 [==============================] - 58s 152ms/step - loss: 0.2738 - accuracy: 0.9044 - val_loss: 0.6930 - val_accuracy: 0.8506\n",
      "Epoch 42/50\n",
      "384/384 [==============================] - 58s 152ms/step - loss: 0.2701 - accuracy: 0.9100 - val_loss: 0.7239 - val_accuracy: 0.8431\n",
      "Epoch 43/50\n",
      "384/384 [==============================] - 58s 152ms/step - loss: 0.2611 - accuracy: 0.9084 - val_loss: 0.6921 - val_accuracy: 0.8577\n",
      "Epoch 44/50\n",
      "384/384 [==============================] - 58s 152ms/step - loss: 0.2553 - accuracy: 0.9117 - val_loss: 0.6844 - val_accuracy: 0.8489\n",
      "Epoch 45/50\n",
      "384/384 [==============================] - 58s 152ms/step - loss: 0.2526 - accuracy: 0.9159 - val_loss: 0.7613 - val_accuracy: 0.8277\n",
      "Epoch 46/50\n",
      "384/384 [==============================] - 58s 152ms/step - loss: 0.2724 - accuracy: 0.9048 - val_loss: 0.7094 - val_accuracy: 0.8454\n",
      "Epoch 47/50\n",
      "384/384 [==============================] - 58s 152ms/step - loss: 0.2553 - accuracy: 0.9125 - val_loss: 0.7641 - val_accuracy: 0.8369\n",
      "Epoch 48/50\n",
      "384/384 [==============================] - 61s 159ms/step - loss: 0.2522 - accuracy: 0.9116 - val_loss: 0.7346 - val_accuracy: 0.8502\n",
      "Epoch 49/50\n",
      "384/384 [==============================] - 64s 165ms/step - loss: 0.2429 - accuracy: 0.9176 - val_loss: 0.7490 - val_accuracy: 0.8509\n",
      "Epoch 50/50\n",
      "384/384 [==============================] - 92s 215ms/step - loss: 0.2513 - accuracy: 0.9179 - val_loss: 0.7507 - val_accuracy: 0.8499\n"
     ]
    }
   ],
   "source": [
    "history = model_41.fit(train41_ds, validation_data=val41_ds, epochs=2*epochs, verbose=1)"
   ]
  },
  {
   "cell_type": "code",
   "execution_count": 13,
   "id": "23d3b09f-6f52-42ed-ac4d-026ffe64e33f",
   "metadata": {},
   "outputs": [
    {
     "data": {
      "image/png": "[encoded data removed]",
      "text/plain": [
       "<Figure size 640x480 with 1 Axes>"
      ]
     },
     "metadata": {},
     "output_type": "display_data"
    }
   ],
   "source": [
    "plt.plot(history.history['accuracy'], label = 'accuracy')\n",
    "plt.plot(history.history['val_accuracy'], label = 'validation accuracy')\n",
    "plt.legend()\n",
    "plt.xlabel('epoch')\n",
    "plt.show()"
   ]
  },
  {
   "cell_type": "code",
   "execution_count": null,
   "id": "1cb617eb-683a-4a69-9c71-4f8afa0f07a8",
   "metadata": {},
   "outputs": [],
   "source": []
  },
  {
   "cell_type": "code",
   "execution_count": 10,
   "id": "fe68fd11-504e-423b-b497-d99ae82d2cab",
   "metadata": {
    "tags": []
   },
   "outputs": [],
   "source": [
    "HP_NUM_UNITS = hp.HParam('num_units', hp.Discrete([48, 64, 80]))\n",
    "HP_DROPOUT = hp.HParam('dropout', hp.RealInterval(0.1, 0.3))\n",
    "\n",
    "METRIC_F1_SCORE = 'f1_score'\n",
    "DIR='logs/hparam_tuning'\n",
    "\n",
    "with tf.summary.create_file_writer(DIR).as_default():\n",
    "    hp.hparams_config(\n",
    "        hparams=[HP_NUM_UNITS, HP_DROPOUT],\n",
    "        metrics=[hp.Metric(METRIC_F1_SCORE, display_name='F1 Score')],\n",
    "    )"
   ]
  },
  {
   "cell_type": "code",
   "execution_count": 11,
   "id": "c312109b-eaf9-40a7-8075-730326f43720",
   "metadata": {
    "tags": []
   },
   "outputs": [],
   "source": [
    "session_num = 0"
   ]
  },
  {
   "cell_type": "code",
   "execution_count": null,
   "id": "d58281eb-4b49-40fd-ba90-29ea8fa75ce3",
   "metadata": {
    "tags": []
   },
   "outputs": [],
   "source": [
    "for num_units in HP_NUM_UNITS.domain.values:\n",
    "    for dropout_rate in np.linspace(HP_DROPOUT.domain.min_value, HP_DROPOUT.domain.max_value, num=5):\n",
    "        hparams = {HP_NUM_UNITS: num_units, HP_DROPOUT: dropout_rate}\n",
    "        run_name = \"run-flowers41-%d\" % session_num\n",
    "        print('--- Starting trial: %s' % run_name)\n",
    "        print({h.name: hparams[h] for h in hparams})\n",
    "        run(DIR + '/' + run_name, hparams, train41_ds, val41_ds)\n",
    "        session_num += 1"
   ]
  },
  {
   "cell_type": "code",
   "execution_count": 7,
   "id": "3be1e8ac-4ecd-4b88-8f22-c97be19c3cff",
   "metadata": {
    "tags": []
   },
   "outputs": [
    {
     "data": {
      "text/html": [
       "\n",
       "      <iframe id=\"tensorboard-frame-30a659a00dcdfec\" width=\"100%\" height=\"800\" frameborder=\"0\">\n",
       "      </iframe>\n",
       "      <script>\n",
       "        (function() {\n",
       "          const frame = document.getElementById(\"tensorboard-frame-30a659a00dcdfec\");\n",
       "          const url = new URL(\"/\", window.location);\n",
       "          const port = 6006;\n",
       "          if (port) {\n",
       "            url.port = port;\n",
       "          }\n",
       "          frame.src = url;\n",
       "        })();\n",
       "      </script>\n",
       "    "
      ],
      "text/plain": [
       "<IPython.core.display.HTML object>"
      ]
     },
     "metadata": {},
     "output_type": "display_data"
    }
   ],
   "source": [
    "%tensorboard --logdir logs/hparam_tuning --host localhost"
   ]
  },
  {
   "cell_type": "code",
   "execution_count": 10,
   "id": "f7f802dd-521e-4b1d-8270-a2c893470772",
   "metadata": {
    "tags": []
   },
   "outputs": [],
   "source": [
    "model_exp = tf.keras.Sequential([\n",
    "    layers.Rescaling(1./255),\n",
    "    base_model,\n",
    "    layers.Dropout(0.3),\n",
    "    layers.Dense(299),\n",
    "])\n",
    "model_exp.compile(\n",
    "    optimizer='adam',\n",
    "    loss=tf.keras.losses.SparseCategoricalCrossentropy(from_logits=True),\n",
    "    metrics=['accuracy'],\n",
    ")"
   ]
  },
  {
   "cell_type": "code",
   "execution_count": 11,
   "id": "f4c4bc7e-35b1-4880-b592-b63f971c35ba",
   "metadata": {
    "tags": []
   },
   "outputs": [
    {
     "name": "stdout",
     "output_type": "stream",
     "text": [
      "Epoch 1/100\n",
      "2899/2899 [==============================] - 1635s 559ms/step - loss: 3.0843 - accuracy: 0.3536 - val_loss: 2.2425 - val_accuracy: 0.4933\n",
      "Epoch 2/100\n",
      "2899/2899 [==============================] - 440s 152ms/step - loss: 2.2399 - accuracy: 0.4947 - val_loss: 2.0797 - val_accuracy: 0.5356\n",
      "Epoch 3/100\n",
      "2899/2899 [==============================] - 441s 152ms/step - loss: 2.0182 - accuracy: 0.5387 - val_loss: 1.9919 - val_accuracy: 0.5624\n",
      "Epoch 4/100\n",
      "2899/2899 [==============================] - 440s 152ms/step - loss: 1.8944 - accuracy: 0.5616 - val_loss: 1.9328 - val_accuracy: 0.5834\n",
      "Epoch 5/100\n",
      "2899/2899 [==============================] - 440s 152ms/step - loss: 1.8269 - accuracy: 0.5762 - val_loss: 1.9233 - val_accuracy: 0.5894\n",
      "Epoch 6/100\n",
      "2899/2899 [==============================] - 440s 152ms/step - loss: 1.7676 - accuracy: 0.5892 - val_loss: 1.9567 - val_accuracy: 0.5874\n",
      "Epoch 7/100\n",
      "2899/2899 [==============================] - 440s 152ms/step - loss: 1.7262 - accuracy: 0.5981 - val_loss: 1.8861 - val_accuracy: 0.6077\n",
      "Epoch 8/100\n",
      "2899/2899 [==============================] - 440s 152ms/step - loss: 1.6950 - accuracy: 0.6061 - val_loss: 1.9375 - val_accuracy: 0.6025\n",
      "Epoch 9/100\n",
      "2899/2899 [==============================] - 440s 152ms/step - loss: 1.6734 - accuracy: 0.6123 - val_loss: 1.9071 - val_accuracy: 0.6163\n",
      "Epoch 10/100\n",
      "2899/2899 [==============================] - 440s 152ms/step - loss: 1.6489 - accuracy: 0.6203 - val_loss: 1.8936 - val_accuracy: 0.6199\n",
      "Epoch 11/100\n",
      "2899/2899 [==============================] - 440s 152ms/step - loss: 1.6167 - accuracy: 0.6244 - val_loss: 1.8800 - val_accuracy: 0.6276\n",
      "Epoch 12/100\n",
      "2899/2899 [==============================] - 440s 152ms/step - loss: 1.5997 - accuracy: 0.6304 - val_loss: 1.9365 - val_accuracy: 0.6221\n",
      "Epoch 13/100\n",
      "2899/2899 [==============================] - 440s 152ms/step - loss: 1.5977 - accuracy: 0.6318 - val_loss: 1.9053 - val_accuracy: 0.6308\n",
      "Epoch 14/100\n",
      "2899/2899 [==============================] - 440s 152ms/step - loss: 1.5801 - accuracy: 0.6377 - val_loss: 1.9365 - val_accuracy: 0.6285\n",
      "Epoch 15/100\n",
      "2899/2899 [==============================] - 440s 152ms/step - loss: 1.5831 - accuracy: 0.6383 - val_loss: 1.9121 - val_accuracy: 0.6384\n",
      "Epoch 16/100\n",
      "2899/2899 [==============================] - 440s 152ms/step - loss: 1.5794 - accuracy: 0.6394 - val_loss: 1.9249 - val_accuracy: 0.6376\n",
      "Epoch 17/100\n",
      "2899/2899 [==============================] - 440s 152ms/step - loss: 1.5622 - accuracy: 0.6462 - val_loss: 1.9562 - val_accuracy: 0.6387\n",
      "Epoch 18/100\n",
      "2899/2899 [==============================] - 615s 212ms/step - loss: 1.5632 - accuracy: 0.6468 - val_loss: 1.9640 - val_accuracy: 0.6365\n",
      "Epoch 19/100\n",
      "2899/2899 [==============================] - 446s 153ms/step - loss: 1.5500 - accuracy: 0.6500 - val_loss: 1.9577 - val_accuracy: 0.6383\n",
      "Epoch 20/100\n",
      "2899/2899 [==============================] - 444s 153ms/step - loss: 1.5382 - accuracy: 0.6531 - val_loss: 2.0004 - val_accuracy: 0.6395\n",
      "Epoch 21/100\n",
      "2899/2899 [==============================] - 441s 152ms/step - loss: 1.5400 - accuracy: 0.6541 - val_loss: 2.0153 - val_accuracy: 0.6404\n",
      "Epoch 22/100\n",
      "2899/2899 [==============================] - 441s 152ms/step - loss: 1.5461 - accuracy: 0.6569 - val_loss: 1.9684 - val_accuracy: 0.6448\n",
      "Epoch 23/100\n",
      "2899/2899 [==============================] - 441s 152ms/step - loss: 1.5301 - accuracy: 0.6580 - val_loss: 1.9878 - val_accuracy: 0.6480\n",
      "Epoch 24/100\n",
      "2899/2899 [==============================] - 441s 152ms/step - loss: 1.5330 - accuracy: 0.6590 - val_loss: 2.0567 - val_accuracy: 0.6377\n",
      "Epoch 25/100\n",
      "2899/2899 [==============================] - 441s 152ms/step - loss: 1.5195 - accuracy: 0.6622 - val_loss: 1.9982 - val_accuracy: 0.6509\n",
      "Epoch 26/100\n",
      "2899/2899 [==============================] - 441s 152ms/step - loss: 1.5332 - accuracy: 0.6605 - val_loss: 2.0442 - val_accuracy: 0.6462\n",
      "Epoch 27/100\n",
      "2899/2899 [==============================] - 441s 152ms/step - loss: 1.5181 - accuracy: 0.6635 - val_loss: 2.0779 - val_accuracy: 0.6439\n",
      "Epoch 28/100\n",
      "2899/2899 [==============================] - 441s 152ms/step - loss: 1.5227 - accuracy: 0.6643 - val_loss: 2.0329 - val_accuracy: 0.6486\n",
      "Epoch 29/100\n",
      "2899/2899 [==============================] - 441s 152ms/step - loss: 1.5159 - accuracy: 0.6672 - val_loss: 2.0525 - val_accuracy: 0.6528\n",
      "Epoch 30/100\n",
      "2899/2899 [==============================] - 441s 152ms/step - loss: 1.5203 - accuracy: 0.6685 - val_loss: 2.0848 - val_accuracy: 0.6481\n",
      "Epoch 31/100\n",
      "2899/2899 [==============================] - 441s 152ms/step - loss: 1.5167 - accuracy: 0.6703 - val_loss: 2.0614 - val_accuracy: 0.6554\n",
      "Epoch 32/100\n",
      "2899/2899 [==============================] - 441s 152ms/step - loss: 1.5114 - accuracy: 0.6681 - val_loss: 2.0755 - val_accuracy: 0.6550\n",
      "Epoch 33/100\n",
      "2899/2899 [==============================] - 441s 152ms/step - loss: 1.5001 - accuracy: 0.6719 - val_loss: 2.1004 - val_accuracy: 0.6501\n",
      "Epoch 34/100\n",
      "2899/2899 [==============================] - 444s 153ms/step - loss: 1.5160 - accuracy: 0.6700 - val_loss: 2.0798 - val_accuracy: 0.6584\n",
      "Epoch 35/100\n",
      "2899/2899 [==============================] - 442s 152ms/step - loss: 1.5055 - accuracy: 0.6747 - val_loss: 2.0525 - val_accuracy: 0.6610\n",
      "Epoch 36/100\n",
      "2899/2899 [==============================] - 441s 152ms/step - loss: 1.5069 - accuracy: 0.6750 - val_loss: 2.1033 - val_accuracy: 0.6563\n",
      "Epoch 37/100\n",
      "2899/2899 [==============================] - 441s 152ms/step - loss: 1.5000 - accuracy: 0.6736 - val_loss: 2.0992 - val_accuracy: 0.6556\n",
      "Epoch 38/100\n",
      "2899/2899 [==============================] - 441s 152ms/step - loss: 1.5095 - accuracy: 0.6755 - val_loss: 2.1406 - val_accuracy: 0.6542\n",
      "Epoch 39/100\n",
      "2899/2899 [==============================] - 442s 152ms/step - loss: 1.5010 - accuracy: 0.6767 - val_loss: 2.0704 - val_accuracy: 0.6623\n",
      "Epoch 40/100\n",
      "2899/2899 [==============================] - 441s 152ms/step - loss: 1.4957 - accuracy: 0.6776 - val_loss: 2.0961 - val_accuracy: 0.6618\n",
      "Epoch 41/100\n",
      "2899/2899 [==============================] - 441s 152ms/step - loss: 1.5032 - accuracy: 0.6793 - val_loss: 2.1249 - val_accuracy: 0.6571\n",
      "Epoch 42/100\n",
      "2899/2899 [==============================] - 441s 152ms/step - loss: 1.4913 - accuracy: 0.6809 - val_loss: 2.0673 - val_accuracy: 0.6677\n",
      "Epoch 43/100\n",
      "2899/2899 [==============================] - 441s 152ms/step - loss: 1.5056 - accuracy: 0.6783 - val_loss: 2.1345 - val_accuracy: 0.6594\n",
      "Epoch 44/100\n",
      "2899/2899 [==============================] - 441s 152ms/step - loss: 1.4983 - accuracy: 0.6809 - val_loss: 2.0978 - val_accuracy: 0.6671\n",
      "Epoch 45/100\n",
      "2899/2899 [==============================] - 441s 152ms/step - loss: 1.4857 - accuracy: 0.6819 - val_loss: 2.1173 - val_accuracy: 0.6656\n",
      "Epoch 46/100\n",
      "2899/2899 [==============================] - 441s 152ms/step - loss: 1.4994 - accuracy: 0.6813 - val_loss: 2.1257 - val_accuracy: 0.6609\n",
      "Epoch 47/100\n",
      "2899/2899 [==============================] - 441s 152ms/step - loss: 1.4944 - accuracy: 0.6828 - val_loss: 2.1458 - val_accuracy: 0.6597\n",
      "Epoch 48/100\n",
      "2899/2899 [==============================] - 441s 152ms/step - loss: 1.5016 - accuracy: 0.6811 - val_loss: 2.1663 - val_accuracy: 0.6591\n",
      "Epoch 49/100\n",
      "2899/2899 [==============================] - 441s 152ms/step - loss: 1.4922 - accuracy: 0.6835 - val_loss: 2.1641 - val_accuracy: 0.6627\n",
      "Epoch 50/100\n",
      "2899/2899 [==============================] - 441s 152ms/step - loss: 1.5003 - accuracy: 0.6833 - val_loss: 2.1612 - val_accuracy: 0.6633\n",
      "Epoch 51/100\n",
      "2899/2899 [==============================] - 441s 152ms/step - loss: 1.4938 - accuracy: 0.6863 - val_loss: 2.1550 - val_accuracy: 0.6696\n",
      "Epoch 52/100\n",
      "2899/2899 [==============================] - 442s 152ms/step - loss: 1.4965 - accuracy: 0.6860 - val_loss: 2.1810 - val_accuracy: 0.6641\n",
      "Epoch 53/100\n",
      "2899/2899 [==============================] - 441s 152ms/step - loss: 1.4906 - accuracy: 0.6859 - val_loss: 2.1856 - val_accuracy: 0.6618\n",
      "Epoch 54/100\n",
      "2899/2899 [==============================] - 441s 152ms/step - loss: 1.5025 - accuracy: 0.6860 - val_loss: 2.1711 - val_accuracy: 0.6670\n",
      "Epoch 55/100\n",
      "2899/2899 [==============================] - 441s 152ms/step - loss: 1.4941 - accuracy: 0.6876 - val_loss: 2.1650 - val_accuracy: 0.6685\n",
      "Epoch 56/100\n",
      "2899/2899 [==============================] - 442s 153ms/step - loss: 1.4993 - accuracy: 0.6887 - val_loss: 2.2101 - val_accuracy: 0.6650\n",
      "Epoch 57/100\n",
      "2899/2899 [==============================] - 442s 153ms/step - loss: 1.4943 - accuracy: 0.6886 - val_loss: 2.2079 - val_accuracy: 0.6657\n",
      "Epoch 58/100\n",
      "2899/2899 [==============================] - 442s 152ms/step - loss: 1.4940 - accuracy: 0.6902 - val_loss: 2.1744 - val_accuracy: 0.6708\n",
      "Epoch 59/100\n",
      "2899/2899 [==============================] - 442s 152ms/step - loss: 1.4939 - accuracy: 0.6907 - val_loss: 2.1945 - val_accuracy: 0.6671\n",
      "Epoch 60/100\n",
      "2899/2899 [==============================] - 441s 152ms/step - loss: 1.4915 - accuracy: 0.6892 - val_loss: 2.1991 - val_accuracy: 0.6702\n",
      "Epoch 61/100\n",
      "2899/2899 [==============================] - 449s 155ms/step - loss: 1.4868 - accuracy: 0.6888 - val_loss: 2.2188 - val_accuracy: 0.6690\n",
      "Epoch 62/100\n",
      "2899/2899 [==============================] - 443s 153ms/step - loss: 1.4918 - accuracy: 0.6907 - val_loss: 2.2221 - val_accuracy: 0.6664\n",
      "Epoch 63/100\n",
      "2899/2899 [==============================] - 442s 152ms/step - loss: 1.4993 - accuracy: 0.6924 - val_loss: 2.2049 - val_accuracy: 0.6733\n",
      "Epoch 64/100\n",
      "2899/2899 [==============================] - 442s 152ms/step - loss: 1.4866 - accuracy: 0.6910 - val_loss: 2.1859 - val_accuracy: 0.6796\n",
      "Epoch 65/100\n",
      "2899/2899 [==============================] - 442s 152ms/step - loss: 1.4825 - accuracy: 0.6925 - val_loss: 2.2075 - val_accuracy: 0.6727\n",
      "Epoch 66/100\n",
      "2899/2899 [==============================] - 447s 154ms/step - loss: 1.4951 - accuracy: 0.6902 - val_loss: 2.2110 - val_accuracy: 0.6727\n",
      "Epoch 67/100\n",
      "2899/2899 [==============================] - 449s 155ms/step - loss: 1.4944 - accuracy: 0.6927 - val_loss: 2.2338 - val_accuracy: 0.6712\n",
      "Epoch 68/100\n",
      "2899/2899 [==============================] - 443s 153ms/step - loss: 1.4869 - accuracy: 0.6937 - val_loss: 2.2515 - val_accuracy: 0.6707\n",
      "Epoch 69/100\n",
      "2899/2899 [==============================] - 469s 162ms/step - loss: 1.4787 - accuracy: 0.6953 - val_loss: 2.2428 - val_accuracy: 0.6702\n",
      "Epoch 70/100\n",
      "2500/2899 [========================>.....] - ETA: 54s - loss: 1.5079 - accuracy: 0.6935"
     ]
    },
    {
     "ename": "KeyboardInterrupt",
     "evalue": "",
     "output_type": "error",
     "traceback": [
      "\u001b[1;31m---------------------------------------------------------------------------\u001b[0m",
      "\u001b[1;31mKeyboardInterrupt\u001b[0m                         Traceback (most recent call last)",
      "Cell \u001b[1;32mIn[11], line 1\u001b[0m\n\u001b[1;32m----> 1\u001b[0m history \u001b[38;5;241m=\u001b[39m \u001b[43mmodel_exp\u001b[49m\u001b[38;5;241;43m.\u001b[39;49m\u001b[43mfit\u001b[49m\u001b[43m(\u001b[49m\u001b[43mtrain299_ds\u001b[49m\u001b[43m,\u001b[49m\u001b[43m \u001b[49m\u001b[43mvalidation_data\u001b[49m\u001b[38;5;241;43m=\u001b[39;49m\u001b[43mval299_ds\u001b[49m\u001b[43m,\u001b[49m\u001b[43m \u001b[49m\u001b[43mepochs\u001b[49m\u001b[38;5;241;43m=\u001b[39;49m\u001b[38;5;241;43m4\u001b[39;49m\u001b[38;5;241;43m*\u001b[39;49m\u001b[43mepochs\u001b[49m\u001b[43m,\u001b[49m\u001b[43m \u001b[49m\u001b[43mverbose\u001b[49m\u001b[38;5;241;43m=\u001b[39;49m\u001b[38;5;241;43m1\u001b[39;49m\u001b[43m)\u001b[49m\n",
      "File \u001b[1;32m~\\AppData\\Local\\Programs\\Python\\Python310\\lib\\site-packages\\keras\\utils\\traceback_utils.py:65\u001b[0m, in \u001b[0;36mfilter_traceback.<locals>.error_handler\u001b[1;34m(*args, **kwargs)\u001b[0m\n\u001b[0;32m     63\u001b[0m filtered_tb \u001b[38;5;241m=\u001b[39m \u001b[38;5;28;01mNone\u001b[39;00m\n\u001b[0;32m     64\u001b[0m \u001b[38;5;28;01mtry\u001b[39;00m:\n\u001b[1;32m---> 65\u001b[0m     \u001b[38;5;28;01mreturn\u001b[39;00m fn(\u001b[38;5;241m*\u001b[39margs, \u001b[38;5;241m*\u001b[39m\u001b[38;5;241m*\u001b[39mkwargs)\n\u001b[0;32m     66\u001b[0m \u001b[38;5;28;01mexcept\u001b[39;00m \u001b[38;5;167;01mException\u001b[39;00m \u001b[38;5;28;01mas\u001b[39;00m e:\n\u001b[0;32m     67\u001b[0m     filtered_tb \u001b[38;5;241m=\u001b[39m _process_traceback_frames(e\u001b[38;5;241m.\u001b[39m__traceback__)\n",
      "File \u001b[1;32m~\\AppData\\Local\\Programs\\Python\\Python310\\lib\\site-packages\\keras\\engine\\training.py:1564\u001b[0m, in \u001b[0;36mModel.fit\u001b[1;34m(self, x, y, batch_size, epochs, verbose, callbacks, validation_split, validation_data, shuffle, class_weight, sample_weight, initial_epoch, steps_per_epoch, validation_steps, validation_batch_size, validation_freq, max_queue_size, workers, use_multiprocessing)\u001b[0m\n\u001b[0;32m   1556\u001b[0m \u001b[38;5;28;01mwith\u001b[39;00m tf\u001b[38;5;241m.\u001b[39mprofiler\u001b[38;5;241m.\u001b[39mexperimental\u001b[38;5;241m.\u001b[39mTrace(\n\u001b[0;32m   1557\u001b[0m     \u001b[38;5;124m\"\u001b[39m\u001b[38;5;124mtrain\u001b[39m\u001b[38;5;124m\"\u001b[39m,\n\u001b[0;32m   1558\u001b[0m     epoch_num\u001b[38;5;241m=\u001b[39mepoch,\n\u001b[1;32m   (...)\u001b[0m\n\u001b[0;32m   1561\u001b[0m     _r\u001b[38;5;241m=\u001b[39m\u001b[38;5;241m1\u001b[39m,\n\u001b[0;32m   1562\u001b[0m ):\n\u001b[0;32m   1563\u001b[0m     callbacks\u001b[38;5;241m.\u001b[39mon_train_batch_begin(step)\n\u001b[1;32m-> 1564\u001b[0m     tmp_logs \u001b[38;5;241m=\u001b[39m \u001b[38;5;28;43mself\u001b[39;49m\u001b[38;5;241;43m.\u001b[39;49m\u001b[43mtrain_function\u001b[49m\u001b[43m(\u001b[49m\u001b[43miterator\u001b[49m\u001b[43m)\u001b[49m\n\u001b[0;32m   1565\u001b[0m     \u001b[38;5;28;01mif\u001b[39;00m data_handler\u001b[38;5;241m.\u001b[39mshould_sync:\n\u001b[0;32m   1566\u001b[0m         context\u001b[38;5;241m.\u001b[39masync_wait()\n",
      "File \u001b[1;32m~\\AppData\\Local\\Programs\\Python\\Python310\\lib\\site-packages\\tensorflow\\python\\util\\traceback_utils.py:150\u001b[0m, in \u001b[0;36mfilter_traceback.<locals>.error_handler\u001b[1;34m(*args, **kwargs)\u001b[0m\n\u001b[0;32m    148\u001b[0m filtered_tb \u001b[38;5;241m=\u001b[39m \u001b[38;5;28;01mNone\u001b[39;00m\n\u001b[0;32m    149\u001b[0m \u001b[38;5;28;01mtry\u001b[39;00m:\n\u001b[1;32m--> 150\u001b[0m   \u001b[38;5;28;01mreturn\u001b[39;00m fn(\u001b[38;5;241m*\u001b[39margs, \u001b[38;5;241m*\u001b[39m\u001b[38;5;241m*\u001b[39mkwargs)\n\u001b[0;32m    151\u001b[0m \u001b[38;5;28;01mexcept\u001b[39;00m \u001b[38;5;167;01mException\u001b[39;00m \u001b[38;5;28;01mas\u001b[39;00m e:\n\u001b[0;32m    152\u001b[0m   filtered_tb \u001b[38;5;241m=\u001b[39m _process_traceback_frames(e\u001b[38;5;241m.\u001b[39m__traceback__)\n",
      "File \u001b[1;32m~\\AppData\\Local\\Programs\\Python\\Python310\\lib\\site-packages\\tensorflow\\python\\eager\\def_function.py:915\u001b[0m, in \u001b[0;36mFunction.__call__\u001b[1;34m(self, *args, **kwds)\u001b[0m\n\u001b[0;32m    912\u001b[0m compiler \u001b[38;5;241m=\u001b[39m \u001b[38;5;124m\"\u001b[39m\u001b[38;5;124mxla\u001b[39m\u001b[38;5;124m\"\u001b[39m \u001b[38;5;28;01mif\u001b[39;00m \u001b[38;5;28mself\u001b[39m\u001b[38;5;241m.\u001b[39m_jit_compile \u001b[38;5;28;01melse\u001b[39;00m \u001b[38;5;124m\"\u001b[39m\u001b[38;5;124mnonXla\u001b[39m\u001b[38;5;124m\"\u001b[39m\n\u001b[0;32m    914\u001b[0m \u001b[38;5;28;01mwith\u001b[39;00m OptionalXlaContext(\u001b[38;5;28mself\u001b[39m\u001b[38;5;241m.\u001b[39m_jit_compile):\n\u001b[1;32m--> 915\u001b[0m   result \u001b[38;5;241m=\u001b[39m \u001b[38;5;28mself\u001b[39m\u001b[38;5;241m.\u001b[39m_call(\u001b[38;5;241m*\u001b[39margs, \u001b[38;5;241m*\u001b[39m\u001b[38;5;241m*\u001b[39mkwds)\n\u001b[0;32m    917\u001b[0m new_tracing_count \u001b[38;5;241m=\u001b[39m \u001b[38;5;28mself\u001b[39m\u001b[38;5;241m.\u001b[39mexperimental_get_tracing_count()\n\u001b[0;32m    918\u001b[0m without_tracing \u001b[38;5;241m=\u001b[39m (tracing_count \u001b[38;5;241m==\u001b[39m new_tracing_count)\n",
      "File \u001b[1;32m~\\AppData\\Local\\Programs\\Python\\Python310\\lib\\site-packages\\tensorflow\\python\\eager\\def_function.py:947\u001b[0m, in \u001b[0;36mFunction._call\u001b[1;34m(self, *args, **kwds)\u001b[0m\n\u001b[0;32m    944\u001b[0m   \u001b[38;5;28mself\u001b[39m\u001b[38;5;241m.\u001b[39m_lock\u001b[38;5;241m.\u001b[39mrelease()\n\u001b[0;32m    945\u001b[0m   \u001b[38;5;66;03m# In this case we have created variables on the first call, so we run the\u001b[39;00m\n\u001b[0;32m    946\u001b[0m   \u001b[38;5;66;03m# defunned version which is guaranteed to never create variables.\u001b[39;00m\n\u001b[1;32m--> 947\u001b[0m   \u001b[38;5;28;01mreturn\u001b[39;00m \u001b[38;5;28mself\u001b[39m\u001b[38;5;241m.\u001b[39m_stateless_fn(\u001b[38;5;241m*\u001b[39margs, \u001b[38;5;241m*\u001b[39m\u001b[38;5;241m*\u001b[39mkwds)  \u001b[38;5;66;03m# pylint: disable=not-callable\u001b[39;00m\n\u001b[0;32m    948\u001b[0m \u001b[38;5;28;01melif\u001b[39;00m \u001b[38;5;28mself\u001b[39m\u001b[38;5;241m.\u001b[39m_stateful_fn \u001b[38;5;129;01mis\u001b[39;00m \u001b[38;5;129;01mnot\u001b[39;00m \u001b[38;5;28;01mNone\u001b[39;00m:\n\u001b[0;32m    949\u001b[0m   \u001b[38;5;66;03m# Release the lock early so that multiple threads can perform the call\u001b[39;00m\n\u001b[0;32m    950\u001b[0m   \u001b[38;5;66;03m# in parallel.\u001b[39;00m\n\u001b[0;32m    951\u001b[0m   \u001b[38;5;28mself\u001b[39m\u001b[38;5;241m.\u001b[39m_lock\u001b[38;5;241m.\u001b[39mrelease()\n",
      "File \u001b[1;32m~\\AppData\\Local\\Programs\\Python\\Python310\\lib\\site-packages\\tensorflow\\python\\eager\\function.py:2496\u001b[0m, in \u001b[0;36mFunction.__call__\u001b[1;34m(self, *args, **kwargs)\u001b[0m\n\u001b[0;32m   2493\u001b[0m \u001b[38;5;28;01mwith\u001b[39;00m \u001b[38;5;28mself\u001b[39m\u001b[38;5;241m.\u001b[39m_lock:\n\u001b[0;32m   2494\u001b[0m   (graph_function,\n\u001b[0;32m   2495\u001b[0m    filtered_flat_args) \u001b[38;5;241m=\u001b[39m \u001b[38;5;28mself\u001b[39m\u001b[38;5;241m.\u001b[39m_maybe_define_function(args, kwargs)\n\u001b[1;32m-> 2496\u001b[0m \u001b[38;5;28;01mreturn\u001b[39;00m \u001b[43mgraph_function\u001b[49m\u001b[38;5;241;43m.\u001b[39;49m\u001b[43m_call_flat\u001b[49m\u001b[43m(\u001b[49m\n\u001b[0;32m   2497\u001b[0m \u001b[43m    \u001b[49m\u001b[43mfiltered_flat_args\u001b[49m\u001b[43m,\u001b[49m\u001b[43m \u001b[49m\u001b[43mcaptured_inputs\u001b[49m\u001b[38;5;241;43m=\u001b[39;49m\u001b[43mgraph_function\u001b[49m\u001b[38;5;241;43m.\u001b[39;49m\u001b[43mcaptured_inputs\u001b[49m\u001b[43m)\u001b[49m\n",
      "File \u001b[1;32m~\\AppData\\Local\\Programs\\Python\\Python310\\lib\\site-packages\\tensorflow\\python\\eager\\function.py:1862\u001b[0m, in \u001b[0;36mConcreteFunction._call_flat\u001b[1;34m(self, args, captured_inputs, cancellation_manager)\u001b[0m\n\u001b[0;32m   1858\u001b[0m possible_gradient_type \u001b[38;5;241m=\u001b[39m gradients_util\u001b[38;5;241m.\u001b[39mPossibleTapeGradientTypes(args)\n\u001b[0;32m   1859\u001b[0m \u001b[38;5;28;01mif\u001b[39;00m (possible_gradient_type \u001b[38;5;241m==\u001b[39m gradients_util\u001b[38;5;241m.\u001b[39mPOSSIBLE_GRADIENT_TYPES_NONE\n\u001b[0;32m   1860\u001b[0m     \u001b[38;5;129;01mand\u001b[39;00m executing_eagerly):\n\u001b[0;32m   1861\u001b[0m   \u001b[38;5;66;03m# No tape is watching; skip to running the function.\u001b[39;00m\n\u001b[1;32m-> 1862\u001b[0m   \u001b[38;5;28;01mreturn\u001b[39;00m \u001b[38;5;28mself\u001b[39m\u001b[38;5;241m.\u001b[39m_build_call_outputs(\u001b[38;5;28;43mself\u001b[39;49m\u001b[38;5;241;43m.\u001b[39;49m\u001b[43m_inference_function\u001b[49m\u001b[38;5;241;43m.\u001b[39;49m\u001b[43mcall\u001b[49m\u001b[43m(\u001b[49m\n\u001b[0;32m   1863\u001b[0m \u001b[43m      \u001b[49m\u001b[43mctx\u001b[49m\u001b[43m,\u001b[49m\u001b[43m \u001b[49m\u001b[43margs\u001b[49m\u001b[43m,\u001b[49m\u001b[43m \u001b[49m\u001b[43mcancellation_manager\u001b[49m\u001b[38;5;241;43m=\u001b[39;49m\u001b[43mcancellation_manager\u001b[49m\u001b[43m)\u001b[49m)\n\u001b[0;32m   1864\u001b[0m forward_backward \u001b[38;5;241m=\u001b[39m \u001b[38;5;28mself\u001b[39m\u001b[38;5;241m.\u001b[39m_select_forward_and_backward_functions(\n\u001b[0;32m   1865\u001b[0m     args,\n\u001b[0;32m   1866\u001b[0m     possible_gradient_type,\n\u001b[0;32m   1867\u001b[0m     executing_eagerly)\n\u001b[0;32m   1868\u001b[0m forward_function, args_with_tangents \u001b[38;5;241m=\u001b[39m forward_backward\u001b[38;5;241m.\u001b[39mforward()\n",
      "File \u001b[1;32m~\\AppData\\Local\\Programs\\Python\\Python310\\lib\\site-packages\\tensorflow\\python\\eager\\function.py:499\u001b[0m, in \u001b[0;36m_EagerDefinedFunction.call\u001b[1;34m(self, ctx, args, cancellation_manager)\u001b[0m\n\u001b[0;32m    497\u001b[0m \u001b[38;5;28;01mwith\u001b[39;00m _InterpolateFunctionError(\u001b[38;5;28mself\u001b[39m):\n\u001b[0;32m    498\u001b[0m   \u001b[38;5;28;01mif\u001b[39;00m cancellation_manager \u001b[38;5;129;01mis\u001b[39;00m \u001b[38;5;28;01mNone\u001b[39;00m:\n\u001b[1;32m--> 499\u001b[0m     outputs \u001b[38;5;241m=\u001b[39m \u001b[43mexecute\u001b[49m\u001b[38;5;241;43m.\u001b[39;49m\u001b[43mexecute\u001b[49m\u001b[43m(\u001b[49m\n\u001b[0;32m    500\u001b[0m \u001b[43m        \u001b[49m\u001b[38;5;28;43mstr\u001b[39;49m\u001b[43m(\u001b[49m\u001b[38;5;28;43mself\u001b[39;49m\u001b[38;5;241;43m.\u001b[39;49m\u001b[43msignature\u001b[49m\u001b[38;5;241;43m.\u001b[39;49m\u001b[43mname\u001b[49m\u001b[43m)\u001b[49m\u001b[43m,\u001b[49m\n\u001b[0;32m    501\u001b[0m \u001b[43m        \u001b[49m\u001b[43mnum_outputs\u001b[49m\u001b[38;5;241;43m=\u001b[39;49m\u001b[38;5;28;43mself\u001b[39;49m\u001b[38;5;241;43m.\u001b[39;49m\u001b[43m_num_outputs\u001b[49m\u001b[43m,\u001b[49m\n\u001b[0;32m    502\u001b[0m \u001b[43m        \u001b[49m\u001b[43minputs\u001b[49m\u001b[38;5;241;43m=\u001b[39;49m\u001b[43margs\u001b[49m\u001b[43m,\u001b[49m\n\u001b[0;32m    503\u001b[0m \u001b[43m        \u001b[49m\u001b[43mattrs\u001b[49m\u001b[38;5;241;43m=\u001b[39;49m\u001b[43mattrs\u001b[49m\u001b[43m,\u001b[49m\n\u001b[0;32m    504\u001b[0m \u001b[43m        \u001b[49m\u001b[43mctx\u001b[49m\u001b[38;5;241;43m=\u001b[39;49m\u001b[43mctx\u001b[49m\u001b[43m)\u001b[49m\n\u001b[0;32m    505\u001b[0m   \u001b[38;5;28;01melse\u001b[39;00m:\n\u001b[0;32m    506\u001b[0m     outputs \u001b[38;5;241m=\u001b[39m execute\u001b[38;5;241m.\u001b[39mexecute_with_cancellation(\n\u001b[0;32m    507\u001b[0m         \u001b[38;5;28mstr\u001b[39m(\u001b[38;5;28mself\u001b[39m\u001b[38;5;241m.\u001b[39msignature\u001b[38;5;241m.\u001b[39mname),\n\u001b[0;32m    508\u001b[0m         num_outputs\u001b[38;5;241m=\u001b[39m\u001b[38;5;28mself\u001b[39m\u001b[38;5;241m.\u001b[39m_num_outputs,\n\u001b[1;32m   (...)\u001b[0m\n\u001b[0;32m    511\u001b[0m         ctx\u001b[38;5;241m=\u001b[39mctx,\n\u001b[0;32m    512\u001b[0m         cancellation_manager\u001b[38;5;241m=\u001b[39mcancellation_manager)\n",
      "File \u001b[1;32m~\\AppData\\Local\\Programs\\Python\\Python310\\lib\\site-packages\\tensorflow\\python\\eager\\execute.py:54\u001b[0m, in \u001b[0;36mquick_execute\u001b[1;34m(op_name, num_outputs, inputs, attrs, ctx, name)\u001b[0m\n\u001b[0;32m     52\u001b[0m \u001b[38;5;28;01mtry\u001b[39;00m:\n\u001b[0;32m     53\u001b[0m   ctx\u001b[38;5;241m.\u001b[39mensure_initialized()\n\u001b[1;32m---> 54\u001b[0m   tensors \u001b[38;5;241m=\u001b[39m \u001b[43mpywrap_tfe\u001b[49m\u001b[38;5;241;43m.\u001b[39;49m\u001b[43mTFE_Py_Execute\u001b[49m\u001b[43m(\u001b[49m\u001b[43mctx\u001b[49m\u001b[38;5;241;43m.\u001b[39;49m\u001b[43m_handle\u001b[49m\u001b[43m,\u001b[49m\u001b[43m \u001b[49m\u001b[43mdevice_name\u001b[49m\u001b[43m,\u001b[49m\u001b[43m \u001b[49m\u001b[43mop_name\u001b[49m\u001b[43m,\u001b[49m\n\u001b[0;32m     55\u001b[0m \u001b[43m                                      \u001b[49m\u001b[43minputs\u001b[49m\u001b[43m,\u001b[49m\u001b[43m \u001b[49m\u001b[43mattrs\u001b[49m\u001b[43m,\u001b[49m\u001b[43m \u001b[49m\u001b[43mnum_outputs\u001b[49m\u001b[43m)\u001b[49m\n\u001b[0;32m     56\u001b[0m \u001b[38;5;28;01mexcept\u001b[39;00m core\u001b[38;5;241m.\u001b[39m_NotOkStatusException \u001b[38;5;28;01mas\u001b[39;00m e:\n\u001b[0;32m     57\u001b[0m   \u001b[38;5;28;01mif\u001b[39;00m name \u001b[38;5;129;01mis\u001b[39;00m \u001b[38;5;129;01mnot\u001b[39;00m \u001b[38;5;28;01mNone\u001b[39;00m:\n",
      "\u001b[1;31mKeyboardInterrupt\u001b[0m: "
     ]
    }
   ],
   "source": [
    "history = model_exp.fit(train299_ds, validation_data=val299_ds, epochs=4*epochs, verbose=1)"
   ]
  },
  {
   "cell_type": "code",
   "execution_count": 24,
   "id": "e81a05b7-70e6-4655-84ed-e41e2e86a9f8",
   "metadata": {
    "tags": []
   },
   "outputs": [
    {
     "data": {
      "image/png": "[encoded data removed]",
      "text/plain": [
       "<Figure size 640x480 with 1 Axes>"
      ]
     },
     "metadata": {},
     "output_type": "display_data"
    }
   ],
   "source": [
    "plt.plot(history.history['accuracy'], label = 'accuracy')\n",
    "plt.plot(history.history['val_accuracy'], label = 'validation accuracy')\n",
    "plt.legend()\n",
    "plt.xlabel('epoch')\n",
    "plt.show()"
   ]
  },
  {
   "cell_type": "code",
   "execution_count": 12,
   "id": "6f04f627-829a-4a0a-a0f4-6c4bb72c3f84",
   "metadata": {
    "tags": []
   },
   "outputs": [
    {
     "name": "stdout",
     "output_type": "stream",
     "text": [
      "INFO:tensorflow:Assets written to: saved_model/final299\\assets\n"
     ]
    },
    {
     "name": "stderr",
     "output_type": "stream",
     "text": [
      "INFO:tensorflow:Assets written to: saved_model/final299\\assets\n"
     ]
    }
   ],
   "source": [
    "model_exp.save('saved_model/final299')"
   ]
  },
  {
   "cell_type": "code",
   "execution_count": 13,
   "id": "049e357f-9ffa-4651-a522-e63a69d75967",
   "metadata": {
    "tags": []
   },
   "outputs": [],
   "source": [
    "import pickle\n",
    "\n",
    "# Save class names too!\n",
    "with open('saved_model/flowers299_labels.pickle', \"wb\") as f:\n",
    "    f.write(pickle.dumps(train299_ds.class_names))"
   ]
  },
  {
   "cell_type": "code",
   "execution_count": null,
   "id": "727acab6-8078-47cb-8a05-5af42583037b",
   "metadata": {},
   "outputs": [],
   "source": []
  }
 ],
 "metadata": {
  "kernelspec": {
   "display_name": "Python 3 (ipykernel)",
   "language": "python",
   "name": "python3"
  },
  "language_info": {
   "codemirror_mode": {
    "name": "ipython",
    "version": 3
   },
   "file_extension": ".py",
   "mimetype": "text/x-python",
   "name": "python",
   "nbconvert_exporter": "python",
   "pygments_lexer": "ipython3",
   "version": "3.10.10"
  }
 },
 "nbformat": 4,
 "nbformat_minor": 5
}
