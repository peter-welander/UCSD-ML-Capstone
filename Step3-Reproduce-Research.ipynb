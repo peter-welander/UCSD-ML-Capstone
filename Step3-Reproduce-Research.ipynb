{
 "cells": [
  {
   "cell_type": "markdown",
   "id": "781eec04-004b-4d7e-8d7f-3f1312fd3d8a",
   "metadata": {},
   "source": [
    "# Step 3: Reproducing Research\n",
    "\n",
    "In this step I try to reproduce some of the research techniques that I found\n"
   ]
  },
  {
   "cell_type": "markdown",
   "id": "005e85fa-10b3-46c9-8ae3-e9360e79df1f",
   "metadata": {
    "tags": []
   },
   "source": [
    "## Loading data.\n",
    "\n",
    "For starters we just load the data like we did in the previous notebook."
   ]
  },
  {
   "cell_type": "code",
   "execution_count": 1,
   "id": "e3ebefdd-ede0-4da9-a025-850c90365d6f",
   "metadata": {
    "tags": []
   },
   "outputs": [],
   "source": [
    "import tensorflow as tf\n",
    "\n",
    "from tensorflow import keras\n",
    "from tensorflow.keras import layers"
   ]
  },
  {
   "cell_type": "code",
   "execution_count": 2,
   "id": "21d5faa9-7971-4024-b464-4b84bc410a29",
   "metadata": {
    "tags": []
   },
   "outputs": [
    {
     "data": {
      "text/plain": [
       "WindowsPath('E:/school/UCSD-ML-Capstone/images/Flowers5')"
      ]
     },
     "execution_count": 2,
     "metadata": {},
     "output_type": "execute_result"
    }
   ],
   "source": [
    "import pathlib\n",
    "import os.path\n",
    "\n",
    "data_dir =  pathlib.Path(os.path.abspath(\"images/Flowers5/\"))\n",
    "data_dir"
   ]
  },
  {
   "cell_type": "code",
   "execution_count": 3,
   "id": "edcb96c0-b546-433c-b318-91325cf2963f",
   "metadata": {
    "tags": []
   },
   "outputs": [],
   "source": [
    "batch_size = 32\n",
    "epochs=10\n",
    "img_height = 192\n",
    "img_width = 192\n",
    "input_shape=(img_height, img_width, 3)"
   ]
  },
  {
   "cell_type": "code",
   "execution_count": 4,
   "id": "d8f3ef0a-a776-4cb8-bf1d-0fcab6ff5dd6",
   "metadata": {
    "tags": []
   },
   "outputs": [
    {
     "name": "stdout",
     "output_type": "stream",
     "text": [
      "Found 1857 files belonging to 5 classes.\n",
      "Using 1486 files for training.\n",
      "Using 371 files for validation.\n"
     ]
    }
   ],
   "source": [
    "train_ds, val_ds = tf.keras.utils.image_dataset_from_directory(data_dir, validation_split=0.2, subset=\"both\", seed=123,\n",
    "                                                               image_size=(img_height, img_width), batch_size=batch_size)"
   ]
  },
  {
   "cell_type": "code",
   "execution_count": 5,
   "id": "1562100a-93c2-4e27-9fd4-32073063616c",
   "metadata": {
    "tags": []
   },
   "outputs": [
    {
     "name": "stdout",
     "output_type": "stream",
     "text": [
      "['Calceolaria', 'Daffodil', 'Freesia', 'Hibiscus', 'Iris']\n"
     ]
    }
   ],
   "source": [
    "class_names = train_ds.class_names\n",
    "num_classes = len(class_names)\n",
    "num_classes\n",
    "print(class_names)"
   ]
  },
  {
   "cell_type": "markdown",
   "id": "89dcae8d-3390-41f8-a694-c5a866419ff0",
   "metadata": {},
   "source": [
    "## BigTransfer (BiT) \n",
    "\n",
    "BigTransfer has a special recipe for generalizing transfer learning. Let's see how well it works."
   ]
  },
  {
   "cell_type": "code",
   "execution_count": 6,
   "id": "441ba504-a7aa-4e54-898c-daa996d1ddc4",
   "metadata": {
    "tags": []
   },
   "outputs": [],
   "source": [
    "import tensorflow_hub as hub\n",
    "\n",
    "# Load model into KerasLayer\n",
    "model_url = \"https://tfhub.dev/google/bit/m-r50x1/ilsvrc2012_classification/1\"\n",
    "imagenet_module = hub.KerasLayer(model_url)"
   ]
  },
  {
   "cell_type": "code",
   "execution_count": 7,
   "id": "8d904d77-2334-4e1f-aeca-d91824a23121",
   "metadata": {
    "tags": []
   },
   "outputs": [],
   "source": [
    "# This is the transfer formula specified by the BiT example code.\n",
    "SCHEDULE_BOUNDARIES = [200, 300, 400]\n",
    "lr = 0.003 * batch_size / 512 \n",
    "# Decay learning rate by a factor of 10 at SCHEDULE_BOUNDARIES.\n",
    "lr_schedule = tf.keras.optimizers.schedules.PiecewiseConstantDecay(boundaries=SCHEDULE_BOUNDARIES, values=[lr, lr*0.1, lr*0.001, lr*0.0001])\n",
    "optimizer = tf.keras.optimizers.SGD(learning_rate=lr_schedule, momentum=0.9)\n",
    "loss_fn = tf.keras.losses.SparseCategoricalCrossentropy(from_logits=True)"
   ]
  },
  {
   "cell_type": "code",
   "execution_count": 8,
   "id": "f4796ab8-1a31-47d5-a68f-e8b0e86159dd",
   "metadata": {
    "tags": []
   },
   "outputs": [
    {
     "name": "stdout",
     "output_type": "stream",
     "text": [
      "Model: \"sequential\"\n",
      "_________________________________________________________________\n",
      " Layer (type)                Output Shape              Param #   \n",
      "=================================================================\n",
      " rescaling (Rescaling)       (None, 192, 192, 3)       0         \n",
      "                                                                 \n",
      " keras_layer (KerasLayer)    (None, 1000)              25549352  \n",
      "                                                                 \n",
      " flatten (Flatten)           (None, 1000)              0         \n",
      "                                                                 \n",
      " dense (Dense)               (None, 64)                64064     \n",
      "                                                                 \n",
      " dropout (Dropout)           (None, 64)                0         \n",
      "                                                                 \n",
      " dense_1 (Dense)             (None, 5)                 325       \n",
      "                                                                 \n",
      "=================================================================\n",
      "Total params: 25,613,741\n",
      "Trainable params: 64,389\n",
      "Non-trainable params: 25,549,352\n",
      "_________________________________________________________________\n"
     ]
    }
   ],
   "source": [
    "bit_model = tf.keras.Sequential([\n",
    "        layers.Rescaling(1./255), imagenet_module, layers.Flatten(), layers.Dense(64, activation='relu'), layers.Dropout(0.2), layers.Dense(num_classes),\n",
    "    ])\n",
    "\n",
    "bit_model.compile(optimizer=optimizer, loss=loss_fn, metrics=['accuracy'])\n",
    "bit_model.build((None, img_height, img_width, 3))\n",
    "bit_model.summary()"
   ]
  },
  {
   "cell_type": "code",
   "execution_count": 9,
   "id": "9a79e0a8-8a75-4883-9174-e40371410598",
   "metadata": {
    "tags": []
   },
   "outputs": [
    {
     "name": "stdout",
     "output_type": "stream",
     "text": [
      "Epoch 1/10\n",
      "47/47 [==============================] - 111s 2s/step - loss: 1.6965 - accuracy: 0.4596 - val_loss: 0.7284 - val_accuracy: 0.7709\n",
      "Epoch 2/10\n",
      "47/47 [==============================] - 100s 2s/step - loss: 0.7895 - accuracy: 0.7342 - val_loss: 0.4826 - val_accuracy: 0.8275\n",
      "Epoch 3/10\n",
      "47/47 [==============================] - 100s 2s/step - loss: 0.5745 - accuracy: 0.8069 - val_loss: 0.3826 - val_accuracy: 0.8652\n",
      "Epoch 4/10\n",
      "47/47 [==============================] - 100s 2s/step - loss: 0.4494 - accuracy: 0.8520 - val_loss: 0.3203 - val_accuracy: 0.8922\n",
      "Epoch 5/10\n",
      "47/47 [==============================] - 100s 2s/step - loss: 0.4028 - accuracy: 0.8641 - val_loss: 0.2985 - val_accuracy: 0.9030\n",
      "Epoch 6/10\n",
      "47/47 [==============================] - 100s 2s/step - loss: 0.3760 - accuracy: 0.8748 - val_loss: 0.2947 - val_accuracy: 0.9111\n",
      "Epoch 7/10\n",
      "47/47 [==============================] - 100s 2s/step - loss: 0.3711 - accuracy: 0.8775 - val_loss: 0.2926 - val_accuracy: 0.9111\n",
      "Epoch 8/10\n",
      "47/47 [==============================] - 100s 2s/step - loss: 0.3904 - accuracy: 0.8701 - val_loss: 0.2925 - val_accuracy: 0.9111\n",
      "Epoch 9/10\n",
      "47/47 [==============================] - 100s 2s/step - loss: 0.3858 - accuracy: 0.8701 - val_loss: 0.2925 - val_accuracy: 0.9111\n",
      "Epoch 10/10\n",
      "47/47 [==============================] - 99s 2s/step - loss: 0.3753 - accuracy: 0.8789 - val_loss: 0.2925 - val_accuracy: 0.9111\n"
     ]
    }
   ],
   "source": [
    "bit_history = bit_model.fit(train_ds, validation_data=val_ds, epochs=epochs)"
   ]
  },
  {
   "cell_type": "markdown",
   "id": "c131ae2c-5030-4a8d-bf10-0e7ace42e4d2",
   "metadata": {},
   "source": [
    "## Compact Convolutional Transformers\n",
    "\n",
    "This applies the method from [Escaping the Big Data Paradigm with Compact Transformers](https://arxiv.org/abs/2104.05704) on our flowers dataset. The code was adapted from this [Colab entry](https://colab.research.google.com/github/keras-team/keras-io/blob/master/examples/vision/ipynb/cct.ipynb#scrollTo=eF0yjK1pXfpK)"
   ]
  },
  {
   "cell_type": "code",
   "execution_count": 10,
   "id": "d8ae7490-dc98-4e8c-879d-a97dc90e31bc",
   "metadata": {
    "tags": []
   },
   "outputs": [],
   "source": [
    "from tensorflow.keras import layers\n",
    "from tensorflow import keras\n",
    "\n",
    "import matplotlib.pyplot as plt\n",
    "import tensorflow as tf\n",
    "import numpy as np"
   ]
  },
  {
   "cell_type": "code",
   "execution_count": 11,
   "id": "1f87ff79-2439-46a0-9c32-35b9435b9492",
   "metadata": {
    "tags": []
   },
   "outputs": [],
   "source": [
    "# Constants and hyper-parameters.\n",
    "positional_emb = True\n",
    "conv_layers = 2\n",
    "projection_dim = 64\n",
    "\n",
    "num_heads = 2\n",
    "transformer_units = [\n",
    "    projection_dim,\n",
    "    projection_dim,\n",
    "]\n",
    "transformer_layers = 2\n",
    "stochastic_depth_rate = 0.1\n",
    "\n",
    "image_size = 192"
   ]
  },
  {
   "cell_type": "code",
   "execution_count": 12,
   "id": "eafa0b5b-2a59-433d-847f-7322e4144692",
   "metadata": {
    "tags": []
   },
   "outputs": [],
   "source": [
    "class CCTTokenizer(layers.Layer):\n",
    "    def __init__(\n",
    "        self,\n",
    "        kernel_size=3,\n",
    "        stride=1,\n",
    "        padding=1,\n",
    "        pooling_kernel_size=3,\n",
    "        pooling_stride=2,\n",
    "        num_conv_layers=conv_layers,\n",
    "        num_output_channels=[32, 64],\n",
    "        positional_emb=positional_emb,\n",
    "        **kwargs,\n",
    "    ):\n",
    "        super().__init__(**kwargs)\n",
    "\n",
    "        # This is our tokenizer.\n",
    "        self.conv_model = keras.Sequential()\n",
    "        for i in range(num_conv_layers):\n",
    "            self.conv_model.add(\n",
    "                layers.Conv2D(\n",
    "                    num_output_channels[i],\n",
    "                    kernel_size,\n",
    "                    stride,\n",
    "                    padding=\"valid\",\n",
    "                    use_bias=False,\n",
    "                    activation=\"relu\",\n",
    "                    kernel_initializer=\"he_normal\",\n",
    "                )\n",
    "            )\n",
    "            self.conv_model.add(layers.ZeroPadding2D(padding))\n",
    "            self.conv_model.add(\n",
    "                layers.MaxPool2D(pooling_kernel_size, pooling_stride, \"same\")\n",
    "            )\n",
    "\n",
    "        self.positional_emb = positional_emb\n",
    "\n",
    "    def call(self, images):\n",
    "        outputs = self.conv_model(images)\n",
    "        # After passing the images through our mini-network the spatial dimensions\n",
    "        # are flattened to form sequences.\n",
    "        reshaped = tf.reshape(\n",
    "            outputs,\n",
    "            (-1, tf.shape(outputs)[1] * tf.shape(outputs)[2], tf.shape(outputs)[-1]),\n",
    "        )\n",
    "        return reshaped\n",
    "\n",
    "    def positional_embedding(self, image_size):\n",
    "        # Positional embeddings are optional in CCT. Here, we calculate\n",
    "        # the number of sequences and initialize an `Embedding` layer to\n",
    "        # compute the positional embeddings later.\n",
    "        if self.positional_emb:\n",
    "            dummy_inputs = tf.ones((1, image_size, image_size, 3))\n",
    "            dummy_outputs = self.call(dummy_inputs)\n",
    "            sequence_length = tf.shape(dummy_outputs)[1]\n",
    "            projection_dim = tf.shape(dummy_outputs)[-1]\n",
    "\n",
    "            embed_layer = layers.Embedding(\n",
    "                input_dim=sequence_length, output_dim=projection_dim\n",
    "            )\n",
    "            return embed_layer, sequence_length\n",
    "        else:\n",
    "            return None"
   ]
  },
  {
   "cell_type": "code",
   "execution_count": 13,
   "id": "21f5a388-bb37-41d8-a73f-fbbe93910a02",
   "metadata": {
    "tags": []
   },
   "outputs": [],
   "source": [
    "# Referred from: github.com:rwightman/pytorch-image-models.\n",
    "class StochasticDepth(layers.Layer):\n",
    "    def __init__(self, drop_prop, **kwargs):\n",
    "        super().__init__(**kwargs)\n",
    "        self.drop_prob = drop_prop\n",
    "\n",
    "    def call(self, x, training=None):\n",
    "        if training:\n",
    "            keep_prob = 1 - self.drop_prob\n",
    "            shape = (tf.shape(x)[0],) + (1,) * (tf.shape(x).shape[0] - 1)\n",
    "            random_tensor = keep_prob + tf.random.uniform(shape, 0, 1)\n",
    "            random_tensor = tf.floor(random_tensor)\n",
    "            return (x / keep_prob) * random_tensor\n",
    "        return x\n"
   ]
  },
  {
   "cell_type": "code",
   "execution_count": 14,
   "id": "d576dc80-abad-4808-badd-a1d68895e684",
   "metadata": {
    "tags": []
   },
   "outputs": [],
   "source": [
    "def mlp(x, hidden_units, dropout_rate):\n",
    "    for units in hidden_units:\n",
    "        x = layers.Dense(units, activation=tf.nn.gelu)(x)\n",
    "        x = layers.Dropout(dropout_rate)(x)\n",
    "    return x"
   ]
  },
  {
   "cell_type": "code",
   "execution_count": 15,
   "id": "a3559fd1-ddd8-46cb-a3ab-9f6183d53113",
   "metadata": {
    "tags": []
   },
   "outputs": [],
   "source": [
    "# Note the rescaling layer. These layers have pre-defined inference behavior.\n",
    "data_augmentation = keras.Sequential(\n",
    "    [\n",
    "        layers.Rescaling(scale=1.0 / 255),\n",
    "    ],\n",
    "    name=\"data_augmentation\",\n",
    ")"
   ]
  },
  {
   "cell_type": "code",
   "execution_count": 16,
   "id": "7b44bc46-2036-45b1-8636-08ac0b91f8c4",
   "metadata": {
    "tags": []
   },
   "outputs": [],
   "source": [
    "\n",
    "def create_cct_model(\n",
    "    image_size=image_size,\n",
    "    input_shape=input_shape,\n",
    "    num_heads=num_heads,\n",
    "    projection_dim=projection_dim,\n",
    "    transformer_units=transformer_units,\n",
    "):\n",
    "\n",
    "    inputs = layers.Input(input_shape)\n",
    "\n",
    "    # Augment data.\n",
    "    augmented = data_augmentation(inputs)\n",
    "\n",
    "    # Encode patches.\n",
    "    cct_tokenizer = CCTTokenizer()\n",
    "    encoded_patches = cct_tokenizer(augmented)\n",
    "\n",
    "    # Apply positional embedding.\n",
    "    if positional_emb:\n",
    "        pos_embed, seq_length = cct_tokenizer.positional_embedding(image_size)\n",
    "        positions = tf.range(start=0, limit=seq_length, delta=1)\n",
    "        position_embeddings = pos_embed(positions)\n",
    "        encoded_patches += position_embeddings\n",
    "\n",
    "    # Calculate Stochastic Depth probabilities.\n",
    "    dpr = [x for x in np.linspace(0, stochastic_depth_rate, transformer_layers)]\n",
    "\n",
    "    # Create multiple layers of the Transformer block.\n",
    "    for i in range(transformer_layers):\n",
    "        # Layer normalization 1.\n",
    "        x1 = layers.LayerNormalization(epsilon=1e-5)(encoded_patches)\n",
    "\n",
    "        # Create a multi-head attention layer.\n",
    "        attention_output = layers.MultiHeadAttention(\n",
    "            num_heads=num_heads, key_dim=projection_dim, dropout=0.1\n",
    "        )(x1, x1)\n",
    "\n",
    "        # Skip connection 1.\n",
    "        attention_output = StochasticDepth(dpr[i])(attention_output)\n",
    "        x2 = layers.Add()([attention_output, encoded_patches])\n",
    "\n",
    "        # Layer normalization 2.\n",
    "        x3 = layers.LayerNormalization(epsilon=1e-5)(x2)\n",
    "\n",
    "        # MLP.\n",
    "        x3 = mlp(x3, hidden_units=transformer_units, dropout_rate=0.1)\n",
    "\n",
    "        # Skip connection 2.\n",
    "        x3 = StochasticDepth(dpr[i])(x3)\n",
    "        encoded_patches = layers.Add()([x3, x2])\n",
    "\n",
    "    # Apply sequence pooling.\n",
    "    representation = layers.LayerNormalization(epsilon=1e-5)(encoded_patches)\n",
    "    attention_weights = tf.nn.softmax(layers.Dense(1)(representation), axis=1)\n",
    "    weighted_representation = tf.matmul(\n",
    "        attention_weights, representation, transpose_a=True\n",
    "    )\n",
    "    weighted_representation = tf.squeeze(weighted_representation, -2)\n",
    "\n",
    "    # Classify outputs.\n",
    "    logits = layers.Dense(num_classes)(weighted_representation)\n",
    "    # Create the Keras model.\n",
    "    model = keras.Model(inputs=inputs, outputs=logits)\n",
    "    return model\n"
   ]
  },
  {
   "cell_type": "code",
   "execution_count": 17,
   "id": "3f6b66b2-688e-466a-9d63-c08e24618535",
   "metadata": {
    "tags": []
   },
   "outputs": [
    {
     "name": "stdout",
     "output_type": "stream",
     "text": [
      "Model: \"model\"\n",
      "__________________________________________________________________________________________________\n",
      " Layer (type)                   Output Shape         Param #     Connected to                     \n",
      "==================================================================================================\n",
      " input_1 (InputLayer)           [(None, 192, 192, 3  0           []                               \n",
      "                                )]                                                                \n",
      "                                                                                                  \n",
      " data_augmentation (Sequential)  (None, 192, 192, 3)  0          ['input_1[0][0]']                \n",
      "                                                                                                  \n",
      " cct_tokenizer (CCTTokenizer)   (None, 2304, 64)     19296       ['data_augmentation[0][0]']      \n",
      "                                                                                                  \n",
      " tf.__operators__.add (TFOpLamb  (None, 2304, 64)    0           ['cct_tokenizer[0][0]']          \n",
      " da)                                                                                              \n",
      "                                                                                                  \n",
      " layer_normalization (LayerNorm  (None, 2304, 64)    128         ['tf.__operators__.add[0][0]']   \n",
      " alization)                                                                                       \n",
      "                                                                                                  \n",
      " multi_head_attention (MultiHea  (None, 2304, 64)    33216       ['layer_normalization[0][0]',    \n",
      " dAttention)                                                      'layer_normalization[0][0]']    \n",
      "                                                                                                  \n",
      " stochastic_depth (StochasticDe  (None, 2304, 64)    0           ['multi_head_attention[0][0]']   \n",
      " pth)                                                                                             \n",
      "                                                                                                  \n",
      " add (Add)                      (None, 2304, 64)     0           ['stochastic_depth[0][0]',       \n",
      "                                                                  'tf.__operators__.add[0][0]']   \n",
      "                                                                                                  \n",
      " layer_normalization_1 (LayerNo  (None, 2304, 64)    128         ['add[0][0]']                    \n",
      " rmalization)                                                                                     \n",
      "                                                                                                  \n",
      " dense_2 (Dense)                (None, 2304, 64)     4160        ['layer_normalization_1[0][0]']  \n",
      "                                                                                                  \n",
      " dropout_1 (Dropout)            (None, 2304, 64)     0           ['dense_2[0][0]']                \n",
      "                                                                                                  \n",
      " dense_3 (Dense)                (None, 2304, 64)     4160        ['dropout_1[0][0]']              \n",
      "                                                                                                  \n",
      " dropout_2 (Dropout)            (None, 2304, 64)     0           ['dense_3[0][0]']                \n",
      "                                                                                                  \n",
      " stochastic_depth_1 (Stochastic  (None, 2304, 64)    0           ['dropout_2[0][0]']              \n",
      " Depth)                                                                                           \n",
      "                                                                                                  \n",
      " add_1 (Add)                    (None, 2304, 64)     0           ['stochastic_depth_1[0][0]',     \n",
      "                                                                  'add[0][0]']                    \n",
      "                                                                                                  \n",
      " layer_normalization_2 (LayerNo  (None, 2304, 64)    128         ['add_1[0][0]']                  \n",
      " rmalization)                                                                                     \n",
      "                                                                                                  \n",
      " multi_head_attention_1 (MultiH  (None, 2304, 64)    33216       ['layer_normalization_2[0][0]',  \n",
      " eadAttention)                                                    'layer_normalization_2[0][0]']  \n",
      "                                                                                                  \n",
      " stochastic_depth_2 (Stochastic  (None, 2304, 64)    0           ['multi_head_attention_1[0][0]'] \n",
      " Depth)                                                                                           \n",
      "                                                                                                  \n",
      " add_2 (Add)                    (None, 2304, 64)     0           ['stochastic_depth_2[0][0]',     \n",
      "                                                                  'add_1[0][0]']                  \n",
      "                                                                                                  \n",
      " layer_normalization_3 (LayerNo  (None, 2304, 64)    128         ['add_2[0][0]']                  \n",
      " rmalization)                                                                                     \n",
      "                                                                                                  \n",
      " dense_4 (Dense)                (None, 2304, 64)     4160        ['layer_normalization_3[0][0]']  \n",
      "                                                                                                  \n",
      " dropout_3 (Dropout)            (None, 2304, 64)     0           ['dense_4[0][0]']                \n",
      "                                                                                                  \n",
      " dense_5 (Dense)                (None, 2304, 64)     4160        ['dropout_3[0][0]']              \n",
      "                                                                                                  \n",
      " dropout_4 (Dropout)            (None, 2304, 64)     0           ['dense_5[0][0]']                \n",
      "                                                                                                  \n",
      " stochastic_depth_3 (Stochastic  (None, 2304, 64)    0           ['dropout_4[0][0]']              \n",
      " Depth)                                                                                           \n",
      "                                                                                                  \n",
      " add_3 (Add)                    (None, 2304, 64)     0           ['stochastic_depth_3[0][0]',     \n",
      "                                                                  'add_2[0][0]']                  \n",
      "                                                                                                  \n",
      " layer_normalization_4 (LayerNo  (None, 2304, 64)    128         ['add_3[0][0]']                  \n",
      " rmalization)                                                                                     \n",
      "                                                                                                  \n",
      " dense_6 (Dense)                (None, 2304, 1)      65          ['layer_normalization_4[0][0]']  \n",
      "                                                                                                  \n",
      " tf.nn.softmax (TFOpLambda)     (None, 2304, 1)      0           ['dense_6[0][0]']                \n",
      "                                                                                                  \n",
      " tf.linalg.matmul (TFOpLambda)  (None, 1, 64)        0           ['tf.nn.softmax[0][0]',          \n",
      "                                                                  'layer_normalization_4[0][0]']  \n",
      "                                                                                                  \n",
      " tf.compat.v1.squeeze (TFOpLamb  (None, 64)          0           ['tf.linalg.matmul[0][0]']       \n",
      " da)                                                                                              \n",
      "                                                                                                  \n",
      " dense_7 (Dense)                (None, 5)            325         ['tf.compat.v1.squeeze[0][0]']   \n",
      "                                                                                                  \n",
      "==================================================================================================\n",
      "Total params: 103,398\n",
      "Trainable params: 103,398\n",
      "Non-trainable params: 0\n",
      "__________________________________________________________________________________________________\n"
     ]
    }
   ],
   "source": [
    "cct_model = create_cct_model()\n",
    "cct_model.compile(\n",
    "    optimizer='adam',\n",
    "    loss=tf.keras.losses.SparseCategoricalCrossentropy(from_logits=True),\n",
    "    metrics=['accuracy'],\n",
    ")\n",
    "cct_model.build((None, img_height, img_width, 3))\n",
    "cct_model.summary()"
   ]
  },
  {
   "cell_type": "code",
   "execution_count": 18,
   "id": "d1622fc4-2079-4e97-a05e-a0088e300a4a",
   "metadata": {
    "tags": []
   },
   "outputs": [
    {
     "name": "stdout",
     "output_type": "stream",
     "text": [
      "Epoch 1/10\n",
      "47/47 [==============================] - 755s 16s/step - loss: 1.4916 - accuracy: 0.3883 - val_loss: 1.0406 - val_accuracy: 0.5660\n",
      "Epoch 2/10\n",
      "47/47 [==============================] - 750s 16s/step - loss: 1.0824 - accuracy: 0.5734 - val_loss: 0.9490 - val_accuracy: 0.6415\n",
      "Epoch 3/10\n",
      "47/47 [==============================] - 750s 16s/step - loss: 0.9851 - accuracy: 0.6144 - val_loss: 0.9413 - val_accuracy: 0.6469\n",
      "Epoch 4/10\n",
      "47/47 [==============================] - 750s 16s/step - loss: 0.9312 - accuracy: 0.6460 - val_loss: 0.8532 - val_accuracy: 0.6792\n",
      "Epoch 5/10\n",
      "47/47 [==============================] - 749s 16s/step - loss: 0.8879 - accuracy: 0.6669 - val_loss: 0.8374 - val_accuracy: 0.6954\n",
      "Epoch 6/10\n",
      "47/47 [==============================] - 748s 16s/step - loss: 0.8372 - accuracy: 0.6797 - val_loss: 0.8647 - val_accuracy: 0.6604\n",
      "Epoch 7/10\n",
      "47/47 [==============================] - 749s 16s/step - loss: 0.7737 - accuracy: 0.7234 - val_loss: 0.7618 - val_accuracy: 0.7332\n",
      "Epoch 8/10\n",
      "47/47 [==============================] - 749s 16s/step - loss: 0.7475 - accuracy: 0.7147 - val_loss: 0.8797 - val_accuracy: 0.6981\n",
      "Epoch 9/10\n",
      "47/47 [==============================] - 750s 16s/step - loss: 0.7394 - accuracy: 0.7288 - val_loss: 0.7689 - val_accuracy: 0.7332\n",
      "Epoch 10/10\n",
      "47/47 [==============================] - 751s 16s/step - loss: 0.6705 - accuracy: 0.7470 - val_loss: 0.7120 - val_accuracy: 0.7439\n"
     ]
    }
   ],
   "source": [
    "cct_history = cct_model.fit(train_ds, validation_data=val_ds, epochs=epochs)"
   ]
  },
  {
   "cell_type": "markdown",
   "id": "14e81963-d87a-4615-9f11-4f6348206518",
   "metadata": {},
   "source": [
    "## Summary"
   ]
  },
  {
   "cell_type": "code",
   "execution_count": 19,
   "id": "5a45e174-b0bd-4005-baff-92c3bc02c0f7",
   "metadata": {
    "tags": []
   },
   "outputs": [],
   "source": [
    "def plot_history(history, title):\n",
    "    plt.plot(history.history['accuracy'])\n",
    "    plt.plot(history.history['val_accuracy'])\n",
    "    plt.title(title)\n",
    "    plt.ylabel('accuracy')\n",
    "    plt.xlabel('epoch')\n",
    "    plt.legend(['train', 'val'], loc='upper left')"
   ]
  },
  {
   "cell_type": "code",
   "execution_count": 20,
   "id": "884165d9-9fb8-4358-8b7f-b8f8bc076bc8",
   "metadata": {
    "tags": []
   },
   "outputs": [
    {
     "data": {
      "image/png": "[encoded data removed]",
      "text/plain": [
       "<Figure size 1600x800 with 2 Axes>"
      ]
     },
     "metadata": {},
     "output_type": "display_data"
    }
   ],
   "source": [
    "plt.figure(figsize=(16, 8))\n",
    "plt.subplot(1, 2, 1, ylim=(0, 1))\n",
    "plot_history(bit_history, 'BiT model accuracy')\n",
    "plt.subplot(1, 2, 2, ylim=(0, 1))\n",
    "plot_history(cct_history, 'CCT model accuracy')\n",
    "plt.show()"
   ]
  },
  {
   "cell_type": "markdown",
   "id": "3cf4b6da-5050-4155-9048-796474812be5",
   "metadata": {},
   "source": [
    "The CCT model had about the same number of paramaters as the BiT model, but did not perform as well. It also took a lot longer to train. BiT was also easier to set up, since it uses mostly standard tensorflow libraries. "
   ]
  },
  {
   "cell_type": "code",
   "execution_count": null,
   "id": "5a6bc2d6-4d13-4239-bc60-f38a8669d45b",
   "metadata": {},
   "outputs": [],
   "source": []
  }
 ],
 "metadata": {
  "kernelspec": {
   "display_name": "Python 3 (ipykernel)",
   "language": "python",
   "name": "python3"
  },
  "language_info": {
   "codemirror_mode": {
    "name": "ipython",
    "version": 3
   },
   "file_extension": ".py",
   "mimetype": "text/x-python",
   "name": "python",
   "nbconvert_exporter": "python",
   "pygments_lexer": "ipython3",
   "version": "3.10.10"
  }
 },
 "nbformat": 4,
 "nbformat_minor": 5
}
